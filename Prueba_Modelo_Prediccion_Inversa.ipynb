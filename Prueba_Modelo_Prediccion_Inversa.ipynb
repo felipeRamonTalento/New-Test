{
 "cells": [
  {
   "cell_type": "code",
   "execution_count": 3,
   "metadata": {},
   "outputs": [],
   "source": [
    "#Felipe Ramon Garcia\n",
    "#11/01/2024\n",
    "# Librerias basicas:\n",
    "import pandas as pd\n",
    "import numpy as np\n",
    "import seaborn as sns\n",
    "import warnings \n",
    "import os\n",
    "import joblib\n",
    "import xgboost as xgb\n",
    "import matplotlib.pyplot as plt\n",
    "from statsmodels.tsa.vector_ar.var_model import VAR\n",
    "from itertools import product\n",
    "\n",
    "from sklearn.metrics import mean_squared_error, mean_absolute_error, r2_score\n",
    "from sklearn.tree import DecisionTreeRegressor\n",
    "from sklearn.preprocessing import StandardScaler\n",
    "from sklearn.ensemble import RandomForestRegressor, GradientBoostingRegressor\n",
    "from sklearn.model_selection import train_test_split, GridSearchCV\n",
    "from sklearn.svm import SVR\n",
    "from sklearn.tree import DecisionTreeRegressor\n",
    "\n",
    "sns.set_style('darkgrid')\n",
    "np.set_printoptions(precision=2)\n",
    "warnings.filterwarnings(\"ignore\")"
   ]
  },
  {
   "cell_type": "markdown",
   "metadata": {},
   "source": [
    "Objetivo: dado alloy, area y thickness---> obtener: v,ramptime,holding time"
   ]
  },
  {
   "cell_type": "code",
   "execution_count": 4,
   "metadata": {},
   "outputs": [
    {
     "data": {
      "text/html": [
       "<div>\n",
       "<style scoped>\n",
       "    .dataframe tbody tr th:only-of-type {\n",
       "        vertical-align: middle;\n",
       "    }\n",
       "\n",
       "    .dataframe tbody tr th {\n",
       "        vertical-align: top;\n",
       "    }\n",
       "\n",
       "    .dataframe thead th {\n",
       "        text-align: right;\n",
       "    }\n",
       "</style>\n",
       "<table border=\"1\" class=\"dataframe\">\n",
       "  <thead>\n",
       "    <tr style=\"text-align: right;\">\n",
       "      <th></th>\n",
       "      <th>Timestamp</th>\n",
       "      <th>Time</th>\n",
       "      <th>V</th>\n",
       "      <th>A</th>\n",
       "      <th>T</th>\n",
       "      <th>alloy</th>\n",
       "      <th>voltage</th>\n",
       "      <th>ramp_time</th>\n",
       "      <th>holding_time</th>\n",
       "      <th>area</th>\n",
       "      <th>Imax</th>\n",
       "      <th>modeling_thickness</th>\n",
       "      <th>final_thickness</th>\n",
       "    </tr>\n",
       "  </thead>\n",
       "  <tbody>\n",
       "    <tr>\n",
       "      <th>0</th>\n",
       "      <td>1.687423e+09</td>\n",
       "      <td>2023-06-22 08:31:28</td>\n",
       "      <td>0.03</td>\n",
       "      <td>0.00</td>\n",
       "      <td>38.1</td>\n",
       "      <td>7075</td>\n",
       "      <td>14</td>\n",
       "      <td>30</td>\n",
       "      <td>20.0</td>\n",
       "      <td>0.5</td>\n",
       "      <td>0.53</td>\n",
       "      <td>0.0</td>\n",
       "      <td>1.204514</td>\n",
       "    </tr>\n",
       "    <tr>\n",
       "      <th>1</th>\n",
       "      <td>1.687423e+09</td>\n",
       "      <td>2023-06-22 08:31:29</td>\n",
       "      <td>0.03</td>\n",
       "      <td>0.00</td>\n",
       "      <td>38.1</td>\n",
       "      <td>7075</td>\n",
       "      <td>14</td>\n",
       "      <td>30</td>\n",
       "      <td>20.0</td>\n",
       "      <td>0.5</td>\n",
       "      <td>0.53</td>\n",
       "      <td>0.0</td>\n",
       "      <td>1.204514</td>\n",
       "    </tr>\n",
       "    <tr>\n",
       "      <th>2</th>\n",
       "      <td>1.687423e+09</td>\n",
       "      <td>2023-06-22 08:31:29</td>\n",
       "      <td>0.03</td>\n",
       "      <td>0.01</td>\n",
       "      <td>38.1</td>\n",
       "      <td>7075</td>\n",
       "      <td>14</td>\n",
       "      <td>30</td>\n",
       "      <td>20.0</td>\n",
       "      <td>0.5</td>\n",
       "      <td>0.53</td>\n",
       "      <td>0.0</td>\n",
       "      <td>1.204514</td>\n",
       "    </tr>\n",
       "    <tr>\n",
       "      <th>3</th>\n",
       "      <td>1.687423e+09</td>\n",
       "      <td>2023-06-22 08:31:30</td>\n",
       "      <td>0.03</td>\n",
       "      <td>0.00</td>\n",
       "      <td>38.1</td>\n",
       "      <td>7075</td>\n",
       "      <td>14</td>\n",
       "      <td>30</td>\n",
       "      <td>20.0</td>\n",
       "      <td>0.5</td>\n",
       "      <td>0.53</td>\n",
       "      <td>0.0</td>\n",
       "      <td>1.204514</td>\n",
       "    </tr>\n",
       "    <tr>\n",
       "      <th>4</th>\n",
       "      <td>1.687423e+09</td>\n",
       "      <td>2023-06-22 08:31:31</td>\n",
       "      <td>0.03</td>\n",
       "      <td>0.00</td>\n",
       "      <td>38.1</td>\n",
       "      <td>7075</td>\n",
       "      <td>14</td>\n",
       "      <td>30</td>\n",
       "      <td>20.0</td>\n",
       "      <td>0.5</td>\n",
       "      <td>0.53</td>\n",
       "      <td>0.0</td>\n",
       "      <td>1.204514</td>\n",
       "    </tr>\n",
       "    <tr>\n",
       "      <th>5</th>\n",
       "      <td>1.687423e+09</td>\n",
       "      <td>2023-06-22 08:31:32</td>\n",
       "      <td>0.03</td>\n",
       "      <td>0.01</td>\n",
       "      <td>38.1</td>\n",
       "      <td>7075</td>\n",
       "      <td>14</td>\n",
       "      <td>30</td>\n",
       "      <td>20.0</td>\n",
       "      <td>0.5</td>\n",
       "      <td>0.53</td>\n",
       "      <td>0.0</td>\n",
       "      <td>1.204514</td>\n",
       "    </tr>\n",
       "    <tr>\n",
       "      <th>6</th>\n",
       "      <td>1.687423e+09</td>\n",
       "      <td>2023-06-22 08:31:32</td>\n",
       "      <td>0.03</td>\n",
       "      <td>0.01</td>\n",
       "      <td>38.1</td>\n",
       "      <td>7075</td>\n",
       "      <td>14</td>\n",
       "      <td>30</td>\n",
       "      <td>20.0</td>\n",
       "      <td>0.5</td>\n",
       "      <td>0.53</td>\n",
       "      <td>0.0</td>\n",
       "      <td>1.204514</td>\n",
       "    </tr>\n",
       "    <tr>\n",
       "      <th>7</th>\n",
       "      <td>1.687423e+09</td>\n",
       "      <td>2023-06-22 08:31:33</td>\n",
       "      <td>0.03</td>\n",
       "      <td>0.01</td>\n",
       "      <td>38.1</td>\n",
       "      <td>7075</td>\n",
       "      <td>14</td>\n",
       "      <td>30</td>\n",
       "      <td>20.0</td>\n",
       "      <td>0.5</td>\n",
       "      <td>0.53</td>\n",
       "      <td>0.0</td>\n",
       "      <td>1.204514</td>\n",
       "    </tr>\n",
       "    <tr>\n",
       "      <th>8</th>\n",
       "      <td>1.687423e+09</td>\n",
       "      <td>2023-06-22 08:31:34</td>\n",
       "      <td>0.03</td>\n",
       "      <td>0.00</td>\n",
       "      <td>38.1</td>\n",
       "      <td>7075</td>\n",
       "      <td>14</td>\n",
       "      <td>30</td>\n",
       "      <td>20.0</td>\n",
       "      <td>0.5</td>\n",
       "      <td>0.53</td>\n",
       "      <td>0.0</td>\n",
       "      <td>1.204514</td>\n",
       "    </tr>\n",
       "    <tr>\n",
       "      <th>9</th>\n",
       "      <td>1.687423e+09</td>\n",
       "      <td>2023-06-22 08:31:35</td>\n",
       "      <td>0.03</td>\n",
       "      <td>0.01</td>\n",
       "      <td>38.1</td>\n",
       "      <td>7075</td>\n",
       "      <td>14</td>\n",
       "      <td>30</td>\n",
       "      <td>20.0</td>\n",
       "      <td>0.5</td>\n",
       "      <td>0.53</td>\n",
       "      <td>0.0</td>\n",
       "      <td>1.204514</td>\n",
       "    </tr>\n",
       "    <tr>\n",
       "      <th>10</th>\n",
       "      <td>1.687423e+09</td>\n",
       "      <td>2023-06-22 08:31:35</td>\n",
       "      <td>0.03</td>\n",
       "      <td>0.01</td>\n",
       "      <td>38.1</td>\n",
       "      <td>7075</td>\n",
       "      <td>14</td>\n",
       "      <td>30</td>\n",
       "      <td>20.0</td>\n",
       "      <td>0.5</td>\n",
       "      <td>0.53</td>\n",
       "      <td>0.0</td>\n",
       "      <td>1.204514</td>\n",
       "    </tr>\n",
       "    <tr>\n",
       "      <th>11</th>\n",
       "      <td>1.687423e+09</td>\n",
       "      <td>2023-06-22 08:31:36</td>\n",
       "      <td>0.03</td>\n",
       "      <td>0.00</td>\n",
       "      <td>38.1</td>\n",
       "      <td>7075</td>\n",
       "      <td>14</td>\n",
       "      <td>30</td>\n",
       "      <td>20.0</td>\n",
       "      <td>0.5</td>\n",
       "      <td>0.53</td>\n",
       "      <td>0.0</td>\n",
       "      <td>1.204514</td>\n",
       "    </tr>\n",
       "  </tbody>\n",
       "</table>\n",
       "</div>"
      ],
      "text/plain": [
       "       Timestamp                 Time     V     A     T  alloy  voltage  \\\n",
       "0   1.687423e+09  2023-06-22 08:31:28  0.03  0.00  38.1   7075       14   \n",
       "1   1.687423e+09  2023-06-22 08:31:29  0.03  0.00  38.1   7075       14   \n",
       "2   1.687423e+09  2023-06-22 08:31:29  0.03  0.01  38.1   7075       14   \n",
       "3   1.687423e+09  2023-06-22 08:31:30  0.03  0.00  38.1   7075       14   \n",
       "4   1.687423e+09  2023-06-22 08:31:31  0.03  0.00  38.1   7075       14   \n",
       "5   1.687423e+09  2023-06-22 08:31:32  0.03  0.01  38.1   7075       14   \n",
       "6   1.687423e+09  2023-06-22 08:31:32  0.03  0.01  38.1   7075       14   \n",
       "7   1.687423e+09  2023-06-22 08:31:33  0.03  0.01  38.1   7075       14   \n",
       "8   1.687423e+09  2023-06-22 08:31:34  0.03  0.00  38.1   7075       14   \n",
       "9   1.687423e+09  2023-06-22 08:31:35  0.03  0.01  38.1   7075       14   \n",
       "10  1.687423e+09  2023-06-22 08:31:35  0.03  0.01  38.1   7075       14   \n",
       "11  1.687423e+09  2023-06-22 08:31:36  0.03  0.00  38.1   7075       14   \n",
       "\n",
       "    ramp_time  holding_time  area  Imax  modeling_thickness  final_thickness  \n",
       "0          30          20.0   0.5  0.53                 0.0         1.204514  \n",
       "1          30          20.0   0.5  0.53                 0.0         1.204514  \n",
       "2          30          20.0   0.5  0.53                 0.0         1.204514  \n",
       "3          30          20.0   0.5  0.53                 0.0         1.204514  \n",
       "4          30          20.0   0.5  0.53                 0.0         1.204514  \n",
       "5          30          20.0   0.5  0.53                 0.0         1.204514  \n",
       "6          30          20.0   0.5  0.53                 0.0         1.204514  \n",
       "7          30          20.0   0.5  0.53                 0.0         1.204514  \n",
       "8          30          20.0   0.5  0.53                 0.0         1.204514  \n",
       "9          30          20.0   0.5  0.53                 0.0         1.204514  \n",
       "10         30          20.0   0.5  0.53                 0.0         1.204514  \n",
       "11         30          20.0   0.5  0.53                 0.0         1.204514  "
      ]
     },
     "execution_count": 4,
     "metadata": {},
     "output_type": "execute_result"
    }
   ],
   "source": [
    "df_autotreat = pd.read_csv(\"data_analyst.csv\")\n",
    "df_autotreat.head(12)"
   ]
  },
  {
   "cell_type": "code",
   "execution_count": 35,
   "metadata": {},
   "outputs": [
    {
     "data": {
      "image/png": "[encoded data removed]",
      "text/plain": [
       "<Figure size 1000x500 with 1 Axes>"
      ]
     },
     "metadata": {},
     "output_type": "display_data"
    }
   ],
   "source": [
    "muesta_fin=270000\n",
    "muestra_in=200000\n",
    "df_autotreat['final_thickness'].iloc[muestra_in:muesta_fin].plot(figsize=(10,5))\n",
    "plt.plot(df_autotreat['modeling_thickness'].iloc[muestra_in:muesta_fin],label='modeling_thickness')\n",
    "plt.plot(df_autotreat['V'].iloc[muestra_in:muesta_fin],label='v')\n",
    "plt.plot(df_autotreat['voltage'].iloc[muestra_in:muesta_fin],label='voltage')\n",
    "plt.plot(df_autotreat['ramp_time'].iloc[muestra_in:muesta_fin],label='ramp_time')\n",
    "plt.plot(df_autotreat['holding_time'].iloc[muestra_in:muesta_fin],label='holding_time')\n",
    "plt.grid(alpha=0.5, which='both')\n",
    "plt.xlabel('index')\n",
    "plt.ylabel('Scaled data')\n",
    "plt.legend()\n",
    "plt.show()"
   ]
  },
  {
   "cell_type": "markdown",
   "metadata": {},
   "source": [
    "## Prediccion Inversa"
   ]
  },
  {
   "cell_type": "code",
   "execution_count": 103,
   "metadata": {},
   "outputs": [
    {
     "data": {
      "text/html": [
       "<div>\n",
       "<style scoped>\n",
       "    .dataframe tbody tr th:only-of-type {\n",
       "        vertical-align: middle;\n",
       "    }\n",
       "\n",
       "    .dataframe tbody tr th {\n",
       "        vertical-align: top;\n",
       "    }\n",
       "\n",
       "    .dataframe thead th {\n",
       "        text-align: right;\n",
       "    }\n",
       "</style>\n",
       "<table border=\"1\" class=\"dataframe\">\n",
       "  <thead>\n",
       "    <tr style=\"text-align: right;\">\n",
       "      <th></th>\n",
       "      <th>Timestamp</th>\n",
       "      <th>Time</th>\n",
       "      <th>V</th>\n",
       "      <th>A</th>\n",
       "      <th>T</th>\n",
       "      <th>alloy</th>\n",
       "      <th>voltage</th>\n",
       "      <th>ramp_time</th>\n",
       "      <th>holding_time</th>\n",
       "      <th>area</th>\n",
       "      <th>Imax</th>\n",
       "      <th>modeling_thickness</th>\n",
       "      <th>final_thickness</th>\n",
       "    </tr>\n",
       "  </thead>\n",
       "  <tbody>\n",
       "    <tr>\n",
       "      <th>0</th>\n",
       "      <td>1.687423e+09</td>\n",
       "      <td>2023-06-22 08:31:28</td>\n",
       "      <td>0.03</td>\n",
       "      <td>0.00</td>\n",
       "      <td>38.1</td>\n",
       "      <td>7075</td>\n",
       "      <td>14</td>\n",
       "      <td>30</td>\n",
       "      <td>20.0</td>\n",
       "      <td>0.5</td>\n",
       "      <td>0.53</td>\n",
       "      <td>0.0</td>\n",
       "      <td>1.204514</td>\n",
       "    </tr>\n",
       "    <tr>\n",
       "      <th>1</th>\n",
       "      <td>1.687423e+09</td>\n",
       "      <td>2023-06-22 08:31:29</td>\n",
       "      <td>0.03</td>\n",
       "      <td>0.00</td>\n",
       "      <td>38.1</td>\n",
       "      <td>7075</td>\n",
       "      <td>14</td>\n",
       "      <td>30</td>\n",
       "      <td>20.0</td>\n",
       "      <td>0.5</td>\n",
       "      <td>0.53</td>\n",
       "      <td>0.0</td>\n",
       "      <td>1.204514</td>\n",
       "    </tr>\n",
       "    <tr>\n",
       "      <th>2</th>\n",
       "      <td>1.687423e+09</td>\n",
       "      <td>2023-06-22 08:31:29</td>\n",
       "      <td>0.03</td>\n",
       "      <td>0.01</td>\n",
       "      <td>38.1</td>\n",
       "      <td>7075</td>\n",
       "      <td>14</td>\n",
       "      <td>30</td>\n",
       "      <td>20.0</td>\n",
       "      <td>0.5</td>\n",
       "      <td>0.53</td>\n",
       "      <td>0.0</td>\n",
       "      <td>1.204514</td>\n",
       "    </tr>\n",
       "    <tr>\n",
       "      <th>3</th>\n",
       "      <td>1.687423e+09</td>\n",
       "      <td>2023-06-22 08:31:30</td>\n",
       "      <td>0.03</td>\n",
       "      <td>0.00</td>\n",
       "      <td>38.1</td>\n",
       "      <td>7075</td>\n",
       "      <td>14</td>\n",
       "      <td>30</td>\n",
       "      <td>20.0</td>\n",
       "      <td>0.5</td>\n",
       "      <td>0.53</td>\n",
       "      <td>0.0</td>\n",
       "      <td>1.204514</td>\n",
       "    </tr>\n",
       "    <tr>\n",
       "      <th>4</th>\n",
       "      <td>1.687423e+09</td>\n",
       "      <td>2023-06-22 08:31:31</td>\n",
       "      <td>0.03</td>\n",
       "      <td>0.00</td>\n",
       "      <td>38.1</td>\n",
       "      <td>7075</td>\n",
       "      <td>14</td>\n",
       "      <td>30</td>\n",
       "      <td>20.0</td>\n",
       "      <td>0.5</td>\n",
       "      <td>0.53</td>\n",
       "      <td>0.0</td>\n",
       "      <td>1.204514</td>\n",
       "    </tr>\n",
       "  </tbody>\n",
       "</table>\n",
       "</div>"
      ],
      "text/plain": [
       "      Timestamp                 Time     V     A     T  alloy  voltage  \\\n",
       "0  1.687423e+09  2023-06-22 08:31:28  0.03  0.00  38.1   7075       14   \n",
       "1  1.687423e+09  2023-06-22 08:31:29  0.03  0.00  38.1   7075       14   \n",
       "2  1.687423e+09  2023-06-22 08:31:29  0.03  0.01  38.1   7075       14   \n",
       "3  1.687423e+09  2023-06-22 08:31:30  0.03  0.00  38.1   7075       14   \n",
       "4  1.687423e+09  2023-06-22 08:31:31  0.03  0.00  38.1   7075       14   \n",
       "\n",
       "   ramp_time  holding_time  area  Imax  modeling_thickness  final_thickness  \n",
       "0         30          20.0   0.5  0.53                 0.0         1.204514  \n",
       "1         30          20.0   0.5  0.53                 0.0         1.204514  \n",
       "2         30          20.0   0.5  0.53                 0.0         1.204514  \n",
       "3         30          20.0   0.5  0.53                 0.0         1.204514  \n",
       "4         30          20.0   0.5  0.53                 0.0         1.204514  "
      ]
     },
     "execution_count": 103,
     "metadata": {},
     "output_type": "execute_result"
    }
   ],
   "source": [
    "df_autotreat.head(5)"
   ]
  },
  {
   "cell_type": "markdown",
   "metadata": {},
   "source": [
    "Se va a obtener del dataframe anterior los datos especificos de cada V,holndig y ramp para los espesores finales dados"
   ]
  },
  {
   "cell_type": "code",
   "execution_count": 5,
   "metadata": {},
   "outputs": [
    {
     "data": {
      "text/html": [
       "<div>\n",
       "<style scoped>\n",
       "    .dataframe tbody tr th:only-of-type {\n",
       "        vertical-align: middle;\n",
       "    }\n",
       "\n",
       "    .dataframe tbody tr th {\n",
       "        vertical-align: top;\n",
       "    }\n",
       "\n",
       "    .dataframe thead th {\n",
       "        text-align: right;\n",
       "    }\n",
       "</style>\n",
       "<table border=\"1\" class=\"dataframe\">\n",
       "  <thead>\n",
       "    <tr style=\"text-align: right;\">\n",
       "      <th></th>\n",
       "      <th>final_thickness</th>\n",
       "      <th>Voltage</th>\n",
       "      <th>holding_time</th>\n",
       "      <th>ramp_time</th>\n",
       "    </tr>\n",
       "  </thead>\n",
       "  <tbody>\n",
       "    <tr>\n",
       "      <th>0</th>\n",
       "      <td>1.204514</td>\n",
       "      <td>14</td>\n",
       "      <td>20.0</td>\n",
       "      <td>30</td>\n",
       "    </tr>\n",
       "    <tr>\n",
       "      <th>1</th>\n",
       "      <td>3.659806</td>\n",
       "      <td>14</td>\n",
       "      <td>20.0</td>\n",
       "      <td>60</td>\n",
       "    </tr>\n",
       "    <tr>\n",
       "      <th>2</th>\n",
       "      <td>3.633425</td>\n",
       "      <td>14</td>\n",
       "      <td>20.0</td>\n",
       "      <td>60</td>\n",
       "    </tr>\n",
       "    <tr>\n",
       "      <th>3</th>\n",
       "      <td>3.382802</td>\n",
       "      <td>14</td>\n",
       "      <td>20.0</td>\n",
       "      <td>30</td>\n",
       "    </tr>\n",
       "    <tr>\n",
       "      <th>4</th>\n",
       "      <td>3.478467</td>\n",
       "      <td>14</td>\n",
       "      <td>20.0</td>\n",
       "      <td>30</td>\n",
       "    </tr>\n",
       "  </tbody>\n",
       "</table>\n",
       "</div>"
      ],
      "text/plain": [
       "   final_thickness  Voltage  holding_time  ramp_time\n",
       "0         1.204514       14          20.0         30\n",
       "1         3.659806       14          20.0         60\n",
       "2         3.633425       14          20.0         60\n",
       "3         3.382802       14          20.0         30\n",
       "4         3.478467       14          20.0         30"
      ]
     },
     "execution_count": 5,
     "metadata": {},
     "output_type": "execute_result"
    }
   ],
   "source": [
    "def obtener_valores_input(data):\n",
    "    '''del dataframe orignal obtener V,holndig,ramp para cada final thickness'''\n",
    "    unique_final_thickness=data['final_thickness'].unique()\n",
    "    final_thickness=[]\n",
    "    voltg=[]\n",
    "    holding=[]\n",
    "    ramp=[]\n",
    "    for i in unique_final_thickness:\n",
    "        a=data[data['final_thickness'] == i]\n",
    "        len=a.shape[0]\n",
    "        #obtener los valores de los inputs a mitad de cada salto, aqui es mas fiable\n",
    "        v=a['voltage'].iloc[round(len/2)]\n",
    "        h=a['holding_time'].iloc[round(len/2)]\n",
    "        r=a['ramp_time'].iloc[round(len/2)]\n",
    "        final_thickness.append(i)\n",
    "        voltg.append(v)\n",
    "        holding.append(h)\n",
    "        ramp.append(r)\n",
    "    dict={'final_thickness':final_thickness,'Voltage':voltg,'holding_time':holding,'ramp_time':ramp}\n",
    "    df = pd.DataFrame(dict)\n",
    "    return df\n",
    "x_input=obtener_valores_input(df_autotreat)\n",
    "x_input.head()"
   ]
  },
  {
   "cell_type": "code",
   "execution_count": 149,
   "metadata": {},
   "outputs": [
    {
     "data": {
      "image/png": "[encoded data removed]",
      "text/plain": [
       "<Figure size 640x480 with 1 Axes>"
      ]
     },
     "metadata": {},
     "output_type": "display_data"
    }
   ],
   "source": [
    "sns.scatterplot(x='final_thickness',y='Voltage', hue='holding_time', data=x_input)\n",
    "plt.show()\n",
    "#se observan ciertos outliers luego se hablara de ello"
   ]
  },
  {
   "cell_type": "code",
   "execution_count": 16,
   "metadata": {},
   "outputs": [],
   "source": [
    "X = x_input[['Voltage', 'holding_time','ramp_time']] # Habrá que añadir alloy y area si en el futuro tienen variabilidad.\n",
    "y = x_input[['final_thickness']]\n",
    "\n",
    "scaler = StandardScaler()\n",
    "X_scaled = scaler.fit_transform(X)\n",
    "X_train, X_test, y_train, y_test = train_test_split(X_scaled, y, test_size=0.2, random_state=28)"
   ]
  },
  {
   "cell_type": "markdown",
   "metadata": {},
   "source": [
    "Definimos los modelos"
   ]
  },
  {
   "cell_type": "code",
   "execution_count": 52,
   "metadata": {},
   "outputs": [],
   "source": [
    "models_and_params = {\n",
    "        \"Random Forest\": {\n",
    "        \"model\": RandomForestRegressor(random_state=42),\n",
    "        \"grid_params\": {\n",
    "            \"n_estimators\": [50, 100, 200, 500],\n",
    "            \"max_depth\": [None] + list(range(10, 31, 10)),\n",
    "            \"min_samples_split\": [2, 5, 10],\n",
    "            \"min_samples_leaf\": [1, 2, 4]\n",
    "        }\n",
    "    },\n",
    "    \"XGBoost\": {\n",
    "        \"model\": xgb.XGBRegressor(random_state=42),\n",
    "        \"grid_params\": {\n",
    "            \"n_estimators\": [50, 100, 200, 500],\n",
    "            \"max_depth\": list(range(2, 11)),\n",
    "            \"learning_rate\": [0.01, 0.1, 0.2],\n",
    "            \"subsample\": [0.5, 0.8, 1.0],\n",
    "            \"colsample_bytree\": [0.5, 0.8, 1.0]\n",
    "        }},\n",
    "    \"SVM\": {\n",
    "        \"model\": SVR(),\n",
    "        \"grid_params\": {\n",
    "            \"C\": [0.1, 1, 10],\n",
    "            \"kernel\": ['linear', 'rbf', 'poly'],\n",
    "            \"gamma\": ['scale', 'auto']\n",
    "        }\n",
    "    },\n",
    "    \"Decision Tree\": {\n",
    "        \"model\": DecisionTreeRegressor(random_state=42),\n",
    "        \"grid_params\": {\n",
    "            \"max_depth\": [None] + list(range(10, 31, 10)),\n",
    "            \"min_samples_split\": [2, 5, 10],\n",
    "            \"min_samples_leaf\": [1, 2, 4]\n",
    "        }\n",
    "    }\n",
    "}"
   ]
  },
  {
   "cell_type": "markdown",
   "metadata": {},
   "source": [
    "Obtencion de mejores parametros para los modelos"
   ]
  },
  {
   "cell_type": "code",
   "execution_count": 18,
   "metadata": {},
   "outputs": [
    {
     "name": "stdout",
     "output_type": "stream",
     "text": [
      "Grid search for Random Forest...\n",
      "Fitting 5 folds for each of 144 candidates, totalling 720 fits\n",
      "Best parameters: {'max_depth': None, 'min_samples_leaf': 1, 'min_samples_split': 2, 'n_estimators': 50}\n",
      "Best negative MSE: 0.3840967285350866\n",
      "\n",
      "Grid search for XGBoost...\n",
      "Fitting 5 folds for each of 972 candidates, totalling 4860 fits\n",
      "Best parameters: {'colsample_bytree': 0.8, 'learning_rate': 0.1, 'max_depth': 4, 'n_estimators': 50, 'subsample': 0.8}\n",
      "Best negative MSE: 0.3821232734855227\n",
      "\n",
      "Grid search for SVM...\n",
      "Fitting 5 folds for each of 18 candidates, totalling 90 fits\n",
      "Best parameters: {'C': 10, 'gamma': 'auto', 'kernel': 'rbf'}\n",
      "Best negative MSE: 0.32441516597591674\n",
      "\n",
      "Grid search for Decision Tree...\n",
      "Fitting 5 folds for each of 36 candidates, totalling 180 fits\n",
      "Best parameters: {'max_depth': None, 'min_samples_leaf': 1, 'min_samples_split': 2}\n",
      "Best negative MSE: 0.45347671911116166\n",
      "\n"
     ]
    }
   ],
   "source": [
    "for model_name, model_info in models_and_params.items():\n",
    "    print(f\"Grid search for {model_name}...\")\n",
    "    \n",
    "    # Configurar la búsqueda en cuadrícula\n",
    "    grid = GridSearchCV(model_info[\"model\"], \n",
    "                        model_info[\"grid_params\"], \n",
    "                        cv=5, \n",
    "                        scoring='neg_mean_squared_error',\n",
    "                        n_jobs=-1,\n",
    "                        verbose=1)\n",
    "    \n",
    "    # Entrenar el modelo\n",
    "    grid.fit(X_train, y_train)\n",
    "    \n",
    "    # Mejores parámetros y rendimiento\n",
    "    best_params = grid.best_params_\n",
    "    best_score = -grid.best_score_\n",
    "    \n",
    "    print(f\"Best parameters: {best_params}\")\n",
    "    print(f\"Best negative MSE: {best_score}\\n\")"
   ]
  },
  {
   "cell_type": "markdown",
   "metadata": {},
   "source": [
    "Entrenamiento de los modelos"
   ]
  },
  {
   "cell_type": "code",
   "execution_count": 93,
   "metadata": {},
   "outputs": [
    {
     "name": "stdout",
     "output_type": "stream",
     "text": [
      "Fitting 5 folds for each of 972 candidates, totalling 4860 fits\n"
     ]
    },
    {
     "data": {
      "text/plain": [
       "({'colsample_bytree': 1.0,\n",
       "  'learning_rate': 0.2,\n",
       "  'max_depth': 8,\n",
       "  'n_estimators': 100,\n",
       "  'subsample': 0.5},\n",
       " 0.4809854085623971)"
      ]
     },
     "execution_count": 93,
     "metadata": {},
     "output_type": "execute_result"
    }
   ],
   "source": [
    "# Optimizar hiperparámetros para el modelo de XGBoost\n",
    "xgb_grid = GridSearchCV(models_and_params[\"XGBoost\"][\"model\"], \n",
    "                        models_and_params[\"XGBoost\"][\"grid_params\"], \n",
    "                        cv=5, \n",
    "                        scoring='neg_mean_squared_error',\n",
    "                        n_jobs=-1,\n",
    "                        verbose=1)\n",
    "\n",
    "# Entrenar el modelo\n",
    "xgb_grid.fit(X_train, y_train)\n",
    "\n",
    "# Mejores parámetros y rendimiento\n",
    "best_params_xgb = xgb_grid.best_params_\n",
    "best_score_xgb = -xgb_grid.best_score_\n",
    "\n",
    "best_params_xgb, best_score_xgb"
   ]
  },
  {
   "cell_type": "code",
   "execution_count": 130,
   "metadata": {},
   "outputs": [
    {
     "name": "stdout",
     "output_type": "stream",
     "text": [
      "        Test      Pred\n",
      "0   0.247825  0.470493\n",
      "1   3.134800  2.495894\n",
      "2   1.204514  3.585461\n",
      "3   4.146875  3.949755\n",
      "4   0.552958  2.495894\n",
      "5   5.201987  5.501011\n",
      "6   4.609431  4.429586\n",
      "7   4.130625  3.949755\n",
      "8   0.893625  0.672655\n",
      "9   1.525117  1.852199\n",
      "10  1.193854  1.061329\n",
      "11  2.255125  2.132792\n",
      "12  7.344823  6.820526\n",
      "13  5.620625  5.680525\n",
      "14  4.911066  5.118101\n",
      "15  3.121637  3.643175\n",
      "16  0.876354  1.018008\n",
      "17  7.787959  7.869731\n",
      "18  3.496175  3.173791\n",
      "19  2.131578  2.260775\n",
      "20  3.561075  3.173791\n",
      "21  0.307083  0.470493\n",
      "22  1.678050  1.852199\n"
     ]
    },
    {
     "data": {
      "text/plain": [
       "0.892411491830915"
      ]
     },
     "execution_count": 130,
     "metadata": {},
     "output_type": "execute_result"
    }
   ],
   "source": [
    "xgb_best = xgb.XGBRegressor(**{'colsample_bytree': 1.0, 'learning_rate': 0.1, 'max_depth': 3, 'n_estimators': 50, 'subsample': 1.0})\n",
    "xgb_best.fit(X_train, y_train)\n",
    "r2_xgb = r2_score(y_test, xgb_best.predict(X_test))\n",
    "pred_vs_test = pd.DataFrame({'Test': y_test['final_thickness'].tolist(),'Pred': xgb_best.predict(X_test).tolist()})\n",
    "print(pred_vs_test)\n",
    "r2_xgb\n"
   ]
  },
  {
   "cell_type": "code",
   "execution_count": 19,
   "metadata": {},
   "outputs": [
    {
     "name": "stdout",
     "output_type": "stream",
     "text": [
      "Random Forest:\n",
      "        Test      Pred\n",
      "0   0.247825  0.337169\n",
      "1   3.134800  2.603808\n",
      "2   1.204514  3.581156\n",
      "3   4.146875  3.975017\n",
      "4   0.552958  2.603808\n",
      "5   5.201987  5.345277\n",
      "6   4.609431  4.524717\n",
      "7   4.130625  3.975017\n",
      "8   0.893625  0.392452\n",
      "9   1.525117  1.827497\n",
      "10  1.193854  0.983738\n",
      "11  2.255125  2.211574\n",
      "12  7.344823  7.368234\n",
      "13  5.620625  5.553171\n",
      "14  4.911066  5.997757\n",
      "15  3.121637  3.568466\n",
      "16  0.876354  0.773629\n",
      "17  7.787959  7.996397\n",
      "18  3.496175  3.000483\n",
      "19  2.131578  2.202532\n",
      "20  3.561075  3.000483\n",
      "21  0.307083  0.337169\n",
      "22  1.678050  1.827497\n",
      "R^2 Score: 0.8788922666761196\n",
      "\n"
     ]
    }
   ],
   "source": [
    "rf_best = RandomForestRegressor(**{'max_depth': 10, 'min_samples_leaf': 1, 'min_samples_split': 2, 'n_estimators': 200}, random_state=28)\n",
    "rf_best.fit(X_train, y_train)\n",
    "rf_pred=rf_best.predict(X_test)\n",
    "# Evaluar el rendimiento en el conjunto de prueba\n",
    "r2_rf = r2_score(y_test, rf_pred)\n",
    "\n",
    "# Mostrar resultados\n",
    "pred_vs_test_rf = pd.DataFrame({'Test': y_test['final_thickness'].tolist(), 'Pred': rf_pred.tolist()})\n",
    "print(\"Random Forest:\")\n",
    "print(pred_vs_test_rf)\n",
    "print(f\"R^2 Score: {r2_rf}\\n\")\n",
    "\n",
    "# importances = rf_best.feature_importances_\n",
    "# feature_importances = pd.DataFrame({'feature': X.columns, 'importance': importances})"
   ]
  },
  {
   "cell_type": "code",
   "execution_count": 20,
   "metadata": {},
   "outputs": [
    {
     "name": "stdout",
     "output_type": "stream",
     "text": [
      "        feature  importance\n",
      "0       Voltage    0.275066\n",
      "1  holding_time    0.708407\n",
      "2     ramp_time    0.016527\n"
     ]
    }
   ],
   "source": [
    "importances = rf_best.feature_importances_\n",
    "feature_importances = pd.DataFrame({'feature': X.columns, 'importance': importances})\n",
    "print(feature_importances)"
   ]
  },
  {
   "cell_type": "code",
   "execution_count": 23,
   "metadata": {},
   "outputs": [
    {
     "name": "stdout",
     "output_type": "stream",
     "text": [
      "Random Forest:\n",
      "        Test      Pred\n",
      "0   0.247825  0.309953\n",
      "1   3.134800  1.295033\n",
      "2   1.204514  3.578357\n",
      "3   4.146875  4.125440\n",
      "4   0.552958  1.295033\n",
      "5   5.201987  5.380619\n",
      "6   4.609431  4.485648\n",
      "7   4.130625  4.125440\n",
      "8   0.893625  0.472982\n",
      "9   1.525117  1.549134\n",
      "10  1.193854  1.027290\n",
      "11  2.255125  2.122905\n",
      "12  7.344823  7.316173\n",
      "13  5.620625  5.792797\n",
      "14  4.911066  4.959534\n",
      "15  3.121637  3.501985\n",
      "16  0.876354  0.885211\n",
      "17  7.787959  7.992088\n",
      "18  3.496175  3.206804\n",
      "19  2.131578  2.146680\n",
      "20  3.561075  3.206804\n",
      "21  0.307083  0.309953\n",
      "22  1.678050  1.549134\n",
      "R^2 Score: 0.9014249090808506\n",
      "\n"
     ]
    }
   ],
   "source": [
    "#Modelo SVR\n",
    "svr_best = SVR(**{'C': 10, 'gamma': 'auto', 'kernel': 'rbf'})\n",
    "svr_best.fit(X_train, y_train)\n",
    "svr_pred=svr_best.predict(X_test)\n",
    "# Evaluar el rendimiento en el conjunto de prueba\n",
    "r2_svr = r2_score(y_test, svr_pred)\n",
    "\n",
    "# Mostrar resultados\n",
    "pred_vs_test_svr = pd.DataFrame({'Test': y_test['final_thickness'].tolist(), 'Pred': svr_pred.tolist()})\n",
    "print(\"Random Forest:\")\n",
    "print(pred_vs_test_svr)\n",
    "print(f\"R^2 Score: {r2_svr}\\n\")"
   ]
  },
  {
   "cell_type": "markdown",
   "metadata": {},
   "source": [
    "Realizacion de la prediccion inversa, para ello se hace un mallado de V,holding,ramp y luego con el modelo deseado se hacen un conjunto de predicciones del espesor.\n",
    "Con esas predicciones se observa cual es la que mejor se ajusta a la real y se toman los valores de V,holding,ramp de esa como los correctos"
   ]
  },
  {
   "cell_type": "code",
   "execution_count": 132,
   "metadata": {},
   "outputs": [
    {
     "name": "stdout",
     "output_type": "stream",
     "text": [
      "0.307083333333333\n"
     ]
    }
   ],
   "source": [
    "#Prediccion inversa\n",
    "#primera prueba\n",
    "V_test=X['Voltage'].unique().tolist()\n",
    "Holding_test=[20., 10.,  5.,  0.,  1.]\n",
    "Ramp_test=[30,60]\n",
    "combinaciones = np.array(list(product(V_test, Holding_test,Ramp_test)))#mallado de todas las combinaciones posibles\n",
    "comb_scalated=scaler.transform(combinaciones)\n",
    "#esto para a partir de un espesor con pocos decimales sacar el verdadero del dataframe\n",
    "test_thickness=0.307083\n",
    "test_espesor_=x_input[(x_input['final_thickness']>test_thickness-0.0005) & (x_input['final_thickness']<test_thickness+0.0005)]\n",
    "print(test_espesor_['final_thickness'].iloc[0])"
   ]
  },
  {
   "cell_type": "code",
   "execution_count": 133,
   "metadata": {},
   "outputs": [],
   "source": [
    "pred=rf_best.predict(comb_scalated)"
   ]
  },
  {
   "cell_type": "code",
   "execution_count": 134,
   "metadata": {},
   "outputs": [
    {
     "name": "stdout",
     "output_type": "stream",
     "text": [
      "El valor mas cercano es:  0.30788739583333324 El valor esperado es:  0.307083\n",
      "Los inputs calculados son:  [[14.  0. 30.]]\n",
      "Los inputs reales son: \n"
     ]
    },
    {
     "data": {
      "text/html": [
       "<div>\n",
       "<style scoped>\n",
       "    .dataframe tbody tr th:only-of-type {\n",
       "        vertical-align: middle;\n",
       "    }\n",
       "\n",
       "    .dataframe tbody tr th {\n",
       "        vertical-align: top;\n",
       "    }\n",
       "\n",
       "    .dataframe thead th {\n",
       "        text-align: right;\n",
       "    }\n",
       "</style>\n",
       "<table border=\"1\" class=\"dataframe\">\n",
       "  <thead>\n",
       "    <tr style=\"text-align: right;\">\n",
       "      <th></th>\n",
       "      <th>final_thickness</th>\n",
       "      <th>Voltage</th>\n",
       "      <th>holding_time</th>\n",
       "      <th>ramp_time</th>\n",
       "    </tr>\n",
       "  </thead>\n",
       "  <tbody>\n",
       "    <tr>\n",
       "      <th>50</th>\n",
       "      <td>0.307083</td>\n",
       "      <td>14</td>\n",
       "      <td>0.0</td>\n",
       "      <td>60</td>\n",
       "    </tr>\n",
       "  </tbody>\n",
       "</table>\n",
       "</div>"
      ],
      "text/plain": [
       "    final_thickness  Voltage  holding_time  ramp_time\n",
       "50         0.307083       14           0.0         60"
      ]
     },
     "execution_count": 134,
     "metadata": {},
     "output_type": "execute_result"
    }
   ],
   "source": [
    "diferencias_absolutas = np.abs(pred - test_thickness)\n",
    "\n",
    "#índice del valor mínimo\n",
    "indice_valor_minimo = np.argmin(diferencias_absolutas)\n",
    "valor_mas_cercano = pred[indice_valor_minimo]\n",
    "\n",
    "print('El valor mas cercano es: ',valor_mas_cercano,'El valor esperado es: ',test_thickness)\n",
    "inputs = scaler.inverse_transform([comb_scalated[indice_valor_minimo]])\n",
    "print('Los inputs calculados son: ',inputs)\n",
    "print('Los inputs reales son: ')\n",
    "#x_input[x_input['final_thickness']==1.2045138888888722]\n",
    "test_espesor_\n"
   ]
  },
  {
   "cell_type": "code",
   "execution_count": 135,
   "metadata": {},
   "outputs": [
    {
     "name": "stdout",
     "output_type": "stream",
     "text": [
      "El valor mas cercano es:  0.30788739583333324 El valor esperado es:  0.307083\n",
      "Los inputs calculados son:  [14.  0. 60.]\n",
      "Los inputs reales son: \n"
     ]
    },
    {
     "data": {
      "text/html": [
       "<div>\n",
       "<style scoped>\n",
       "    .dataframe tbody tr th:only-of-type {\n",
       "        vertical-align: middle;\n",
       "    }\n",
       "\n",
       "    .dataframe tbody tr th {\n",
       "        vertical-align: top;\n",
       "    }\n",
       "\n",
       "    .dataframe thead th {\n",
       "        text-align: right;\n",
       "    }\n",
       "</style>\n",
       "<table border=\"1\" class=\"dataframe\">\n",
       "  <thead>\n",
       "    <tr style=\"text-align: right;\">\n",
       "      <th></th>\n",
       "      <th>final_thickness</th>\n",
       "      <th>Voltage</th>\n",
       "      <th>holding_time</th>\n",
       "      <th>ramp_time</th>\n",
       "    </tr>\n",
       "  </thead>\n",
       "  <tbody>\n",
       "    <tr>\n",
       "      <th>50</th>\n",
       "      <td>0.307083</td>\n",
       "      <td>14</td>\n",
       "      <td>0.0</td>\n",
       "      <td>60</td>\n",
       "    </tr>\n",
       "  </tbody>\n",
       "</table>\n",
       "</div>"
      ],
      "text/plain": [
       "    final_thickness  Voltage  holding_time  ramp_time\n",
       "50         0.307083       14           0.0         60"
      ]
     },
     "execution_count": 135,
     "metadata": {},
     "output_type": "execute_result"
    }
   ],
   "source": [
    "#lo mismo pero solo con los valores que hemos usado en el modelo\n",
    "X.values\n",
    "new_pred=rf_best.predict(X_scaled)\n",
    "new_diferencias_absolutas = np.abs(new_pred - test_thickness)\n",
    "\n",
    "#índice del valor mínimo\n",
    "new_indice_valor_minimo = np.argmin(new_diferencias_absolutas)\n",
    "new_valor_mas_cercano = new_pred[new_indice_valor_minimo]\n",
    "print('El valor mas cercano es: ',new_valor_mas_cercano,'El valor esperado es: ',test_thickness)\n",
    "inputs = X.values[new_indice_valor_minimo,]#scaler.inverse_transform([X_scaled[indice_valor_minimo]])\n",
    "print('Los inputs calculados son: ',inputs)\n",
    "print('Los inputs reales son: ')\n",
    "#x_input[x_input['final_thickness']==1.2045138888888722]\n",
    "test_espesor_"
   ]
  },
  {
   "cell_type": "markdown",
   "metadata": {},
   "source": [
    "Ahora vamos a comparar los resultados de y_test: valor real, el predicho por estas predicciones inversas (pred) y lo mismo teniendo solo en cuenta \n",
    "los valores del modelo (new_pred)"
   ]
  },
  {
   "cell_type": "code",
   "execution_count": 136,
   "metadata": {},
   "outputs": [
    {
     "data": {
      "text/plain": [
       "\"\\nprint('El valor mas cercano es: ',valor_mas_cercano,'El valor esperado es: ',test_thickness)\\ninputs = scaler.inverse_transform([comb_scalated[indice_valor_minimo]])\""
      ]
     },
     "execution_count": 136,
     "metadata": {},
     "output_type": "execute_result"
    }
   ],
   "source": [
    "pred_thickness=[]\n",
    "new_pred_thickness=[]\n",
    "inputs=np.array([])\n",
    "new_inputs=np.array([])\n",
    "for i in y_test['final_thickness']:\n",
    "    #predicciones con mallado\n",
    "    diferencias_absolutas = np.abs(pred - i)\n",
    "    indice_valor_minimo = np.argmin(diferencias_absolutas)\n",
    "    valor_mas_cercano = pred[indice_valor_minimo]\n",
    "    pred_thickness.append(valor_mas_cercano)\n",
    "    #predicciones solo con las del modelo\n",
    "    new_diferencias_absolutas = np.abs(new_pred - i)\n",
    "    new_indice_valor_minimo = np.argmin(new_diferencias_absolutas)\n",
    "    new_valor_mas_cercano = new_pred[new_indice_valor_minimo]\n",
    "    new_pred_thickness.append(new_valor_mas_cercano)\n",
    "    if inputs.size == 0:\n",
    "        inputs = comb_scalated[indice_valor_minimo]\n",
    "    else:\n",
    "        inputs = np.vstack((inputs, comb_scalated[indice_valor_minimo]))\n",
    "    if new_inputs.size == 0:\n",
    "        new_inputs = X.values[new_indice_valor_minimo,]\n",
    "    else:\n",
    "        new_inputs = np.vstack((new_inputs, X.values[new_indice_valor_minimo,]))\n",
    "    \n",
    "    \n",
    "inputs_rescaled = scaler.inverse_transform(inputs)\n",
    "pred_V=inputs_rescaled[:,0]\n",
    "pred_H=inputs_rescaled[:,1]\n",
    "pred_R=inputs_rescaled[:,2]\n",
    "\n",
    "new_pred_V=new_inputs[:,0]\n",
    "new_pred_H=new_inputs[:,1]\n",
    "new_pred_R=new_inputs[:,2]"
   ]
  },
  {
   "cell_type": "code",
   "execution_count": 138,
   "metadata": {},
   "outputs": [
    {
     "data": {
      "text/html": [
       "<div>\n",
       "<style scoped>\n",
       "    .dataframe tbody tr th:only-of-type {\n",
       "        vertical-align: middle;\n",
       "    }\n",
       "\n",
       "    .dataframe tbody tr th {\n",
       "        vertical-align: top;\n",
       "    }\n",
       "\n",
       "    .dataframe thead th {\n",
       "        text-align: right;\n",
       "    }\n",
       "</style>\n",
       "<table border=\"1\" class=\"dataframe\">\n",
       "  <thead>\n",
       "    <tr style=\"text-align: right;\">\n",
       "      <th></th>\n",
       "      <th>Real_Thickness</th>\n",
       "      <th>Real_V</th>\n",
       "      <th>Real_Holding</th>\n",
       "      <th>Real_Ramp</th>\n",
       "      <th>Pred_Thickness</th>\n",
       "      <th>Pred_V</th>\n",
       "      <th>Pred_H</th>\n",
       "      <th>Pred_R</th>\n",
       "      <th>New_Pred_Thickness</th>\n",
       "      <th>New_Pred_V</th>\n",
       "      <th>New_Pred_H</th>\n",
       "      <th>New_Pred_R</th>\n",
       "    </tr>\n",
       "  </thead>\n",
       "  <tbody>\n",
       "    <tr>\n",
       "      <th>0</th>\n",
       "      <td>0.247825</td>\n",
       "      <td>14.0</td>\n",
       "      <td>0.0</td>\n",
       "      <td>60.0</td>\n",
       "      <td>0.307887</td>\n",
       "      <td>14.0</td>\n",
       "      <td>0.0</td>\n",
       "      <td>30.0</td>\n",
       "      <td>0.307887</td>\n",
       "      <td>14.0</td>\n",
       "      <td>0.0</td>\n",
       "      <td>60.0</td>\n",
       "    </tr>\n",
       "    <tr>\n",
       "      <th>1</th>\n",
       "      <td>3.134800</td>\n",
       "      <td>22.0</td>\n",
       "      <td>0.0</td>\n",
       "      <td>60.0</td>\n",
       "      <td>3.129357</td>\n",
       "      <td>18.0</td>\n",
       "      <td>10.0</td>\n",
       "      <td>30.0</td>\n",
       "      <td>3.129357</td>\n",
       "      <td>18.0</td>\n",
       "      <td>10.0</td>\n",
       "      <td>30.0</td>\n",
       "    </tr>\n",
       "    <tr>\n",
       "      <th>2</th>\n",
       "      <td>1.204514</td>\n",
       "      <td>14.0</td>\n",
       "      <td>20.0</td>\n",
       "      <td>30.0</td>\n",
       "      <td>1.180527</td>\n",
       "      <td>18.0</td>\n",
       "      <td>0.0</td>\n",
       "      <td>30.0</td>\n",
       "      <td>1.180527</td>\n",
       "      <td>18.0</td>\n",
       "      <td>0.0</td>\n",
       "      <td>60.0</td>\n",
       "    </tr>\n",
       "    <tr>\n",
       "      <th>3</th>\n",
       "      <td>4.146875</td>\n",
       "      <td>18.0</td>\n",
       "      <td>10.0</td>\n",
       "      <td>30.0</td>\n",
       "      <td>4.460741</td>\n",
       "      <td>20.0</td>\n",
       "      <td>10.0</td>\n",
       "      <td>60.0</td>\n",
       "      <td>4.460741</td>\n",
       "      <td>20.0</td>\n",
       "      <td>10.0</td>\n",
       "      <td>60.0</td>\n",
       "    </tr>\n",
       "    <tr>\n",
       "      <th>4</th>\n",
       "      <td>0.552958</td>\n",
       "      <td>22.0</td>\n",
       "      <td>0.0</td>\n",
       "      <td>60.0</td>\n",
       "      <td>0.532447</td>\n",
       "      <td>16.0</td>\n",
       "      <td>0.0</td>\n",
       "      <td>30.0</td>\n",
       "      <td>0.532447</td>\n",
       "      <td>16.0</td>\n",
       "      <td>0.0</td>\n",
       "      <td>60.0</td>\n",
       "    </tr>\n",
       "  </tbody>\n",
       "</table>\n",
       "</div>"
      ],
      "text/plain": [
       "   Real_Thickness  Real_V  Real_Holding  Real_Ramp  Pred_Thickness  Pred_V  \\\n",
       "0        0.247825    14.0           0.0       60.0        0.307887    14.0   \n",
       "1        3.134800    22.0           0.0       60.0        3.129357    18.0   \n",
       "2        1.204514    14.0          20.0       30.0        1.180527    18.0   \n",
       "3        4.146875    18.0          10.0       30.0        4.460741    20.0   \n",
       "4        0.552958    22.0           0.0       60.0        0.532447    16.0   \n",
       "\n",
       "   Pred_H  Pred_R  New_Pred_Thickness  New_Pred_V  New_Pred_H  New_Pred_R  \n",
       "0     0.0    30.0            0.307887        14.0         0.0        60.0  \n",
       "1    10.0    30.0            3.129357        18.0        10.0        30.0  \n",
       "2     0.0    30.0            1.180527        18.0         0.0        60.0  \n",
       "3    10.0    60.0            4.460741        20.0        10.0        60.0  \n",
       "4     0.0    30.0            0.532447        16.0         0.0        60.0  "
      ]
     },
     "execution_count": 138,
     "metadata": {},
     "output_type": "execute_result"
    }
   ],
   "source": [
    "inverse_pred=pd.DataFrame({'Pred_Thickness':pred_thickness,'Pred_V':pred_V,'Pred_H':pred_H,'Pred_R':pred_R})\n",
    "inverse_new_pred=pd.DataFrame({'New_Pred_Thickness':new_pred_thickness,'New_Pred_V':new_pred_V,'New_Pred_H':new_pred_H\n",
    "                               ,'New_Pred_R':new_pred_R})\n",
    "real_inputs=scaler.inverse_transform(X_test[:])\n",
    "inverse_REAL=pd.DataFrame({'Real_Thickness':y_test['final_thickness'],'Real_V':real_inputs[:,0],'Real_Holding':real_inputs[:,1]\n",
    "                                       ,'Real_Ramp':real_inputs[:,2]}).reset_index(drop=True)\n",
    "inverse_comparacion = pd.concat([inverse_REAL, inverse_pred,inverse_new_pred], axis=1)\n",
    "inverse_comparacion.head()"
   ]
  },
  {
   "cell_type": "markdown",
   "metadata": {},
   "source": [
    "El valor:       \n",
    "1\t3.134800\t-22.0-\t0.0-\t60.0-\t3.129357-\t18.0-\t10.0-\t30.0-\t3.129357-\t18.0-\t10.0-\t30.0 -       \n",
    "Es erroneo ya que 22.0\t0.0\t60.0 es un valor anomalo dentro del holding=0.\n",
    "Además el valor:        \n",
    "2\t1.204514-\t14.0-\t20.0-\t30.0-\t1.180527-\t18.0-\t0.0-\t30.0-\t1.180527-\t18.0-\t0.0-\t60.0-\n",
    "Es outlier tanto 1.204514-\t14.0-\t20.0-\t30.0- como 18.0-\t0.0-\t30.0-\n",
    "\n",
    "Se ve por tanto que la prediccion inversa tiene ciertos fallos debido a la presencia de outliers que hace que el modelo sobreentrene estos outliers asignandolo a valores no deseados"
   ]
  },
  {
   "cell_type": "code",
   "execution_count": 98,
   "metadata": {},
   "outputs": [
    {
     "name": "stdout",
     "output_type": "stream",
     "text": [
      "    final_thickness  Voltage  holding_time  ramp_time\n",
      "0          1.204514       14          20.0         30\n",
      "3          3.382802       14          20.0         30\n",
      "4          3.478467       14          20.0         30\n",
      "5          3.566691       14          20.0         30\n",
      "90         3.664941       14          20.0         30\n",
      "91         3.724983       14          20.0         30\n",
      "92         3.659483       14          20.0         30\n"
     ]
    },
    {
     "data": {
      "text/plain": [
       "\"\\ndf_autotreat['voltage'].unique()\\nprint(x_input[(x_input['Voltage']==18.00) & (x_input['holding_time']==10.0)].final_thickness.iloc[0])\\nx_input['final_thickness'].iloc[51]\\ndf_autotreat[df_autotreat['final_thickness']==4.103187499999577]\""
      ]
     },
     "execution_count": 98,
     "metadata": {},
     "output_type": "execute_result"
    }
   ],
   "source": [
    "print(x_input[(x_input['Voltage']==14.0) & (x_input['holding_time']==20.0)& (x_input['ramp_time']==30.0)])\n",
    "'''\n",
    "df_autotreat['voltage'].unique()\n",
    "print(x_input[(x_input['Voltage']==18.00) & (x_input['holding_time']==10.0)].final_thickness.iloc[0])\n",
    "x_input['final_thickness'].iloc[51]\n",
    "df_autotreat[df_autotreat['final_thickness']==4.103187499999577]'''"
   ]
  },
  {
   "cell_type": "code",
   "execution_count": 18,
   "metadata": {},
   "outputs": [
    {
     "name": "stdout",
     "output_type": "stream",
     "text": [
      "     final_thickness  Voltage  holding_time  ramp_time\n",
      "105         4.130625       18          10.0         30\n",
      "106         4.146875       18          10.0         30\n",
      "107         4.225625       18          10.0         30\n",
      "    final_thickness  Voltage  holding_time  ramp_time\n",
      "61         0.552958       22           0.0         60\n",
      "62         3.112675       22           0.0         60\n",
      "63         3.134800       22           0.0         60\n",
      "    final_thickness  Voltage  holding_time  ramp_time\n",
      "17         7.738084       22          20.0         60\n",
      "18         7.787959       22          20.0         60\n",
      "68         8.276734       22          20.0         60\n",
      "87         7.917634       22          20.0         60\n",
      "19         8.092197       22          20.0         60\n",
      "33         5.349072       22          10.0         60\n",
      "34         5.677000       22          10.0         60\n",
      "32         5.299197       22          10.0         60\n",
      "73         4.543591       22          10.0         60\n",
      "47         3.106775       22           5.0         60\n",
      "48         3.496175       22           5.0         60\n",
      "49         3.561075       22           5.0         60\n",
      "84         1.360167       22           1.0         60\n",
      "85         1.689500       22           1.0         60\n",
      "61         0.552958       22           0.0         60\n",
      "62         3.112675       22           0.0         60\n",
      "63         3.134800       22           0.0         60\n"
     ]
    }
   ],
   "source": [
    "#print(x_input[(x_input['Voltage']==20.00) & (x_input['holding_time']==20.0)])\n",
    "print(x_input[(x_input['Voltage']==18.00) & (x_input['holding_time']==10.0) & (x_input['ramp_time']==30.0)])\n",
    "print(x_input[(x_input['Voltage']==22.00) & (x_input['holding_time']==0.0) & (x_input['ramp_time']==60.0)])\n",
    "print(x_input[(x_input['Voltage']==22.0) ].sort_values(by=['holding_time'], ascending=False))\n",
    "#x_input.groupby('holding_time').head(5)"
   ]
  },
  {
   "cell_type": "code",
   "execution_count": 14,
   "metadata": {},
   "outputs": [
    {
     "name": "stdout",
     "output_type": "stream",
     "text": [
      "26871\n"
     ]
    }
   ],
   "source": [
    "limited_df_autotreat=df_autotreat[(df_autotreat['holding_time']==0.0)]\n",
    "limited_df_autotreat.head()\n",
    "len=limited_df_autotreat.shape[0]\n",
    "print(len)"
   ]
  },
  {
   "cell_type": "code",
   "execution_count": 15,
   "metadata": {},
   "outputs": [
    {
     "data": {
      "image/png": "[encoded data removed]",
      "text/plain": [
       "<Figure size 1000x500 with 1 Axes>"
      ]
     },
     "metadata": {},
     "output_type": "display_data"
    }
   ],
   "source": [
    "muesta_fin=len\n",
    "muestra_in=0\n",
    "limited_df_autotreat['final_thickness'].iloc[muestra_in:muesta_fin].plot(figsize=(10,5))\n",
    "plt.plot(limited_df_autotreat['modeling_thickness'].iloc[muestra_in:muesta_fin],label='modeling_thickness')\n",
    "plt.plot(limited_df_autotreat['V'].iloc[muestra_in:muesta_fin],label='v')\n",
    "plt.plot(limited_df_autotreat['voltage'].iloc[muestra_in:muesta_fin],label='voltage')\n",
    "plt.plot(limited_df_autotreat['ramp_time'].iloc[muestra_in:muesta_fin],label='ramp_time')\n",
    "plt.plot(limited_df_autotreat['holding_time'].iloc[muestra_in:muesta_fin],label='holding_time')\n",
    "plt.grid(alpha=0.5, which='both')\n",
    "plt.xlabel('index')\n",
    "plt.ylabel('Scaled data')\n",
    "plt.legend()\n",
    "plt.show()"
   ]
  },
  {
   "cell_type": "markdown",
   "metadata": {},
   "source": [
    "## Vamos a quitar los valores anomalos (holding =0)"
   ]
  },
  {
   "cell_type": "markdown",
   "metadata": {},
   "source": [
    "Se ha observado que en Holding=0 hay diversos valores anomalos o outliers, lo que daba lugar en momentos a predicciones erroneas,se van a quitar a ver si el modelo mejora un poco. Por otro lado, es cierto que hay outliers para otros holding, pero debido a que son pocos en relacion a holding=0 y que tenemos pocos datos se van a dejar. Se podría plantear eliminarlos tambien."
   ]
  },
  {
   "cell_type": "code",
   "execution_count": 51,
   "metadata": {},
   "outputs": [
    {
     "name": "stdout",
     "output_type": "stream",
     "text": [
      "---Voltage =  20.0 ---\n",
      "     final_thickness  Voltage  holding_time  ramp_time\n",
      "62         3.112675       22           0.0         60\n",
      "63         3.134800       22           0.0         60\n",
      "59         2.652308       20           0.0         60\n",
      "56         2.366600       18           0.0         60\n",
      "53         0.893625       16           0.0         60\n"
     ]
    }
   ],
   "source": [
    "'''valores anomalos en holding=0:\n",
    "    22:62,63\n",
    "    20:59\n",
    "    18;56\n",
    "    16:53- no por mucho (duda)\n",
    "\n",
    "'''\n",
    "#para holding=0 lo normal son valores bajos ~0.2-0.5 por ello se filtra por final_thickness>0.8\n",
    "print(x_input[(x_input['holding_time']==0.0) & (x_input['final_thickness']>0.8) ].sort_values(by=['Voltage'], ascending=False))"
   ]
  },
  {
   "cell_type": "code",
   "execution_count": 109,
   "metadata": {},
   "outputs": [
    {
     "data": {
      "image/png": "[encoded data removed]",
      "text/plain": [
       "<Figure size 640x480 with 1 Axes>"
      ]
     },
     "metadata": {},
     "output_type": "display_data"
    },
    {
     "data": {
      "image/png": "[encoded data removed]",
      "text/plain": [
       "<Figure size 640x480 with 1 Axes>"
      ]
     },
     "metadata": {},
     "output_type": "display_data"
    },
    {
     "data": {
      "image/png": "[encoded data removed]",
      "text/plain": [
       "<Figure size 640x480 with 1 Axes>"
      ]
     },
     "metadata": {},
     "output_type": "display_data"
    },
    {
     "data": {
      "image/png": "[encoded data removed]",
      "text/plain": [
       "<Figure size 640x480 with 1 Axes>"
      ]
     },
     "metadata": {},
     "output_type": "display_data"
    },
    {
     "data": {
      "image/png": "[encoded data removed]",
      "text/plain": [
       "<Figure size 640x480 with 1 Axes>"
      ]
     },
     "metadata": {},
     "output_type": "display_data"
    },
    {
     "data": {
      "text/plain": [
       "'outlier:\\n    holding 20:14,16,20\\n    10:22(duda)\\n\\n    '"
      ]
     },
     "execution_count": 109,
     "metadata": {},
     "output_type": "execute_result"
    }
   ],
   "source": [
    "#aqui he buscado outliers en otros holding  -  IGNORAR por ahora\n",
    "for i in [14.0,16.0,18.0,20.0,22.0]:    \n",
    "    show=x_input[(x_input['Voltage']==i) & (x_input['holding_time']==1.0)]\n",
    "    plt.scatter(show['final_thickness'],show[['Voltage']])\n",
    "    plt.title(i)\n",
    "    plt.show()\n",
    "'''outlier:\n",
    "    holding 20:14,16,20\n",
    "    10:22(duda)\n",
    "    '''"
   ]
  },
  {
   "cell_type": "markdown",
   "metadata": {},
   "source": [
    "Se podría estudiar más adelante quitar estos outliers. Vamos a quitar los outliers en holding =0."
   ]
  },
  {
   "cell_type": "code",
   "execution_count": 50,
   "metadata": {},
   "outputs": [
    {
     "data": {
      "text/html": [
       "<div>\n",
       "<style scoped>\n",
       "    .dataframe tbody tr th:only-of-type {\n",
       "        vertical-align: middle;\n",
       "    }\n",
       "\n",
       "    .dataframe tbody tr th {\n",
       "        vertical-align: top;\n",
       "    }\n",
       "\n",
       "    .dataframe thead th {\n",
       "        text-align: right;\n",
       "    }\n",
       "</style>\n",
       "<table border=\"1\" class=\"dataframe\">\n",
       "  <thead>\n",
       "    <tr style=\"text-align: right;\">\n",
       "      <th></th>\n",
       "      <th>final_thickness</th>\n",
       "      <th>Voltage</th>\n",
       "      <th>holding_time</th>\n",
       "      <th>ramp_time</th>\n",
       "    </tr>\n",
       "  </thead>\n",
       "  <tbody>\n",
       "    <tr>\n",
       "      <th>50</th>\n",
       "      <td>0.307083</td>\n",
       "      <td>14</td>\n",
       "      <td>0.0</td>\n",
       "      <td>60</td>\n",
       "    </tr>\n",
       "    <tr>\n",
       "      <th>51</th>\n",
       "      <td>0.311417</td>\n",
       "      <td>14</td>\n",
       "      <td>0.0</td>\n",
       "      <td>60</td>\n",
       "    </tr>\n",
       "    <tr>\n",
       "      <th>52</th>\n",
       "      <td>0.247825</td>\n",
       "      <td>14</td>\n",
       "      <td>0.0</td>\n",
       "      <td>60</td>\n",
       "    </tr>\n",
       "    <tr>\n",
       "      <th>54</th>\n",
       "      <td>0.205250</td>\n",
       "      <td>16</td>\n",
       "      <td>0.0</td>\n",
       "      <td>60</td>\n",
       "    </tr>\n",
       "    <tr>\n",
       "      <th>55</th>\n",
       "      <td>0.322583</td>\n",
       "      <td>16</td>\n",
       "      <td>0.0</td>\n",
       "      <td>60</td>\n",
       "    </tr>\n",
       "    <tr>\n",
       "      <th>57</th>\n",
       "      <td>0.338125</td>\n",
       "      <td>18</td>\n",
       "      <td>0.0</td>\n",
       "      <td>60</td>\n",
       "    </tr>\n",
       "    <tr>\n",
       "      <th>58</th>\n",
       "      <td>0.481854</td>\n",
       "      <td>20</td>\n",
       "      <td>0.0</td>\n",
       "      <td>60</td>\n",
       "    </tr>\n",
       "    <tr>\n",
       "      <th>60</th>\n",
       "      <td>0.593104</td>\n",
       "      <td>20</td>\n",
       "      <td>0.0</td>\n",
       "      <td>60</td>\n",
       "    </tr>\n",
       "    <tr>\n",
       "      <th>61</th>\n",
       "      <td>0.552958</td>\n",
       "      <td>22</td>\n",
       "      <td>0.0</td>\n",
       "      <td>60</td>\n",
       "    </tr>\n",
       "  </tbody>\n",
       "</table>\n",
       "</div>"
      ],
      "text/plain": [
       "    final_thickness  Voltage  holding_time  ramp_time\n",
       "50         0.307083       14           0.0         60\n",
       "51         0.311417       14           0.0         60\n",
       "52         0.247825       14           0.0         60\n",
       "54         0.205250       16           0.0         60\n",
       "55         0.322583       16           0.0         60\n",
       "57         0.338125       18           0.0         60\n",
       "58         0.481854       20           0.0         60\n",
       "60         0.593104       20           0.0         60\n",
       "61         0.552958       22           0.0         60"
      ]
     },
     "execution_count": 50,
     "metadata": {},
     "output_type": "execute_result"
    }
   ],
   "source": [
    "x_input_outlier_filter=x_input.drop(x_input[(x_input['holding_time']==0.0) & (x_input['final_thickness']>0.8) ].index)\n",
    "x_input_outlier_filter[(x_input_outlier_filter['holding_time']==0.0)  ]"
   ]
  },
  {
   "cell_type": "code",
   "execution_count": 56,
   "metadata": {},
   "outputs": [],
   "source": [
    "X_out = x_input_outlier_filter[['Voltage', 'holding_time','ramp_time']]\n",
    "y_out = x_input_outlier_filter[['final_thickness']]\n",
    "\n",
    "scaler_outlier = StandardScaler()\n",
    "X_scaled_outlier = scaler_outlier.fit_transform(X_out)\n",
    "X_train, X_test, y_train, y_test = train_test_split(X_scaled_outlier, y_out, test_size=0.2, random_state=28)"
   ]
  },
  {
   "cell_type": "markdown",
   "metadata": {},
   "source": [
    "Busqueda de hiperpàrametros"
   ]
  },
  {
   "cell_type": "code",
   "execution_count": 57,
   "metadata": {},
   "outputs": [
    {
     "name": "stdout",
     "output_type": "stream",
     "text": [
      "Grid search for Random Forest...\n",
      "Fitting 5 folds for each of 144 candidates, totalling 720 fits\n",
      "Best parameters: {'max_depth': None, 'min_samples_leaf': 1, 'min_samples_split': 2, 'n_estimators': 100}\n",
      "Best negative MSE: 0.15380003695888228\n",
      "\n",
      "Grid search for XGBoost...\n",
      "Fitting 5 folds for each of 972 candidates, totalling 4860 fits\n",
      "Best parameters: {'colsample_bytree': 1.0, 'learning_rate': 0.1, 'max_depth': 3, 'n_estimators': 500, 'subsample': 1.0}\n",
      "Best negative MSE: 0.10386856615547795\n",
      "\n",
      "Grid search for SVM...\n",
      "Fitting 5 folds for each of 18 candidates, totalling 90 fits\n",
      "Best parameters: {'C': 10, 'gamma': 'auto', 'kernel': 'rbf'}\n",
      "Best negative MSE: 0.1123527077071252\n",
      "\n",
      "Grid search for Decision Tree...\n",
      "Fitting 5 folds for each of 36 candidates, totalling 180 fits\n",
      "Best parameters: {'max_depth': None, 'min_samples_leaf': 1, 'min_samples_split': 2}\n",
      "Best negative MSE: 0.14413686056226332\n",
      "\n"
     ]
    }
   ],
   "source": [
    "for model_name, model_info in models_and_params.items():\n",
    "    print(f\"Grid search for {model_name}...\")\n",
    "    \n",
    "    # Configurar la búsqueda en cuadrícula\n",
    "    grid = GridSearchCV(model_info[\"model\"], \n",
    "                        model_info[\"grid_params\"], \n",
    "                        cv=5, \n",
    "                        scoring='neg_mean_squared_error',\n",
    "                        n_jobs=-1,\n",
    "                        verbose=1)\n",
    "    \n",
    "    # Entrenar el modelo\n",
    "    grid.fit(X_train, y_train)\n",
    "    \n",
    "    # Mejores parámetros y rendimiento\n",
    "    best_params = grid.best_params_\n",
    "    best_score = -grid.best_score_\n",
    "    \n",
    "    print(f\"Best parameters: {best_params}\")\n",
    "    print(f\"Best negative MSE: {best_score}\\n\")"
   ]
  },
  {
   "cell_type": "code",
   "execution_count": 58,
   "metadata": {},
   "outputs": [
    {
     "name": "stdout",
     "output_type": "stream",
     "text": [
      "SVR:\n",
      "        Test      Pred\n",
      "0   1.204514  3.564994\n",
      "1   2.131578  2.161633\n",
      "2   5.620625  5.799767\n",
      "3   0.322583  0.468995\n",
      "4   4.609431  4.465936\n",
      "5   5.201987  5.294826\n",
      "6   7.416156  7.337444\n",
      "7   3.496175  3.260383\n",
      "8   4.911066  4.801657\n",
      "9   7.344823  7.337444\n",
      "10  7.917634  7.992197\n",
      "11  1.525117  1.578447\n",
      "12  2.255125  2.132792\n",
      "13  4.130625  4.125344\n",
      "14  4.146875  4.125344\n",
      "15  0.950958  0.846308\n",
      "16  7.787959  7.992197\n",
      "17  3.724983  3.564994\n",
      "18  0.915125  0.846308\n",
      "19  5.349072  5.399519\n",
      "20  7.837834  4.801657\n",
      "21  1.360167  1.551632\n",
      "R^2 Score: 0.8876221794595928\n",
      "\n"
     ]
    }
   ],
   "source": [
    "#Modelo SVR\n",
    "svr_best = SVR(**{'C': 10, 'gamma': 'auto', 'kernel': 'rbf'})\n",
    "svr_best.fit(X_train, y_train)\n",
    "svr_pred=svr_best.predict(X_test)\n",
    "# Evaluar el rendimiento en el conjunto de prueba\n",
    "r2_svr = r2_score(y_test, svr_pred)\n",
    "\n",
    "# Mostrar resultados\n",
    "pred_vs_test_svr = pd.DataFrame({'Test': y_test['final_thickness'].tolist(), 'Pred': svr_pred.tolist()})\n",
    "print(\"SVR:\")\n",
    "print(pred_vs_test_svr)\n",
    "print(f\"R^2 Score: {r2_svr}\\n\")"
   ]
  },
  {
   "cell_type": "code",
   "execution_count": 67,
   "metadata": {},
   "outputs": [
    {
     "name": "stdout",
     "output_type": "stream",
     "text": [
      "Random Forest:\n",
      "        Test      Pred         Err\n",
      "0   1.204514  3.555502 -195.181479\n",
      "1   2.131578  2.214546   -3.892332\n",
      "2   5.620625  5.559935    1.079778\n",
      "3   0.322583  0.269253   16.532288\n",
      "4   4.609431  4.538753    1.533350\n",
      "5   5.201987  5.324455   -2.354253\n",
      "6   7.416156  7.164539    3.392825\n",
      "7   3.496175  3.250756    7.019645\n",
      "8   4.911066  5.003940   -1.891129\n",
      "9   7.344823  7.164539    2.454570\n",
      "10  7.917634  7.961512   -0.554180\n",
      "11  1.525117  1.735568  -13.799047\n",
      "12  2.255125  2.260554   -0.240724\n",
      "13  4.130625  3.933474    4.772902\n",
      "14  4.146875  3.933474    5.146060\n",
      "15  0.950958  0.923710    2.865349\n",
      "16  7.787959  7.961512   -2.228478\n",
      "17  3.724983  3.555502    4.549839\n",
      "18  0.915125  0.923710   -0.938129\n",
      "19  5.349072  5.177694    3.203877\n",
      "20  7.837834  5.003940   36.156596\n",
      "21  1.360167  1.507648  -10.842917\n",
      "R^2 Score: 0.8957833676652824\n",
      "\n"
     ]
    }
   ],
   "source": [
    "rf_best = RandomForestRegressor(**{'max_depth': 10, 'min_samples_leaf': 1, 'min_samples_split': 2, 'n_estimators': 200}, random_state=28)\n",
    "rf_best.fit(X_train, y_train)\n",
    "rf_pred=rf_best.predict(X_test)\n",
    "# Evaluar el rendimiento en el conjunto de prueba\n",
    "r2_rf = r2_score(y_test, rf_pred)\n",
    "\n",
    "# Mostrar resultados\n",
    "pred_vs_test_rf = pd.DataFrame({'Test': y_test['final_thickness'].tolist(), 'Pred': rf_pred.tolist(), 'Err':(100*(y_test['final_thickness']-rf_pred)/y_test['final_thickness']).tolist()})\n",
    "print(\"Random Forest:\")\n",
    "print(pred_vs_test_rf)\n",
    "print(f\"R^2 Score: {r2_rf}\\n\")"
   ]
  },
  {
   "cell_type": "markdown",
   "metadata": {},
   "source": [
    "Tanto el 1.204514 como el 7.837834 son outliers, por lo que predice bien el modelo"
   ]
  },
  {
   "cell_type": "code",
   "execution_count": 69,
   "metadata": {},
   "outputs": [
    {
     "name": "stdout",
     "output_type": "stream",
     "text": [
      "    final_thickness  Voltage  holding_time  ramp_time\n",
      "12         5.063653       16          20.0         60\n",
      "13         4.911066       16          20.0         60\n",
      "65         5.059741       16          20.0         60\n",
      "86         7.837834       16          20.0         60\n",
      "93         4.503566       16          20.0         30\n",
      "94         4.520344       16          20.0         30\n",
      "95         4.564385       16          20.0         30\n"
     ]
    }
   ],
   "source": [
    "scaler_outlier.inverse_transform([X_test[20]])\n",
    "print(x_input_outlier_filter[(x_input_outlier_filter['Voltage']==16.0) & (x_input_outlier_filter['holding_time']==20.0)].sort_values(by=['ramp_time'], ascending=False))"
   ]
  },
  {
   "cell_type": "markdown",
   "metadata": {},
   "source": [
    "Preddiccion inversa"
   ]
  },
  {
   "cell_type": "code",
   "execution_count": 74,
   "metadata": {},
   "outputs": [
    {
     "name": "stdout",
     "output_type": "stream",
     "text": [
      "7.787959374999188\n",
      "[14, 20, 16, 18, 22]\n"
     ]
    }
   ],
   "source": [
    "#Prediccion inversa\n",
    "V_test=X_out['Voltage'].unique().tolist()\n",
    "Holding_test=[20., 10.,  5.,  0.,  1.]\n",
    "Ramp_test=[30,60]\n",
    "combinaciones = np.array(list(product(V_test, Holding_test,Ramp_test)))#mallado de todas las combinaciones posibles\n",
    "comb_scalated=scaler_outlier.transform(combinaciones)\n",
    "#esto para a partir de un espesor con pocos decimales sacar el verdadero del dataframe\n",
    "test_thickness=7.787959\n",
    "test_espesor_=x_input_outlier_filter[(x_input_outlier_filter['final_thickness']>test_thickness-0.0005) & (x_input_outlier_filter['final_thickness']<test_thickness+0.0005)]\n",
    "print(test_espesor_['final_thickness'].iloc[0])\n",
    "print(V_test)"
   ]
  },
  {
   "cell_type": "code",
   "execution_count": 75,
   "metadata": {},
   "outputs": [],
   "source": [
    "pred=rf_best.predict(comb_scalated)"
   ]
  },
  {
   "cell_type": "code",
   "execution_count": 76,
   "metadata": {},
   "outputs": [
    {
     "name": "stdout",
     "output_type": "stream",
     "text": [
      "El valor mas cercano es:  7.961512321130098 El valor esperado es:  7.787959\n",
      "Los inputs calculados son:  [[22. 20. 60.]]\n",
      "Los inputs reales son: \n"
     ]
    },
    {
     "data": {
      "text/html": [
       "<div>\n",
       "<style scoped>\n",
       "    .dataframe tbody tr th:only-of-type {\n",
       "        vertical-align: middle;\n",
       "    }\n",
       "\n",
       "    .dataframe tbody tr th {\n",
       "        vertical-align: top;\n",
       "    }\n",
       "\n",
       "    .dataframe thead th {\n",
       "        text-align: right;\n",
       "    }\n",
       "</style>\n",
       "<table border=\"1\" class=\"dataframe\">\n",
       "  <thead>\n",
       "    <tr style=\"text-align: right;\">\n",
       "      <th></th>\n",
       "      <th>final_thickness</th>\n",
       "      <th>Voltage</th>\n",
       "      <th>holding_time</th>\n",
       "      <th>ramp_time</th>\n",
       "    </tr>\n",
       "  </thead>\n",
       "  <tbody>\n",
       "    <tr>\n",
       "      <th>18</th>\n",
       "      <td>7.787959</td>\n",
       "      <td>22</td>\n",
       "      <td>20.0</td>\n",
       "      <td>60</td>\n",
       "    </tr>\n",
       "  </tbody>\n",
       "</table>\n",
       "</div>"
      ],
      "text/plain": [
       "    final_thickness  Voltage  holding_time  ramp_time\n",
       "18         7.787959       22          20.0         60"
      ]
     },
     "execution_count": 76,
     "metadata": {},
     "output_type": "execute_result"
    }
   ],
   "source": [
    "diferencias_absolutas = np.abs(pred - test_thickness)\n",
    "\n",
    "#índice del valor mínimo\n",
    "indice_valor_minimo = np.argmin(diferencias_absolutas)\n",
    "valor_mas_cercano = pred[indice_valor_minimo]\n",
    "\n",
    "print('El valor mas cercano es: ',valor_mas_cercano,'El valor esperado es: ',test_thickness)\n",
    "inputs = scaler_outlier.inverse_transform([comb_scalated[indice_valor_minimo]])\n",
    "print('Los inputs calculados son: ',inputs)\n",
    "print('Los inputs reales son: ')\n",
    "#x_input[x_input['final_thickness']==1.2045138888888722]\n",
    "test_espesor_"
   ]
  },
  {
   "cell_type": "markdown",
   "metadata": {},
   "source": [
    "Ahora vamos a comparar los resultados de y_test: valor real, el predicho por estas predicciones inversas (pred) y lo mismo teniendo solo en cuenta \n",
    "los valores del modelo (new_pred)"
   ]
  },
  {
   "cell_type": "code",
   "execution_count": 79,
   "metadata": {},
   "outputs": [
    {
     "data": {
      "text/plain": [
       "'\\nnew_pred_V=new_inputs[:,0]\\nnew_pred_H=new_inputs[:,1]\\nnew_pred_R=new_inputs[:,2]'"
      ]
     },
     "execution_count": 79,
     "metadata": {},
     "output_type": "execute_result"
    }
   ],
   "source": [
    "pred_thickness=[]\n",
    "new_pred_thickness=[]\n",
    "inputs=np.array([])\n",
    "new_inputs=np.array([])\n",
    "for i in y_test['final_thickness']:\n",
    "    #predicciones con mallado\n",
    "    diferencias_absolutas = np.abs(pred - i)\n",
    "    indice_valor_minimo = np.argmin(diferencias_absolutas)\n",
    "    valor_mas_cercano = pred[indice_valor_minimo]\n",
    "    pred_thickness.append(valor_mas_cercano)\n",
    "    #predicciones solo con las del modelo\n",
    "    '''\n",
    "    new_diferencias_absolutas = np.abs(new_pred - i)\n",
    "    new_indice_valor_minimo = np.argmin(new_diferencias_absolutas)\n",
    "    new_valor_mas_cercano = new_pred[new_indice_valor_minimo]\n",
    "    new_pred_thickness.append(new_valor_mas_cercano)'''\n",
    "    if inputs.size == 0:\n",
    "        inputs = comb_scalated[indice_valor_minimo]\n",
    "    else:\n",
    "        inputs = np.vstack((inputs, comb_scalated[indice_valor_minimo]))\n",
    "    '''\n",
    "    if new_inputs.size == 0:\n",
    "        new_inputs = x_input_outlier_filter.values[new_indice_valor_minimo,]\n",
    "    else:\n",
    "        new_inputs = np.vstack((new_inputs, x_input_outlier_filter.values[new_indice_valor_minimo,]))'''\n",
    "    \n",
    "    \n",
    "inputs_rescaled = scaler_outlier.inverse_transform(inputs)\n",
    "pred_V=inputs_rescaled[:,0]\n",
    "pred_H=inputs_rescaled[:,1]\n",
    "pred_R=inputs_rescaled[:,2]\n",
    "'''\n",
    "new_pred_V=new_inputs[:,0]\n",
    "new_pred_H=new_inputs[:,1]\n",
    "new_pred_R=new_inputs[:,2]'''"
   ]
  },
  {
   "cell_type": "code",
   "execution_count": 133,
   "metadata": {},
   "outputs": [],
   "source": [
    "def find_real_thickness_from_inputs(dataV,dataH,dataR):\n",
    "    real_T=np.array([])\n",
    "    len=dataV.shape[0]\n",
    "    for i in range(0,len):\n",
    "        try:\n",
    "            real_T=np.append(real_T,np.round(x_input_outlier_filter[(x_input_outlier_filter['Voltage']==dataV[i]) \n",
    "                                                                    & (x_input_outlier_filter['holding_time']==dataH[i])\n",
    "                                                                    & (x_input_outlier_filter['ramp_time']==dataR[i])].final_thickness.iloc[0],6))\n",
    "        except:\n",
    "            real_T=np.append(real_T,'Nan')\n",
    "    \n",
    "    return real_T\n",
    "real_thickness_=find_real_thickness_from_inputs(pred_V,pred_H,pred_R)\n",
    "de_real_thickness_=pd.DataFrame({'real_thickness_pred':real_thickness_})"
   ]
  },
  {
   "cell_type": "markdown",
   "metadata": {},
   "source": [
    "Seguido de esto obtenemos un dataframe donde se tienen los datos reales (Real_Thickness),  los predichos (Pred_Thickness) y los espesores Reales  relacionados con los inputs predichos(real_thickness_pred), es decir, con los inputs predichos obtener el espesor real correspondiente. Debido a esto, es posible que haya inputs que no tienen ningun  espesor real asociado (Nan) ya que hemos generado más inputs en el mallado que los que teneiamos en el dataframe original."
   ]
  },
  {
   "cell_type": "code",
   "execution_count": 134,
   "metadata": {},
   "outputs": [
    {
     "data": {
      "text/html": [
       "<div>\n",
       "<style scoped>\n",
       "    .dataframe tbody tr th:only-of-type {\n",
       "        vertical-align: middle;\n",
       "    }\n",
       "\n",
       "    .dataframe tbody tr th {\n",
       "        vertical-align: top;\n",
       "    }\n",
       "\n",
       "    .dataframe thead th {\n",
       "        text-align: right;\n",
       "    }\n",
       "</style>\n",
       "<table border=\"1\" class=\"dataframe\">\n",
       "  <thead>\n",
       "    <tr style=\"text-align: right;\">\n",
       "      <th></th>\n",
       "      <th>Real_Thickness</th>\n",
       "      <th>Real_V</th>\n",
       "      <th>Real_Holding</th>\n",
       "      <th>Real_Ramp</th>\n",
       "      <th>Pred_Thickness</th>\n",
       "      <th>Pred_V</th>\n",
       "      <th>Pred_H</th>\n",
       "      <th>Pred_R</th>\n",
       "      <th>real_thickness_pred</th>\n",
       "    </tr>\n",
       "  </thead>\n",
       "  <tbody>\n",
       "    <tr>\n",
       "      <th>0</th>\n",
       "      <td>1.204514</td>\n",
       "      <td>14.0</td>\n",
       "      <td>20.0</td>\n",
       "      <td>30.0</td>\n",
       "      <td>1.045086</td>\n",
       "      <td>20.0</td>\n",
       "      <td>1.0</td>\n",
       "      <td>30.0</td>\n",
       "      <td>Nan</td>\n",
       "    </tr>\n",
       "    <tr>\n",
       "      <th>1</th>\n",
       "      <td>2.131578</td>\n",
       "      <td>14.0</td>\n",
       "      <td>10.0</td>\n",
       "      <td>60.0</td>\n",
       "      <td>2.214546</td>\n",
       "      <td>14.0</td>\n",
       "      <td>10.0</td>\n",
       "      <td>60.0</td>\n",
       "      <td>2.071278</td>\n",
       "    </tr>\n",
       "    <tr>\n",
       "      <th>2</th>\n",
       "      <td>5.620625</td>\n",
       "      <td>18.0</td>\n",
       "      <td>20.0</td>\n",
       "      <td>30.0</td>\n",
       "      <td>5.559935</td>\n",
       "      <td>18.0</td>\n",
       "      <td>20.0</td>\n",
       "      <td>30.0</td>\n",
       "      <td>5.585625</td>\n",
       "    </tr>\n",
       "    <tr>\n",
       "      <th>3</th>\n",
       "      <td>0.322583</td>\n",
       "      <td>16.0</td>\n",
       "      <td>0.0</td>\n",
       "      <td>60.0</td>\n",
       "      <td>0.340236</td>\n",
       "      <td>18.0</td>\n",
       "      <td>0.0</td>\n",
       "      <td>30.0</td>\n",
       "      <td>Nan</td>\n",
       "    </tr>\n",
       "    <tr>\n",
       "      <th>4</th>\n",
       "      <td>4.609431</td>\n",
       "      <td>20.0</td>\n",
       "      <td>10.0</td>\n",
       "      <td>60.0</td>\n",
       "      <td>4.659193</td>\n",
       "      <td>20.0</td>\n",
       "      <td>10.0</td>\n",
       "      <td>30.0</td>\n",
       "      <td>4.86599</td>\n",
       "    </tr>\n",
       "    <tr>\n",
       "      <th>5</th>\n",
       "      <td>5.201987</td>\n",
       "      <td>18.0</td>\n",
       "      <td>20.0</td>\n",
       "      <td>60.0</td>\n",
       "      <td>5.177694</td>\n",
       "      <td>22.0</td>\n",
       "      <td>10.0</td>\n",
       "      <td>60.0</td>\n",
       "      <td>5.299197</td>\n",
       "    </tr>\n",
       "    <tr>\n",
       "      <th>6</th>\n",
       "      <td>7.416156</td>\n",
       "      <td>20.0</td>\n",
       "      <td>20.0</td>\n",
       "      <td>30.0</td>\n",
       "      <td>7.164539</td>\n",
       "      <td>20.0</td>\n",
       "      <td>20.0</td>\n",
       "      <td>30.0</td>\n",
       "      <td>7.344823</td>\n",
       "    </tr>\n",
       "    <tr>\n",
       "      <th>7</th>\n",
       "      <td>3.496175</td>\n",
       "      <td>22.0</td>\n",
       "      <td>5.0</td>\n",
       "      <td>60.0</td>\n",
       "      <td>3.555502</td>\n",
       "      <td>14.0</td>\n",
       "      <td>20.0</td>\n",
       "      <td>30.0</td>\n",
       "      <td>1.204514</td>\n",
       "    </tr>\n",
       "    <tr>\n",
       "      <th>8</th>\n",
       "      <td>4.911066</td>\n",
       "      <td>16.0</td>\n",
       "      <td>20.0</td>\n",
       "      <td>60.0</td>\n",
       "      <td>5.003940</td>\n",
       "      <td>16.0</td>\n",
       "      <td>20.0</td>\n",
       "      <td>60.0</td>\n",
       "      <td>5.063653</td>\n",
       "    </tr>\n",
       "    <tr>\n",
       "      <th>9</th>\n",
       "      <td>7.344823</td>\n",
       "      <td>20.0</td>\n",
       "      <td>20.0</td>\n",
       "      <td>30.0</td>\n",
       "      <td>7.164539</td>\n",
       "      <td>20.0</td>\n",
       "      <td>20.0</td>\n",
       "      <td>30.0</td>\n",
       "      <td>7.344823</td>\n",
       "    </tr>\n",
       "  </tbody>\n",
       "</table>\n",
       "</div>"
      ],
      "text/plain": [
       "   Real_Thickness  Real_V  Real_Holding  Real_Ramp  Pred_Thickness  Pred_V  \\\n",
       "0        1.204514    14.0          20.0       30.0        1.045086    20.0   \n",
       "1        2.131578    14.0          10.0       60.0        2.214546    14.0   \n",
       "2        5.620625    18.0          20.0       30.0        5.559935    18.0   \n",
       "3        0.322583    16.0           0.0       60.0        0.340236    18.0   \n",
       "4        4.609431    20.0          10.0       60.0        4.659193    20.0   \n",
       "5        5.201987    18.0          20.0       60.0        5.177694    22.0   \n",
       "6        7.416156    20.0          20.0       30.0        7.164539    20.0   \n",
       "7        3.496175    22.0           5.0       60.0        3.555502    14.0   \n",
       "8        4.911066    16.0          20.0       60.0        5.003940    16.0   \n",
       "9        7.344823    20.0          20.0       30.0        7.164539    20.0   \n",
       "\n",
       "   Pred_H  Pred_R real_thickness_pred  \n",
       "0     1.0    30.0                 Nan  \n",
       "1    10.0    60.0            2.071278  \n",
       "2    20.0    30.0            5.585625  \n",
       "3     0.0    30.0                 Nan  \n",
       "4    10.0    30.0             4.86599  \n",
       "5    10.0    60.0            5.299197  \n",
       "6    20.0    30.0            7.344823  \n",
       "7    20.0    30.0            1.204514  \n",
       "8    20.0    60.0            5.063653  \n",
       "9    20.0    30.0            7.344823  "
      ]
     },
     "execution_count": 134,
     "metadata": {},
     "output_type": "execute_result"
    }
   ],
   "source": [
    "inverse_pred=pd.DataFrame({'Pred_Thickness':pred_thickness,'Pred_V':pred_V,'Pred_H':pred_H,'Pred_R':pred_R})\n",
    "real_inputs=scaler_outlier.inverse_transform(X_test[:])\n",
    "inverse_REAL=pd.DataFrame({'Real_Thickness':y_test['final_thickness'],'Real_V':real_inputs[:,0],'Real_Holding':real_inputs[:,1]\n",
    "                                       ,'Real_Ramp':real_inputs[:,2]}).reset_index(drop=True)\n",
    "inverse_comparacion = pd.concat([inverse_REAL, inverse_pred,de_real_thickness_], axis=1)#,inverse_new_pred\n",
    "inverse_comparacion.head(10)"
   ]
  },
  {
   "cell_type": "markdown",
   "metadata": {},
   "source": [
    "Vemos que comparando con los resultados reales hay resultados muy similares aunque los inputs no sean los mismos\n",
    "con distinto input se pueden obtener espesores finales muy similares"
   ]
  },
  {
   "cell_type": "code",
   "execution_count": 93,
   "metadata": {},
   "outputs": [
    {
     "name": "stdout",
     "output_type": "stream",
     "text": [
      "    final_thickness  Voltage  holding_time  ramp_time\n",
      "81         1.193854       20           1.0         60\n",
      "82         1.060354       20           1.0         60\n",
      "83         0.926854       20           1.0         60\n"
     ]
    }
   ],
   "source": [
    "print(x_input_outlier_filter[(x_input_outlier_filter['Voltage']==20.0) & (x_input_outlier_filter['holding_time']==1.0)& (x_input_outlier_filter['ramp_time']==60.0)])\n",
    "#vemos que comparando con los resultados reales (en vez de ramp 30 ponemos 60 porque no hay valores de 30) hay resultados muy similares aunque los inputs no sean los mismos\n",
    "#con distinto input se pueden obtener espesores finales muy similares"
   ]
  }
 ],
 "metadata": {
  "kernelspec": {
   "display_name": "Python 3",
   "language": "python",
   "name": "python3"
  },
  "language_info": {
   "codemirror_mode": {
    "name": "ipython",
    "version": 3
   },
   "file_extension": ".py",
   "mimetype": "text/x-python",
   "name": "python",
   "nbconvert_exporter": "python",
   "pygments_lexer": "ipython3",
   "version": "3.10.13"
  }
 },
 "nbformat": 4,
 "nbformat_minor": 2
}
