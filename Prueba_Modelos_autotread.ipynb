{
 "cells": [
  {
   "cell_type": "code",
   "execution_count": 3,
   "metadata": {},
   "outputs": [],
   "source": [
    "# Librerias basicas test:\n",
    "#Felipe\n",
    "import pandas as pd\n",
    "import numpy as np\n",
    "import seaborn as sns\n",
    "import warnings \n",
    "import os\n",
    "import joblib\n",
    "import xgboost as xgb\n",
    "import matplotlib.pyplot as plt\n",
    "from statsmodels.tsa.vector_ar.var_model import VAR\n",
    "from itertools import product\n",
    "\n",
    "from sklearn.metrics import mean_squared_error, mean_absolute_error, r2_score\n",
    "from sklearn.tree import DecisionTreeRegressor\n",
    "from sklearn.preprocessing import StandardScaler\n",
    "from sklearn.ensemble import RandomForestRegressor, GradientBoostingRegressor\n",
    "from sklearn.model_selection import train_test_split, GridSearchCV\n",
    "from sklearn.svm import SVR\n",
    "from sklearn.tree import DecisionTreeRegressor\n",
    "\n",
    "sns.set_style('darkgrid')\n",
    "np.set_printoptions(precision=2)\n",
    "warnings.filterwarnings(\"ignore\")"
   ]
  },
  {
   "cell_type": "markdown",
   "metadata": {},
   "source": [
    "Objetivo: dado alloy, area y thickness---> obtener: v,ramptime,holding time"
   ]
  },
  {
   "cell_type": "code",
   "execution_count": 4,
   "metadata": {},
   "outputs": [
    {
     "data": {
      "text/html": [
       "<div>\n",
       "<style scoped>\n",
       "    .dataframe tbody tr th:only-of-type {\n",
       "        vertical-align: middle;\n",
       "    }\n",
       "\n",
       "    .dataframe tbody tr th {\n",
       "        vertical-align: top;\n",
       "    }\n",
       "\n",
       "    .dataframe thead th {\n",
       "        text-align: right;\n",
       "    }\n",
       "</style>\n",
       "<table border=\"1\" class=\"dataframe\">\n",
       "  <thead>\n",
       "    <tr style=\"text-align: right;\">\n",
       "      <th></th>\n",
       "      <th>Timestamp</th>\n",
       "      <th>Time</th>\n",
       "      <th>V</th>\n",
       "      <th>A</th>\n",
       "      <th>T</th>\n",
       "      <th>alloy</th>\n",
       "      <th>voltage</th>\n",
       "      <th>ramp_time</th>\n",
       "      <th>holding_time</th>\n",
       "      <th>area</th>\n",
       "      <th>Imax</th>\n",
       "      <th>modeling_thickness</th>\n",
       "      <th>final_thickness</th>\n",
       "    </tr>\n",
       "  </thead>\n",
       "  <tbody>\n",
       "    <tr>\n",
       "      <th>0</th>\n",
       "      <td>1.687423e+09</td>\n",
       "      <td>2023-06-22 08:31:28</td>\n",
       "      <td>0.03</td>\n",
       "      <td>0.00</td>\n",
       "      <td>38.1</td>\n",
       "      <td>7075</td>\n",
       "      <td>14</td>\n",
       "      <td>30</td>\n",
       "      <td>20.0</td>\n",
       "      <td>0.5</td>\n",
       "      <td>0.53</td>\n",
       "      <td>0.0</td>\n",
       "      <td>1.204514</td>\n",
       "    </tr>\n",
       "    <tr>\n",
       "      <th>1</th>\n",
       "      <td>1.687423e+09</td>\n",
       "      <td>2023-06-22 08:31:29</td>\n",
       "      <td>0.03</td>\n",
       "      <td>0.00</td>\n",
       "      <td>38.1</td>\n",
       "      <td>7075</td>\n",
       "      <td>14</td>\n",
       "      <td>30</td>\n",
       "      <td>20.0</td>\n",
       "      <td>0.5</td>\n",
       "      <td>0.53</td>\n",
       "      <td>0.0</td>\n",
       "      <td>1.204514</td>\n",
       "    </tr>\n",
       "    <tr>\n",
       "      <th>2</th>\n",
       "      <td>1.687423e+09</td>\n",
       "      <td>2023-06-22 08:31:29</td>\n",
       "      <td>0.03</td>\n",
       "      <td>0.01</td>\n",
       "      <td>38.1</td>\n",
       "      <td>7075</td>\n",
       "      <td>14</td>\n",
       "      <td>30</td>\n",
       "      <td>20.0</td>\n",
       "      <td>0.5</td>\n",
       "      <td>0.53</td>\n",
       "      <td>0.0</td>\n",
       "      <td>1.204514</td>\n",
       "    </tr>\n",
       "    <tr>\n",
       "      <th>3</th>\n",
       "      <td>1.687423e+09</td>\n",
       "      <td>2023-06-22 08:31:30</td>\n",
       "      <td>0.03</td>\n",
       "      <td>0.00</td>\n",
       "      <td>38.1</td>\n",
       "      <td>7075</td>\n",
       "      <td>14</td>\n",
       "      <td>30</td>\n",
       "      <td>20.0</td>\n",
       "      <td>0.5</td>\n",
       "      <td>0.53</td>\n",
       "      <td>0.0</td>\n",
       "      <td>1.204514</td>\n",
       "    </tr>\n",
       "    <tr>\n",
       "      <th>4</th>\n",
       "      <td>1.687423e+09</td>\n",
       "      <td>2023-06-22 08:31:31</td>\n",
       "      <td>0.03</td>\n",
       "      <td>0.00</td>\n",
       "      <td>38.1</td>\n",
       "      <td>7075</td>\n",
       "      <td>14</td>\n",
       "      <td>30</td>\n",
       "      <td>20.0</td>\n",
       "      <td>0.5</td>\n",
       "      <td>0.53</td>\n",
       "      <td>0.0</td>\n",
       "      <td>1.204514</td>\n",
       "    </tr>\n",
       "    <tr>\n",
       "      <th>5</th>\n",
       "      <td>1.687423e+09</td>\n",
       "      <td>2023-06-22 08:31:32</td>\n",
       "      <td>0.03</td>\n",
       "      <td>0.01</td>\n",
       "      <td>38.1</td>\n",
       "      <td>7075</td>\n",
       "      <td>14</td>\n",
       "      <td>30</td>\n",
       "      <td>20.0</td>\n",
       "      <td>0.5</td>\n",
       "      <td>0.53</td>\n",
       "      <td>0.0</td>\n",
       "      <td>1.204514</td>\n",
       "    </tr>\n",
       "    <tr>\n",
       "      <th>6</th>\n",
       "      <td>1.687423e+09</td>\n",
       "      <td>2023-06-22 08:31:32</td>\n",
       "      <td>0.03</td>\n",
       "      <td>0.01</td>\n",
       "      <td>38.1</td>\n",
       "      <td>7075</td>\n",
       "      <td>14</td>\n",
       "      <td>30</td>\n",
       "      <td>20.0</td>\n",
       "      <td>0.5</td>\n",
       "      <td>0.53</td>\n",
       "      <td>0.0</td>\n",
       "      <td>1.204514</td>\n",
       "    </tr>\n",
       "    <tr>\n",
       "      <th>7</th>\n",
       "      <td>1.687423e+09</td>\n",
       "      <td>2023-06-22 08:31:33</td>\n",
       "      <td>0.03</td>\n",
       "      <td>0.01</td>\n",
       "      <td>38.1</td>\n",
       "      <td>7075</td>\n",
       "      <td>14</td>\n",
       "      <td>30</td>\n",
       "      <td>20.0</td>\n",
       "      <td>0.5</td>\n",
       "      <td>0.53</td>\n",
       "      <td>0.0</td>\n",
       "      <td>1.204514</td>\n",
       "    </tr>\n",
       "    <tr>\n",
       "      <th>8</th>\n",
       "      <td>1.687423e+09</td>\n",
       "      <td>2023-06-22 08:31:34</td>\n",
       "      <td>0.03</td>\n",
       "      <td>0.00</td>\n",
       "      <td>38.1</td>\n",
       "      <td>7075</td>\n",
       "      <td>14</td>\n",
       "      <td>30</td>\n",
       "      <td>20.0</td>\n",
       "      <td>0.5</td>\n",
       "      <td>0.53</td>\n",
       "      <td>0.0</td>\n",
       "      <td>1.204514</td>\n",
       "    </tr>\n",
       "    <tr>\n",
       "      <th>9</th>\n",
       "      <td>1.687423e+09</td>\n",
       "      <td>2023-06-22 08:31:35</td>\n",
       "      <td>0.03</td>\n",
       "      <td>0.01</td>\n",
       "      <td>38.1</td>\n",
       "      <td>7075</td>\n",
       "      <td>14</td>\n",
       "      <td>30</td>\n",
       "      <td>20.0</td>\n",
       "      <td>0.5</td>\n",
       "      <td>0.53</td>\n",
       "      <td>0.0</td>\n",
       "      <td>1.204514</td>\n",
       "    </tr>\n",
       "    <tr>\n",
       "      <th>10</th>\n",
       "      <td>1.687423e+09</td>\n",
       "      <td>2023-06-22 08:31:35</td>\n",
       "      <td>0.03</td>\n",
       "      <td>0.01</td>\n",
       "      <td>38.1</td>\n",
       "      <td>7075</td>\n",
       "      <td>14</td>\n",
       "      <td>30</td>\n",
       "      <td>20.0</td>\n",
       "      <td>0.5</td>\n",
       "      <td>0.53</td>\n",
       "      <td>0.0</td>\n",
       "      <td>1.204514</td>\n",
       "    </tr>\n",
       "    <tr>\n",
       "      <th>11</th>\n",
       "      <td>1.687423e+09</td>\n",
       "      <td>2023-06-22 08:31:36</td>\n",
       "      <td>0.03</td>\n",
       "      <td>0.00</td>\n",
       "      <td>38.1</td>\n",
       "      <td>7075</td>\n",
       "      <td>14</td>\n",
       "      <td>30</td>\n",
       "      <td>20.0</td>\n",
       "      <td>0.5</td>\n",
       "      <td>0.53</td>\n",
       "      <td>0.0</td>\n",
       "      <td>1.204514</td>\n",
       "    </tr>\n",
       "  </tbody>\n",
       "</table>\n",
       "</div>"
      ],
      "text/plain": [
       "       Timestamp                 Time     V     A     T  alloy  voltage  \\\n",
       "0   1.687423e+09  2023-06-22 08:31:28  0.03  0.00  38.1   7075       14   \n",
       "1   1.687423e+09  2023-06-22 08:31:29  0.03  0.00  38.1   7075       14   \n",
       "2   1.687423e+09  2023-06-22 08:31:29  0.03  0.01  38.1   7075       14   \n",
       "3   1.687423e+09  2023-06-22 08:31:30  0.03  0.00  38.1   7075       14   \n",
       "4   1.687423e+09  2023-06-22 08:31:31  0.03  0.00  38.1   7075       14   \n",
       "5   1.687423e+09  2023-06-22 08:31:32  0.03  0.01  38.1   7075       14   \n",
       "6   1.687423e+09  2023-06-22 08:31:32  0.03  0.01  38.1   7075       14   \n",
       "7   1.687423e+09  2023-06-22 08:31:33  0.03  0.01  38.1   7075       14   \n",
       "8   1.687423e+09  2023-06-22 08:31:34  0.03  0.00  38.1   7075       14   \n",
       "9   1.687423e+09  2023-06-22 08:31:35  0.03  0.01  38.1   7075       14   \n",
       "10  1.687423e+09  2023-06-22 08:31:35  0.03  0.01  38.1   7075       14   \n",
       "11  1.687423e+09  2023-06-22 08:31:36  0.03  0.00  38.1   7075       14   \n",
       "\n",
       "    ramp_time  holding_time  area  Imax  modeling_thickness  final_thickness  \n",
       "0          30          20.0   0.5  0.53                 0.0         1.204514  \n",
       "1          30          20.0   0.5  0.53                 0.0         1.204514  \n",
       "2          30          20.0   0.5  0.53                 0.0         1.204514  \n",
       "3          30          20.0   0.5  0.53                 0.0         1.204514  \n",
       "4          30          20.0   0.5  0.53                 0.0         1.204514  \n",
       "5          30          20.0   0.5  0.53                 0.0         1.204514  \n",
       "6          30          20.0   0.5  0.53                 0.0         1.204514  \n",
       "7          30          20.0   0.5  0.53                 0.0         1.204514  \n",
       "8          30          20.0   0.5  0.53                 0.0         1.204514  \n",
       "9          30          20.0   0.5  0.53                 0.0         1.204514  \n",
       "10         30          20.0   0.5  0.53                 0.0         1.204514  \n",
       "11         30          20.0   0.5  0.53                 0.0         1.204514  "
      ]
     },
     "execution_count": 4,
     "metadata": {},
     "output_type": "execute_result"
    }
   ],
   "source": [
    "df_autotreat = pd.read_csv(\"data_analyst.csv\")\n",
    "df_autotreat.head(12)"
   ]
  },
  {
   "cell_type": "code",
   "execution_count": 35,
   "metadata": {},
   "outputs": [
    {
     "data": {
      "image/png": "[encoded data removed]",
      "text/plain": [
       "<Figure size 1000x500 with 1 Axes>"
      ]
     },
     "metadata": {},
     "output_type": "display_data"
    }
   ],
   "source": [
    "muesta_fin=270000\n",
    "muestra_in=200000\n",
    "df_autotreat['final_thickness'].iloc[muestra_in:muesta_fin].plot(figsize=(10,5))\n",
    "plt.plot(df_autotreat['modeling_thickness'].iloc[muestra_in:muesta_fin],label='modeling_thickness')\n",
    "plt.plot(df_autotreat['V'].iloc[muestra_in:muesta_fin],label='v')\n",
    "plt.plot(df_autotreat['voltage'].iloc[muestra_in:muesta_fin],label='voltage')\n",
    "plt.plot(df_autotreat['ramp_time'].iloc[muestra_in:muesta_fin],label='ramp_time')\n",
    "plt.plot(df_autotreat['holding_time'].iloc[muestra_in:muesta_fin],label='holding_time')\n",
    "plt.grid(alpha=0.5, which='both')\n",
    "plt.xlabel('index')\n",
    "plt.ylabel('Scaled data')\n",
    "plt.legend()\n",
    "plt.show()"
   ]
  },
  {
   "cell_type": "markdown",
   "metadata": {},
   "source": [
    "Voy a predecir con el estadistico VAR"
   ]
  },
  {
   "cell_type": "code",
   "execution_count": 104,
   "metadata": {},
   "outputs": [
    {
     "data": {
      "text/html": [
       "<div>\n",
       "<style scoped>\n",
       "    .dataframe tbody tr th:only-of-type {\n",
       "        vertical-align: middle;\n",
       "    }\n",
       "\n",
       "    .dataframe tbody tr th {\n",
       "        vertical-align: top;\n",
       "    }\n",
       "\n",
       "    .dataframe thead th {\n",
       "        text-align: right;\n",
       "    }\n",
       "</style>\n",
       "<table border=\"1\" class=\"dataframe\">\n",
       "  <thead>\n",
       "    <tr style=\"text-align: right;\">\n",
       "      <th></th>\n",
       "      <th>V</th>\n",
       "      <th>A</th>\n",
       "      <th>T</th>\n",
       "      <th>voltage</th>\n",
       "      <th>ramp_time</th>\n",
       "      <th>holding_time</th>\n",
       "      <th>Imax</th>\n",
       "      <th>modeling_thickness</th>\n",
       "    </tr>\n",
       "  </thead>\n",
       "  <tbody>\n",
       "    <tr>\n",
       "      <th>0</th>\n",
       "      <td>0.03</td>\n",
       "      <td>0.00</td>\n",
       "      <td>38.1</td>\n",
       "      <td>14</td>\n",
       "      <td>30</td>\n",
       "      <td>20.0</td>\n",
       "      <td>0.53</td>\n",
       "      <td>0.0</td>\n",
       "    </tr>\n",
       "    <tr>\n",
       "      <th>1</th>\n",
       "      <td>0.03</td>\n",
       "      <td>0.00</td>\n",
       "      <td>38.1</td>\n",
       "      <td>14</td>\n",
       "      <td>30</td>\n",
       "      <td>20.0</td>\n",
       "      <td>0.53</td>\n",
       "      <td>0.0</td>\n",
       "    </tr>\n",
       "    <tr>\n",
       "      <th>2</th>\n",
       "      <td>0.03</td>\n",
       "      <td>0.01</td>\n",
       "      <td>38.1</td>\n",
       "      <td>14</td>\n",
       "      <td>30</td>\n",
       "      <td>20.0</td>\n",
       "      <td>0.53</td>\n",
       "      <td>0.0</td>\n",
       "    </tr>\n",
       "    <tr>\n",
       "      <th>3</th>\n",
       "      <td>0.03</td>\n",
       "      <td>0.00</td>\n",
       "      <td>38.1</td>\n",
       "      <td>14</td>\n",
       "      <td>30</td>\n",
       "      <td>20.0</td>\n",
       "      <td>0.53</td>\n",
       "      <td>0.0</td>\n",
       "    </tr>\n",
       "    <tr>\n",
       "      <th>4</th>\n",
       "      <td>0.03</td>\n",
       "      <td>0.00</td>\n",
       "      <td>38.1</td>\n",
       "      <td>14</td>\n",
       "      <td>30</td>\n",
       "      <td>20.0</td>\n",
       "      <td>0.53</td>\n",
       "      <td>0.0</td>\n",
       "    </tr>\n",
       "  </tbody>\n",
       "</table>\n",
       "</div>"
      ],
      "text/plain": [
       "      V     A     T  voltage  ramp_time  holding_time  Imax  \\\n",
       "0  0.03  0.00  38.1       14         30          20.0  0.53   \n",
       "1  0.03  0.00  38.1       14         30          20.0  0.53   \n",
       "2  0.03  0.01  38.1       14         30          20.0  0.53   \n",
       "3  0.03  0.00  38.1       14         30          20.0  0.53   \n",
       "4  0.03  0.00  38.1       14         30          20.0  0.53   \n",
       "\n",
       "   modeling_thickness  \n",
       "0                 0.0  \n",
       "1                 0.0  \n",
       "2                 0.0  \n",
       "3                 0.0  \n",
       "4                 0.0  "
      ]
     },
     "execution_count": 104,
     "metadata": {},
     "output_type": "execute_result"
    }
   ],
   "source": [
    "X = df_autotreat[['V', 'A', 'T', 'voltage', 'ramp_time', 'holding_time', 'Imax']]\n",
    "y = df_autotreat[['modeling_thickness']]\n",
    "df_autotreat[['V', 'A', 'T', 'voltage', 'ramp_time', 'holding_time', 'Imax','modeling_thickness']].head()"
   ]
  },
  {
   "cell_type": "code",
   "execution_count": 105,
   "metadata": {},
   "outputs": [
    {
     "data": {
      "image/png": "[encoded data removed]",
      "text/plain": [
       "<Figure size 1000x500 with 1 Axes>"
      ]
     },
     "metadata": {},
     "output_type": "display_data"
    }
   ],
   "source": [
    "df_to_predict= df_autotreat[['V', 'ramp_time', 'holding_time','modeling_thickness']]\n",
    "scaler = StandardScaler()\n",
    "\n",
    "# Transform data\n",
    "scaled_values = scaler.fit_transform(df_to_predict)\n",
    "\n",
    "# Convert to dataframe\n",
    "df_scaled = pd.DataFrame(scaled_values, \n",
    "                         columns=df_to_predict.columns, \n",
    "                         index=df_to_predict.index)\n",
    "\n",
    "# Visualize data\n",
    "df_scaled.iloc[:50000].plot(figsize=(10,5))\n",
    "plt.grid(alpha=0.5, which='both')\n",
    "plt.xlabel('index')\n",
    "plt.ylabel('Scaled data')\n",
    "plt.show()"
   ]
  },
  {
   "cell_type": "code",
   "execution_count": 113,
   "metadata": {},
   "outputs": [
    {
     "name": "stdout",
     "output_type": "stream",
     "text": [
      "The optimal lag order selected: {'aic': 31, 'bic': 18, 'hqic': 20, 'fpe': 31}\n"
     ]
    }
   ],
   "source": [
    "new_df_scaled=df_scaled[['V', 'ramp_time','modeling_thickness']].iloc[:50000]\n",
    "model = VAR(new_df_scaled)\n",
    "optimal_lags = model.select_order()\n",
    "\n",
    "print(f\"The optimal lag order selected: {optimal_lags.selected_orders}\")\n",
    "#esto busca el lag mas efectivo"
   ]
  },
  {
   "cell_type": "code",
   "execution_count": 107,
   "metadata": {},
   "outputs": [
    {
     "data": {
      "text/plain": [
       "  Summary of Regression Results   \n",
       "==================================\n",
       "Model:                         VAR\n",
       "Method:                        OLS\n",
       "Date:           Tue, 09, Jan, 2024\n",
       "Time:                     10:20:36\n",
       "--------------------------------------------------------------------\n",
       "No. of Equations:         3.00000    BIC:                   -23.8790\n",
       "Nobs:                     49982.0    HQIC:                  -23.8990\n",
       "Log likelihood:           384888.    FPE:                4.13861e-11\n",
       "AIC:                     -23.9081    Det(Omega_mle):     4.12497e-11\n",
       "--------------------------------------------------------------------\n",
       "Results for equation V\n",
       "=========================================================================================\n",
       "                            coefficient       std. error           t-stat            prob\n",
       "-----------------------------------------------------------------------------------------\n",
       "const                          0.000046         0.000034            1.365           0.172\n",
       "L1.V                           0.786309         0.004470          175.919           0.000\n",
       "L1.ramp_time                   0.000309         0.001464            0.211           0.833\n",
       "L1.modeling_thickness          0.000438         0.000810            0.541           0.588\n",
       "L2.V                           0.134487         0.005674           23.701           0.000\n",
       "L2.ramp_time                  -0.000500         0.001964           -0.254           0.799\n",
       "L2.modeling_thickness         -0.000177         0.001060           -0.167           0.867\n",
       "L3.V                           0.021808         0.005700            3.826           0.000\n",
       "L3.ramp_time                  -0.000158         0.001970           -0.080           0.936\n",
       "L3.modeling_thickness         -0.000383         0.001065           -0.359           0.719\n",
       "L4.V                           0.431955         0.005695           75.845           0.000\n",
       "L4.ramp_time                  -0.001389         0.001970           -0.705           0.481\n",
       "L4.modeling_thickness         -0.000514         0.001066           -0.482           0.630\n",
       "L5.V                          -0.102888         0.006001          -17.146           0.000\n",
       "L5.ramp_time                   0.000415         0.001979            0.210           0.834\n",
       "L5.modeling_thickness          0.000099         0.001069            0.092           0.926\n",
       "L6.V                           0.037948         0.005965            6.362           0.000\n",
       "L6.ramp_time                   0.000100         0.002012            0.050           0.961\n",
       "L6.modeling_thickness         -0.000097         0.001076           -0.090           0.928\n",
       "L7.V                          -0.117792         0.005850          -20.135           0.000\n",
       "L7.ramp_time                   0.000551         0.002014            0.273           0.785\n",
       "L7.modeling_thickness          0.000269         0.001077            0.250           0.803\n",
       "L8.V                          -0.051954         0.005864           -8.860           0.000\n",
       "L8.ramp_time                  -0.000325         0.002015           -0.161           0.872\n",
       "L8.modeling_thickness          0.000155         0.001077            0.144           0.885\n",
       "L9.V                          -0.143511         0.005834          -24.597           0.000\n",
       "L9.ramp_time                   0.000929         0.002013            0.461           0.645\n",
       "L9.modeling_thickness          0.000310         0.001077            0.288           0.773\n",
       "L10.V                         -0.141183         0.005834          -24.198           0.000\n",
       "L10.ramp_time                  0.000677         0.002013            0.336           0.737\n",
       "L10.modeling_thickness         0.000057         0.001077            0.053           0.958\n",
       "L11.V                          0.075621         0.005864           12.896           0.000\n",
       "L11.ramp_time                 -0.000252         0.002015           -0.125           0.901\n",
       "L11.modeling_thickness         0.000080         0.001077            0.074           0.941\n",
       "L12.V                          0.262604         0.005850           44.889           0.000\n",
       "L12.ramp_time                 -0.001023         0.002014           -0.508           0.612\n",
       "L12.modeling_thickness        -0.000334         0.001077           -0.310           0.756\n",
       "L13.V                         -0.179761         0.005965          -30.138           0.000\n",
       "L13.ramp_time                  0.000668         0.002012            0.332           0.740\n",
       "L13.modeling_thickness         0.000339         0.001076            0.315           0.753\n",
       "L14.V                         -0.090370         0.006001          -15.059           0.000\n",
       "L14.ramp_time                  0.000250         0.001979            0.126           0.899\n",
       "L14.modeling_thickness        -0.000064         0.001069           -0.060           0.952\n",
       "L15.V                          0.056957         0.005695           10.001           0.000\n",
       "L15.ramp_time                 -0.000511         0.001970           -0.259           0.795\n",
       "L15.modeling_thickness         0.000081         0.001066            0.076           0.940\n",
       "L16.V                          0.058341         0.005700           10.235           0.000\n",
       "L16.ramp_time                 -0.000010         0.001970           -0.005           0.996\n",
       "L16.modeling_thickness        -0.000262         0.001065           -0.246           0.806\n",
       "L17.V                         -0.091061         0.005674          -16.048           0.000\n",
       "L17.ramp_time                  0.000457         0.001964            0.232           0.816\n",
       "L17.modeling_thickness         0.000206         0.001060            0.194           0.846\n",
       "L18.V                          0.052263         0.004472           11.688           0.000\n",
       "L18.ramp_time                 -0.000164         0.001464           -0.112           0.911\n",
       "L18.modeling_thickness        -0.000390         0.000810           -0.481           0.630\n",
       "=========================================================================================\n",
       "\n",
       "Results for equation ramp_time\n",
       "=========================================================================================\n",
       "                            coefficient       std. error           t-stat            prob\n",
       "-----------------------------------------------------------------------------------------\n",
       "const                         -0.000078         0.000110           -0.708           0.479\n",
       "L1.V                           0.010934         0.014425            0.758           0.448\n",
       "L1.ramp_time                   0.873487         0.004724          184.905           0.000\n",
       "L1.modeling_thickness         -0.050694         0.002613          -19.397           0.000\n",
       "L2.V                          -0.005306         0.018312           -0.290           0.772\n",
       "L2.ramp_time                   0.105130         0.006339           16.583           0.000\n",
       "L2.modeling_thickness          0.036221         0.003420           10.592           0.000\n",
       "L3.V                           0.001557         0.018396            0.085           0.933\n",
       "L3.ramp_time                  -0.005231         0.006357           -0.823           0.411\n",
       "L3.modeling_thickness         -0.001186         0.003438           -0.345           0.730\n",
       "L4.V                           0.005277         0.018380            0.287           0.774\n",
       "L4.ramp_time                  -0.106062         0.006358          -16.681           0.000\n",
       "L4.modeling_thickness         -0.031719         0.003441           -9.219           0.000\n",
       "L5.V                          -0.017248         0.019366           -0.891           0.373\n",
       "L5.ramp_time                   0.236606         0.006388           37.038           0.000\n",
       "L5.modeling_thickness          0.078483         0.003449           22.756           0.000\n",
       "L6.V                           0.001377         0.019249            0.072           0.943\n",
       "L6.ramp_time                  -0.064107         0.006494           -9.872           0.000\n",
       "L6.modeling_thickness         -0.010282         0.003473           -2.960           0.003\n",
       "L7.V                          -0.000171         0.018879           -0.009           0.993\n",
       "L7.ramp_time                  -0.034885         0.006500           -5.367           0.000\n",
       "L7.modeling_thickness         -0.019079         0.003475           -5.490           0.000\n",
       "L8.V                          -0.002232         0.018925           -0.118           0.906\n",
       "L8.ramp_time                  -0.021349         0.006502           -3.283           0.001\n",
       "L8.modeling_thickness          0.000526         0.003476            0.151           0.880\n",
       "L9.V                          -0.001465         0.018829           -0.078           0.938\n",
       "L9.ramp_time                   0.063716         0.006498            9.806           0.000\n",
       "L9.modeling_thickness          0.015765         0.003475            4.537           0.000\n",
       "L10.V                          0.003207         0.018829            0.170           0.865\n",
       "L10.ramp_time                 -0.051840         0.006498           -7.978           0.000\n",
       "L10.modeling_thickness        -0.019739         0.003475           -5.680           0.000\n",
       "L11.V                          0.001389         0.018925            0.073           0.942\n",
       "L11.ramp_time                 -0.005758         0.006502           -0.885           0.376\n",
       "L11.modeling_thickness        -0.003364         0.003476           -0.968           0.333\n",
       "L12.V                         -0.004395         0.018880           -0.233           0.816\n",
       "L12.ramp_time                  0.006268         0.006500            0.964           0.335\n",
       "L12.modeling_thickness         0.004260         0.003475            1.226           0.220\n",
       "L13.V                          0.003602         0.019249            0.187           0.852\n",
       "L13.ramp_time                  0.014491         0.006494            2.232           0.026\n",
       "L13.modeling_thickness         0.002306         0.003473            0.664           0.507\n",
       "L14.V                          0.002560         0.019367            0.132           0.895\n",
       "L14.ramp_time                 -0.019776         0.006388           -3.096           0.002\n",
       "L14.modeling_thickness        -0.005848         0.003449           -1.696           0.090\n",
       "L15.V                         -0.001405         0.018380           -0.076           0.939\n",
       "L15.ramp_time                  0.006182         0.006358            0.972           0.331\n",
       "L15.modeling_thickness         0.002859         0.003441            0.831           0.406\n",
       "L16.V                          0.001900         0.018396            0.103           0.918\n",
       "L16.ramp_time                  0.004481         0.006357            0.705           0.481\n",
       "L16.modeling_thickness         0.001904         0.003438            0.554           0.580\n",
       "L17.V                          0.003086         0.018313            0.169           0.866\n",
       "L17.ramp_time                  0.001547         0.006339            0.244           0.807\n",
       "L17.modeling_thickness        -0.000136         0.003420           -0.040           0.968\n",
       "L18.V                         -0.002441         0.014431           -0.169           0.866\n",
       "L18.ramp_time                 -0.003083         0.004724           -0.653           0.514\n",
       "L18.modeling_thickness        -0.000523         0.002612           -0.200           0.841\n",
       "=========================================================================================\n",
       "\n",
       "Results for equation modeling_thickness\n",
       "=========================================================================================\n",
       "                            coefficient       std. error           t-stat            prob\n",
       "-----------------------------------------------------------------------------------------\n",
       "const                         -0.000234         0.000198           -1.181           0.238\n",
       "L1.V                           0.022667         0.026074            0.869           0.385\n",
       "L1.ramp_time                  -0.110607         0.008539          -12.953           0.000\n",
       "L1.modeling_thickness          0.810124         0.004724          171.492           0.000\n",
       "L2.V                           0.000543         0.033100            0.016           0.987\n",
       "L2.ramp_time                   0.072616         0.011459            6.337           0.000\n",
       "L2.modeling_thickness          0.141063         0.006181           22.821           0.000\n",
       "L3.V                          -0.008273         0.033251           -0.249           0.804\n",
       "L3.ramp_time                   0.044508         0.011491            3.873           0.000\n",
       "L3.modeling_thickness         -0.052708         0.006214           -8.482           0.000\n",
       "L4.V                           0.001736         0.033223            0.052           0.958\n",
       "L4.ramp_time                  -0.217700         0.011493          -18.943           0.000\n",
       "L4.modeling_thickness          0.056554         0.006219            9.094           0.000\n",
       "L5.V                          -0.028098         0.035005           -0.803           0.422\n",
       "L5.ramp_time                   0.324574         0.011547           28.109           0.000\n",
       "L5.modeling_thickness          0.127218         0.006234           20.407           0.000\n",
       "L6.V                          -0.007684         0.034794           -0.221           0.825\n",
       "L6.ramp_time                  -0.047755         0.011737           -4.069           0.000\n",
       "L6.modeling_thickness         -0.046304         0.006278           -7.375           0.000\n",
       "L7.V                           0.000432         0.034125            0.013           0.990\n",
       "L7.ramp_time                  -0.060487         0.011749           -5.148           0.000\n",
       "L7.modeling_thickness         -0.027121         0.006282           -4.317           0.000\n",
       "L8.V                           0.002457         0.034207            0.072           0.943\n",
       "L8.ramp_time                  -0.018374         0.011754           -1.563           0.118\n",
       "L8.modeling_thickness          0.002709         0.006284            0.431           0.666\n",
       "L9.V                           0.008160         0.034035            0.240           0.811\n",
       "L9.ramp_time                   0.085887         0.011745            7.313           0.000\n",
       "L9.modeling_thickness          0.012207         0.006281            1.943           0.052\n",
       "L10.V                          0.006357         0.034035            0.187           0.852\n",
       "L10.ramp_time                 -0.077958         0.011745           -6.637           0.000\n",
       "L10.modeling_thickness        -0.029978         0.006281           -4.773           0.000\n",
       "L11.V                          0.007037         0.034207            0.206           0.837\n",
       "L11.ramp_time                 -0.010522         0.011754           -0.895           0.371\n",
       "L11.modeling_thickness        -0.004124         0.006284           -0.656           0.512\n",
       "L12.V                          0.002784         0.034126            0.082           0.935\n",
       "L12.ramp_time                  0.012151         0.011749            1.034           0.301\n",
       "L12.modeling_thickness         0.006288         0.006282            1.001           0.317\n",
       "L13.V                         -0.010360         0.034794           -0.298           0.766\n",
       "L13.ramp_time                  0.016319         0.011737            1.390           0.164\n",
       "L13.modeling_thickness         0.001879         0.006278            0.299           0.765\n",
       "L14.V                         -0.008299         0.035007           -0.237           0.813\n",
       "L14.ramp_time                 -0.026886         0.011547           -2.328           0.020\n",
       "L14.modeling_thickness        -0.007488         0.006234           -1.201           0.230\n",
       "L15.V                         -0.004377         0.033223           -0.132           0.895\n",
       "L15.ramp_time                  0.009761         0.011493            0.849           0.396\n",
       "L15.modeling_thickness         0.004930         0.006219            0.793           0.428\n",
       "L16.V                          0.001436         0.033251            0.043           0.966\n",
       "L16.ramp_time                  0.007111         0.011490            0.619           0.536\n",
       "L16.modeling_thickness         0.003071         0.006214            0.494           0.621\n",
       "L17.V                          0.002520         0.033101            0.076           0.939\n",
       "L17.ramp_time                  0.001341         0.011459            0.117           0.907\n",
       "L17.modeling_thickness        -0.000490         0.006181           -0.079           0.937\n",
       "L18.V                          0.013626         0.026084            0.522           0.601\n",
       "L18.ramp_time                 -0.004112         0.008539           -0.482           0.630\n",
       "L18.modeling_thickness         0.000629         0.004722            0.133           0.894\n",
       "=========================================================================================\n",
       "\n",
       "Correlation matrix of residuals\n",
       "                             V  ramp_time  modeling_thickness\n",
       "V                     1.000000   0.011491            0.011340\n",
       "ramp_time             0.011491   1.000000            0.320032\n",
       "modeling_thickness    0.011340   0.320032            1.000000\n",
       "\n"
      ]
     },
     "execution_count": 107,
     "metadata": {},
     "output_type": "execute_result"
    }
   ],
   "source": [
    "lag_order = optimal_lags.selected_orders['bic']\n",
    "results = model.fit(lag_order)\n",
    "\n",
    "# Estimate the model (VAR) and show summary\n",
    "var_model = results.model\n",
    "results.summary()"
   ]
  },
  {
   "cell_type": "code",
   "execution_count": 108,
   "metadata": {},
   "outputs": [],
   "source": [
    "# Forecast \n",
    "horizon = 100\n",
    "forecast = results.forecast(new_df_scaled.values[-lag_order:], steps=horizon)\n",
    "\n",
    "# Convert to dataframe\n",
    "df_forecast = pd.DataFrame(forecast, \n",
    "                           columns=new_df_scaled.columns, \n",
    "                           index=df_scaled.iloc[50000:50000+horizon].index)"
   ]
  },
  {
   "cell_type": "code",
   "execution_count": 109,
   "metadata": {},
   "outputs": [
    {
     "data": {
      "image/png": "[encoded data removed]",
      "text/plain": [
       "<Figure size 1000x500 with 1 Axes>"
      ]
     },
     "metadata": {},
     "output_type": "display_data"
    }
   ],
   "source": [
    "ax = new_df_scaled[49000:].V.plot(figsize=(10,5))\n",
    "df_scaled[50000:51000+horizon].V.plot(ax=ax)\n",
    "df_forecast.V.plot(ax=ax)\n",
    "plt.grid(alpha=0.5, which='both')\n",
    "plt.xlim(49000, 51000) \n",
    "plt.title('prediccion de V')\n",
    "plt.xlabel('Index')\n",
    "plt.ylabel('Variable')\n",
    "plt.legend(['Train', 'Test', 'Forecast'])\n",
    "plt.show()\n",
    "#ramp_time\n",
    "#modeling_thickness"
   ]
  },
  {
   "cell_type": "markdown",
   "metadata": {},
   "source": [
    "## Prediccion Inversa"
   ]
  },
  {
   "cell_type": "code",
   "execution_count": 103,
   "metadata": {},
   "outputs": [
    {
     "data": {
      "text/html": [
       "<div>\n",
       "<style scoped>\n",
       "    .dataframe tbody tr th:only-of-type {\n",
       "        vertical-align: middle;\n",
       "    }\n",
       "\n",
       "    .dataframe tbody tr th {\n",
       "        vertical-align: top;\n",
       "    }\n",
       "\n",
       "    .dataframe thead th {\n",
       "        text-align: right;\n",
       "    }\n",
       "</style>\n",
       "<table border=\"1\" class=\"dataframe\">\n",
       "  <thead>\n",
       "    <tr style=\"text-align: right;\">\n",
       "      <th></th>\n",
       "      <th>Timestamp</th>\n",
       "      <th>Time</th>\n",
       "      <th>V</th>\n",
       "      <th>A</th>\n",
       "      <th>T</th>\n",
       "      <th>alloy</th>\n",
       "      <th>voltage</th>\n",
       "      <th>ramp_time</th>\n",
       "      <th>holding_time</th>\n",
       "      <th>area</th>\n",
       "      <th>Imax</th>\n",
       "      <th>modeling_thickness</th>\n",
       "      <th>final_thickness</th>\n",
       "    </tr>\n",
       "  </thead>\n",
       "  <tbody>\n",
       "    <tr>\n",
       "      <th>0</th>\n",
       "      <td>1.687423e+09</td>\n",
       "      <td>2023-06-22 08:31:28</td>\n",
       "      <td>0.03</td>\n",
       "      <td>0.00</td>\n",
       "      <td>38.1</td>\n",
       "      <td>7075</td>\n",
       "      <td>14</td>\n",
       "      <td>30</td>\n",
       "      <td>20.0</td>\n",
       "      <td>0.5</td>\n",
       "      <td>0.53</td>\n",
       "      <td>0.0</td>\n",
       "      <td>1.204514</td>\n",
       "    </tr>\n",
       "    <tr>\n",
       "      <th>1</th>\n",
       "      <td>1.687423e+09</td>\n",
       "      <td>2023-06-22 08:31:29</td>\n",
       "      <td>0.03</td>\n",
       "      <td>0.00</td>\n",
       "      <td>38.1</td>\n",
       "      <td>7075</td>\n",
       "      <td>14</td>\n",
       "      <td>30</td>\n",
       "      <td>20.0</td>\n",
       "      <td>0.5</td>\n",
       "      <td>0.53</td>\n",
       "      <td>0.0</td>\n",
       "      <td>1.204514</td>\n",
       "    </tr>\n",
       "    <tr>\n",
       "      <th>2</th>\n",
       "      <td>1.687423e+09</td>\n",
       "      <td>2023-06-22 08:31:29</td>\n",
       "      <td>0.03</td>\n",
       "      <td>0.01</td>\n",
       "      <td>38.1</td>\n",
       "      <td>7075</td>\n",
       "      <td>14</td>\n",
       "      <td>30</td>\n",
       "      <td>20.0</td>\n",
       "      <td>0.5</td>\n",
       "      <td>0.53</td>\n",
       "      <td>0.0</td>\n",
       "      <td>1.204514</td>\n",
       "    </tr>\n",
       "    <tr>\n",
       "      <th>3</th>\n",
       "      <td>1.687423e+09</td>\n",
       "      <td>2023-06-22 08:31:30</td>\n",
       "      <td>0.03</td>\n",
       "      <td>0.00</td>\n",
       "      <td>38.1</td>\n",
       "      <td>7075</td>\n",
       "      <td>14</td>\n",
       "      <td>30</td>\n",
       "      <td>20.0</td>\n",
       "      <td>0.5</td>\n",
       "      <td>0.53</td>\n",
       "      <td>0.0</td>\n",
       "      <td>1.204514</td>\n",
       "    </tr>\n",
       "    <tr>\n",
       "      <th>4</th>\n",
       "      <td>1.687423e+09</td>\n",
       "      <td>2023-06-22 08:31:31</td>\n",
       "      <td>0.03</td>\n",
       "      <td>0.00</td>\n",
       "      <td>38.1</td>\n",
       "      <td>7075</td>\n",
       "      <td>14</td>\n",
       "      <td>30</td>\n",
       "      <td>20.0</td>\n",
       "      <td>0.5</td>\n",
       "      <td>0.53</td>\n",
       "      <td>0.0</td>\n",
       "      <td>1.204514</td>\n",
       "    </tr>\n",
       "  </tbody>\n",
       "</table>\n",
       "</div>"
      ],
      "text/plain": [
       "      Timestamp                 Time     V     A     T  alloy  voltage  \\\n",
       "0  1.687423e+09  2023-06-22 08:31:28  0.03  0.00  38.1   7075       14   \n",
       "1  1.687423e+09  2023-06-22 08:31:29  0.03  0.00  38.1   7075       14   \n",
       "2  1.687423e+09  2023-06-22 08:31:29  0.03  0.01  38.1   7075       14   \n",
       "3  1.687423e+09  2023-06-22 08:31:30  0.03  0.00  38.1   7075       14   \n",
       "4  1.687423e+09  2023-06-22 08:31:31  0.03  0.00  38.1   7075       14   \n",
       "\n",
       "   ramp_time  holding_time  area  Imax  modeling_thickness  final_thickness  \n",
       "0         30          20.0   0.5  0.53                 0.0         1.204514  \n",
       "1         30          20.0   0.5  0.53                 0.0         1.204514  \n",
       "2         30          20.0   0.5  0.53                 0.0         1.204514  \n",
       "3         30          20.0   0.5  0.53                 0.0         1.204514  \n",
       "4         30          20.0   0.5  0.53                 0.0         1.204514  "
      ]
     },
     "execution_count": 103,
     "metadata": {},
     "output_type": "execute_result"
    }
   ],
   "source": [
    "df_autotreat.head(5)"
   ]
  },
  {
   "cell_type": "markdown",
   "metadata": {},
   "source": [
    "Se va a obtener del dataframe anterior los datos especificos de cada V,holndig y ramp para los espesores finales dados"
   ]
  },
  {
   "cell_type": "code",
   "execution_count": 5,
   "metadata": {},
   "outputs": [
    {
     "data": {
      "text/html": [
       "<div>\n",
       "<style scoped>\n",
       "    .dataframe tbody tr th:only-of-type {\n",
       "        vertical-align: middle;\n",
       "    }\n",
       "\n",
       "    .dataframe tbody tr th {\n",
       "        vertical-align: top;\n",
       "    }\n",
       "\n",
       "    .dataframe thead th {\n",
       "        text-align: right;\n",
       "    }\n",
       "</style>\n",
       "<table border=\"1\" class=\"dataframe\">\n",
       "  <thead>\n",
       "    <tr style=\"text-align: right;\">\n",
       "      <th></th>\n",
       "      <th>final_thickness</th>\n",
       "      <th>Voltage</th>\n",
       "      <th>holding_time</th>\n",
       "      <th>ramp_time</th>\n",
       "    </tr>\n",
       "  </thead>\n",
       "  <tbody>\n",
       "    <tr>\n",
       "      <th>0</th>\n",
       "      <td>1.204514</td>\n",
       "      <td>14</td>\n",
       "      <td>20.0</td>\n",
       "      <td>30</td>\n",
       "    </tr>\n",
       "    <tr>\n",
       "      <th>1</th>\n",
       "      <td>3.659806</td>\n",
       "      <td>14</td>\n",
       "      <td>20.0</td>\n",
       "      <td>60</td>\n",
       "    </tr>\n",
       "    <tr>\n",
       "      <th>2</th>\n",
       "      <td>3.633425</td>\n",
       "      <td>14</td>\n",
       "      <td>20.0</td>\n",
       "      <td>60</td>\n",
       "    </tr>\n",
       "    <tr>\n",
       "      <th>3</th>\n",
       "      <td>3.382802</td>\n",
       "      <td>14</td>\n",
       "      <td>20.0</td>\n",
       "      <td>30</td>\n",
       "    </tr>\n",
       "    <tr>\n",
       "      <th>4</th>\n",
       "      <td>3.478467</td>\n",
       "      <td>14</td>\n",
       "      <td>20.0</td>\n",
       "      <td>30</td>\n",
       "    </tr>\n",
       "  </tbody>\n",
       "</table>\n",
       "</div>"
      ],
      "text/plain": [
       "   final_thickness  Voltage  holding_time  ramp_time\n",
       "0         1.204514       14          20.0         30\n",
       "1         3.659806       14          20.0         60\n",
       "2         3.633425       14          20.0         60\n",
       "3         3.382802       14          20.0         30\n",
       "4         3.478467       14          20.0         30"
      ]
     },
     "execution_count": 5,
     "metadata": {},
     "output_type": "execute_result"
    }
   ],
   "source": [
    "def obtener_valores_input(data):\n",
    "    '''del dataframe orignal obtener V,holndig,ramp para cada final thickness'''\n",
    "    unique_final_thickness=data['final_thickness'].unique()\n",
    "    final_thickness=[]\n",
    "    voltg=[]\n",
    "    holding=[]\n",
    "    ramp=[]\n",
    "    for i in unique_final_thickness:\n",
    "        a=data[data['final_thickness'] == i]\n",
    "        len=a.shape[0]\n",
    "        #obtener los valores de los inputs a mitad de cada salto, aqui es mas fiable\n",
    "        v=a['voltage'].iloc[round(len/2)]\n",
    "        h=a['holding_time'].iloc[round(len/2)]\n",
    "        r=a['ramp_time'].iloc[round(len/2)]\n",
    "        final_thickness.append(i)\n",
    "        voltg.append(v)\n",
    "        holding.append(h)\n",
    "        ramp.append(r)\n",
    "    dict={'final_thickness':final_thickness,'Voltage':voltg,'holding_time':holding,'ramp_time':ramp}\n",
    "    df = pd.DataFrame(dict)\n",
    "    return df\n",
    "x_input=obtener_valores_input(df_autotreat)\n",
    "x_input.head()"
   ]
  },
  {
   "cell_type": "code",
   "execution_count": 149,
   "metadata": {},
   "outputs": [
    {
     "data": {
      "image/png": "[encoded data removed]",
      "text/plain": [
       "<Figure size 640x480 with 1 Axes>"
      ]
     },
     "metadata": {},
     "output_type": "display_data"
    }
   ],
   "source": [
    "sns.scatterplot(x='final_thickness',y='Voltage', hue='holding_time', data=x_input)\n",
    "plt.show()\n",
    "#se observan ciertos outliers luego se hablara de ello"
   ]
  },
  {
   "cell_type": "code",
   "execution_count": 16,
   "metadata": {},
   "outputs": [],
   "source": [
    "X = x_input[['Voltage', 'holding_time','ramp_time']] # Habrá que añadir alloy y area si en el futuro tienen variabilidad.\n",
    "y = x_input[['final_thickness']]\n",
    "\n",
    "scaler = StandardScaler()\n",
    "X_scaled = scaler.fit_transform(X)\n",
    "X_train, X_test, y_train, y_test = train_test_split(X_scaled, y, test_size=0.2, random_state=28)"
   ]
  },
  {
   "cell_type": "markdown",
   "metadata": {},
   "source": [
    "Definimos los modelos"
   ]
  },
  {
   "cell_type": "code",
   "execution_count": 52,
   "metadata": {},
   "outputs": [],
   "source": [
    "models_and_params = {\n",
    "        \"Random Forest\": {\n",
    "        \"model\": RandomForestRegressor(random_state=42),\n",
    "        \"grid_params\": {\n",
    "            \"n_estimators\": [50, 100, 200, 500],\n",
    "            \"max_depth\": [None] + list(range(10, 31, 10)),\n",
    "            \"min_samples_split\": [2, 5, 10],\n",
    "            \"min_samples_leaf\": [1, 2, 4]\n",
    "        }\n",
    "    },\n",
    "    \"XGBoost\": {\n",
    "        \"model\": xgb.XGBRegressor(random_state=42),\n",
    "        \"grid_params\": {\n",
    "            \"n_estimators\": [50, 100, 200, 500],\n",
    "            \"max_depth\": list(range(2, 11)),\n",
    "            \"learning_rate\": [0.01, 0.1, 0.2],\n",
    "            \"subsample\": [0.5, 0.8, 1.0],\n",
    "            \"colsample_bytree\": [0.5, 0.8, 1.0]\n",
    "        }},\n",
    "    \"SVM\": {\n",
    "        \"model\": SVR(),\n",
    "        \"grid_params\": {\n",
    "            \"C\": [0.1, 1, 10],\n",
    "            \"kernel\": ['linear', 'rbf', 'poly'],\n",
    "            \"gamma\": ['scale', 'auto']\n",
    "        }\n",
    "    },\n",
    "    \"Decision Tree\": {\n",
    "        \"model\": DecisionTreeRegressor(random_state=42),\n",
    "        \"grid_params\": {\n",
    "            \"max_depth\": [None] + list(range(10, 31, 10)),\n",
    "            \"min_samples_split\": [2, 5, 10],\n",
    "            \"min_samples_leaf\": [1, 2, 4]\n",
    "        }\n",
    "    }\n",
    "}"
   ]
  },
  {
   "cell_type": "markdown",
   "metadata": {},
   "source": [
    "Obtencion de mejores parametros para los modelos"
   ]
  },
  {
   "cell_type": "code",
   "execution_count": 18,
   "metadata": {},
   "outputs": [
    {
     "name": "stdout",
     "output_type": "stream",
     "text": [
      "Grid search for Random Forest...\n",
      "Fitting 5 folds for each of 144 candidates, totalling 720 fits\n",
      "Best parameters: {'max_depth': None, 'min_samples_leaf': 1, 'min_samples_split': 2, 'n_estimators': 50}\n",
      "Best negative MSE: 0.3840967285350866\n",
      "\n",
      "Grid search for XGBoost...\n",
      "Fitting 5 folds for each of 972 candidates, totalling 4860 fits\n",
      "Best parameters: {'colsample_bytree': 0.8, 'learning_rate': 0.1, 'max_depth': 4, 'n_estimators': 50, 'subsample': 0.8}\n",
      "Best negative MSE: 0.3821232734855227\n",
      "\n",
      "Grid search for SVM...\n",
      "Fitting 5 folds for each of 18 candidates, totalling 90 fits\n",
      "Best parameters: {'C': 10, 'gamma': 'auto', 'kernel': 'rbf'}\n",
      "Best negative MSE: 0.32441516597591674\n",
      "\n",
      "Grid search for Decision Tree...\n",
      "Fitting 5 folds for each of 36 candidates, totalling 180 fits\n",
      "Best parameters: {'max_depth': None, 'min_samples_leaf': 1, 'min_samples_split': 2}\n",
      "Best negative MSE: 0.45347671911116166\n",
      "\n"
     ]
    }
   ],
   "source": [
    "for model_name, model_info in models_and_params.items():\n",
    "    print(f\"Grid search for {model_name}...\")\n",
    "    \n",
    "    # Configurar la búsqueda en cuadrícula\n",
    "    grid = GridSearchCV(model_info[\"model\"], \n",
    "                        model_info[\"grid_params\"], \n",
    "                        cv=5, \n",
    "                        scoring='neg_mean_squared_error',\n",
    "                        n_jobs=-1,\n",
    "                        verbose=1)\n",
    "    \n",
    "    # Entrenar el modelo\n",
    "    grid.fit(X_train, y_train)\n",
    "    \n",
    "    # Mejores parámetros y rendimiento\n",
    "    best_params = grid.best_params_\n",
    "    best_score = -grid.best_score_\n",
    "    \n",
    "    print(f\"Best parameters: {best_params}\")\n",
    "    print(f\"Best negative MSE: {best_score}\\n\")"
   ]
  },
  {
   "cell_type": "markdown",
   "metadata": {},
   "source": [
    "Entrenamiento de los modelos"
   ]
  },
  {
   "cell_type": "code",
   "execution_count": 93,
   "metadata": {},
   "outputs": [
    {
     "name": "stdout",
     "output_type": "stream",
     "text": [
      "Fitting 5 folds for each of 972 candidates, totalling 4860 fits\n"
     ]
    },
    {
     "data": {
      "text/plain": [
       "({'colsample_bytree': 1.0,\n",
       "  'learning_rate': 0.2,\n",
       "  'max_depth': 8,\n",
       "  'n_estimators': 100,\n",
       "  'subsample': 0.5},\n",
       " 0.4809854085623971)"
      ]
     },
     "execution_count": 93,
     "metadata": {},
     "output_type": "execute_result"
    }
   ],
   "source": [
    "# Optimizar hiperparámetros para el modelo de XGBoost\n",
    "xgb_grid = GridSearchCV(models_and_params[\"XGBoost\"][\"model\"], \n",
    "                        models_and_params[\"XGBoost\"][\"grid_params\"], \n",
    "                        cv=5, \n",
    "                        scoring='neg_mean_squared_error',\n",
    "                        n_jobs=-1,\n",
    "                        verbose=1)\n",
    "\n",
    "# Entrenar el modelo\n",
    "xgb_grid.fit(X_train, y_train)\n",
    "\n",
    "# Mejores parámetros y rendimiento\n",
    "best_params_xgb = xgb_grid.best_params_\n",
    "best_score_xgb = -xgb_grid.best_score_\n",
    "\n",
    "best_params_xgb, best_score_xgb"
   ]
  },
  {
   "cell_type": "code",
   "execution_count": 130,
   "metadata": {},
   "outputs": [
    {
     "name": "stdout",
     "output_type": "stream",
     "text": [
      "        Test      Pred\n",
      "0   0.247825  0.470493\n",
      "1   3.134800  2.495894\n",
      "2   1.204514  3.585461\n",
      "3   4.146875  3.949755\n",
      "4   0.552958  2.495894\n",
      "5   5.201987  5.501011\n",
      "6   4.609431  4.429586\n",
      "7   4.130625  3.949755\n",
      "8   0.893625  0.672655\n",
      "9   1.525117  1.852199\n",
      "10  1.193854  1.061329\n",
      "11  2.255125  2.132792\n",
      "12  7.344823  6.820526\n",
      "13  5.620625  5.680525\n",
      "14  4.911066  5.118101\n",
      "15  3.121637  3.643175\n",
      "16  0.876354  1.018008\n",
      "17  7.787959  7.869731\n",
      "18  3.496175  3.173791\n",
      "19  2.131578  2.260775\n",
      "20  3.561075  3.173791\n",
      "21  0.307083  0.470493\n",
      "22  1.678050  1.852199\n"
     ]
    },
    {
     "data": {
      "text/plain": [
       "0.892411491830915"
      ]
     },
     "execution_count": 130,
     "metadata": {},
     "output_type": "execute_result"
    }
   ],
   "source": [
    "xgb_best = xgb.XGBRegressor(**{'colsample_bytree': 1.0, 'learning_rate': 0.1, 'max_depth': 3, 'n_estimators': 50, 'subsample': 1.0})\n",
    "xgb_best.fit(X_train, y_train)\n",
    "r2_xgb = r2_score(y_test, xgb_best.predict(X_test))\n",
    "pred_vs_test = pd.DataFrame({'Test': y_test['final_thickness'].tolist(),'Pred': xgb_best.predict(X_test).tolist()})\n",
    "print(pred_vs_test)\n",
    "r2_xgb\n"
   ]
  },
  {
   "cell_type": "code",
   "execution_count": 19,
   "metadata": {},
   "outputs": [
    {
     "name": "stdout",
     "output_type": "stream",
     "text": [
      "Random Forest:\n",
      "        Test      Pred\n",
      "0   0.247825  0.337169\n",
      "1   3.134800  2.603808\n",
      "2   1.204514  3.581156\n",
      "3   4.146875  3.975017\n",
      "4   0.552958  2.603808\n",
      "5   5.201987  5.345277\n",
      "6   4.609431  4.524717\n",
      "7   4.130625  3.975017\n",
      "8   0.893625  0.392452\n",
      "9   1.525117  1.827497\n",
      "10  1.193854  0.983738\n",
      "11  2.255125  2.211574\n",
      "12  7.344823  7.368234\n",
      "13  5.620625  5.553171\n",
      "14  4.911066  5.997757\n",
      "15  3.121637  3.568466\n",
      "16  0.876354  0.773629\n",
      "17  7.787959  7.996397\n",
      "18  3.496175  3.000483\n",
      "19  2.131578  2.202532\n",
      "20  3.561075  3.000483\n",
      "21  0.307083  0.337169\n",
      "22  1.678050  1.827497\n",
      "R^2 Score: 0.8788922666761196\n",
      "\n"
     ]
    }
   ],
   "source": [
    "rf_best = RandomForestRegressor(**{'max_depth': 10, 'min_samples_leaf': 1, 'min_samples_split': 2, 'n_estimators': 200}, random_state=28)\n",
    "rf_best.fit(X_train, y_train)\n",
    "rf_pred=rf_best.predict(X_test)\n",
    "# Evaluar el rendimiento en el conjunto de prueba\n",
    "r2_rf = r2_score(y_test, rf_pred)\n",
    "\n",
    "# Mostrar resultados\n",
    "pred_vs_test_rf = pd.DataFrame({'Test': y_test['final_thickness'].tolist(), 'Pred': rf_pred.tolist()})\n",
    "print(\"Random Forest:\")\n",
    "print(pred_vs_test_rf)\n",
    "print(f\"R^2 Score: {r2_rf}\\n\")\n",
    "\n",
    "# importances = rf_best.feature_importances_\n",
    "# feature_importances = pd.DataFrame({'feature': X.columns, 'importance': importances})"
   ]
  },
  {
   "cell_type": "code",
   "execution_count": 20,
   "metadata": {},
   "outputs": [
    {
     "name": "stdout",
     "output_type": "stream",
     "text": [
      "        feature  importance\n",
      "0       Voltage    0.275066\n",
      "1  holding_time    0.708407\n",
      "2     ramp_time    0.016527\n"
     ]
    }
   ],
   "source": [
    "importances = rf_best.feature_importances_\n",
    "feature_importances = pd.DataFrame({'feature': X.columns, 'importance': importances})\n",
    "print(feature_importances)"
   ]
  },
  {
   "cell_type": "code",
   "execution_count": 23,
   "metadata": {},
   "outputs": [
    {
     "name": "stdout",
     "output_type": "stream",
     "text": [
      "Random Forest:\n",
      "        Test      Pred\n",
      "0   0.247825  0.309953\n",
      "1   3.134800  1.295033\n",
      "2   1.204514  3.578357\n",
      "3   4.146875  4.125440\n",
      "4   0.552958  1.295033\n",
      "5   5.201987  5.380619\n",
      "6   4.609431  4.485648\n",
      "7   4.130625  4.125440\n",
      "8   0.893625  0.472982\n",
      "9   1.525117  1.549134\n",
      "10  1.193854  1.027290\n",
      "11  2.255125  2.122905\n",
      "12  7.344823  7.316173\n",
      "13  5.620625  5.792797\n",
      "14  4.911066  4.959534\n",
      "15  3.121637  3.501985\n",
      "16  0.876354  0.885211\n",
      "17  7.787959  7.992088\n",
      "18  3.496175  3.206804\n",
      "19  2.131578  2.146680\n",
      "20  3.561075  3.206804\n",
      "21  0.307083  0.309953\n",
      "22  1.678050  1.549134\n",
      "R^2 Score: 0.9014249090808506\n",
      "\n"
     ]
    }
   ],
   "source": [
    "#Modelo SVR\n",
    "svr_best = SVR(**{'C': 10, 'gamma': 'auto', 'kernel': 'rbf'})\n",
    "svr_best.fit(X_train, y_train)\n",
    "svr_pred=svr_best.predict(X_test)\n",
    "# Evaluar el rendimiento en el conjunto de prueba\n",
    "r2_svr = r2_score(y_test, svr_pred)\n",
    "\n",
    "# Mostrar resultados\n",
    "pred_vs_test_svr = pd.DataFrame({'Test': y_test['final_thickness'].tolist(), 'Pred': svr_pred.tolist()})\n",
    "print(\"Random Forest:\")\n",
    "print(pred_vs_test_svr)\n",
    "print(f\"R^2 Score: {r2_svr}\\n\")"
   ]
  },
  {
   "cell_type": "markdown",
   "metadata": {},
   "source": [
    "Realizacion de la prediccion inversa, para ello se hace un mallado de V,holding,ramp y luego con el modelo deseado se hacen un conjunto de predicciones del espesor.\n",
    "Con esas predicciones se observa cual es la que mejor se ajusta a la real y se toman los valores de V,holding,ramp de esa como los correctos"
   ]
  },
  {
   "cell_type": "code",
   "execution_count": 132,
   "metadata": {},
   "outputs": [
    {
     "name": "stdout",
     "output_type": "stream",
     "text": [
      "0.307083333333333\n"
     ]
    }
   ],
   "source": [
    "#Prediccion inversa\n",
    "#primera prueba\n",
    "V_test=X['Voltage'].unique().tolist()\n",
    "Holding_test=[20., 10.,  5.,  0.,  1.]\n",
    "Ramp_test=[30,60]\n",
    "combinaciones = np.array(list(product(V_test, Holding_test,Ramp_test)))#mallado de todas las combinaciones posibles\n",
    "comb_scalated=scaler.transform(combinaciones)\n",
    "#esto para a partir de un espesor con pocos decimales sacar el verdadero del dataframe\n",
    "test_thickness=0.307083\n",
    "test_espesor_=x_input[(x_input['final_thickness']>test_thickness-0.0005) & (x_input['final_thickness']<test_thickness+0.0005)]\n",
    "print(test_espesor_['final_thickness'].iloc[0])"
   ]
  },
  {
   "cell_type": "code",
   "execution_count": 133,
   "metadata": {},
   "outputs": [],
   "source": [
    "pred=rf_best.predict(comb_scalated)"
   ]
  },
  {
   "cell_type": "code",
   "execution_count": 134,
   "metadata": {},
   "outputs": [
    {
     "name": "stdout",
     "output_type": "stream",
     "text": [
      "El valor mas cercano es:  0.30788739583333324 El valor esperado es:  0.307083\n",
      "Los inputs calculados son:  [[14.  0. 30.]]\n",
      "Los inputs reales son: \n"
     ]
    },
    {
     "data": {
      "text/html": [
       "<div>\n",
       "<style scoped>\n",
       "    .dataframe tbody tr th:only-of-type {\n",
       "        vertical-align: middle;\n",
       "    }\n",
       "\n",
       "    .dataframe tbody tr th {\n",
       "        vertical-align: top;\n",
       "    }\n",
       "\n",
       "    .dataframe thead th {\n",
       "        text-align: right;\n",
       "    }\n",
       "</style>\n",
       "<table border=\"1\" class=\"dataframe\">\n",
       "  <thead>\n",
       "    <tr style=\"text-align: right;\">\n",
       "      <th></th>\n",
       "      <th>final_thickness</th>\n",
       "      <th>Voltage</th>\n",
       "      <th>holding_time</th>\n",
       "      <th>ramp_time</th>\n",
       "    </tr>\n",
       "  </thead>\n",
       "  <tbody>\n",
       "    <tr>\n",
       "      <th>50</th>\n",
       "      <td>0.307083</td>\n",
       "      <td>14</td>\n",
       "      <td>0.0</td>\n",
       "      <td>60</td>\n",
       "    </tr>\n",
       "  </tbody>\n",
       "</table>\n",
       "</div>"
      ],
      "text/plain": [
       "    final_thickness  Voltage  holding_time  ramp_time\n",
       "50         0.307083       14           0.0         60"
      ]
     },
     "execution_count": 134,
     "metadata": {},
     "output_type": "execute_result"
    }
   ],
   "source": [
    "diferencias_absolutas = np.abs(pred - test_thickness)\n",
    "\n",
    "#índice del valor mínimo\n",
    "indice_valor_minimo = np.argmin(diferencias_absolutas)\n",
    "valor_mas_cercano = pred[indice_valor_minimo]\n",
    "\n",
    "print('El valor mas cercano es: ',valor_mas_cercano,'El valor esperado es: ',test_thickness)\n",
    "inputs = scaler.inverse_transform([comb_scalated[indice_valor_minimo]])\n",
    "print('Los inputs calculados son: ',inputs)\n",
    "print('Los inputs reales son: ')\n",
    "#x_input[x_input['final_thickness']==1.2045138888888722]\n",
    "test_espesor_\n"
   ]
  },
  {
   "cell_type": "code",
   "execution_count": 135,
   "metadata": {},
   "outputs": [
    {
     "name": "stdout",
     "output_type": "stream",
     "text": [
      "El valor mas cercano es:  0.30788739583333324 El valor esperado es:  0.307083\n",
      "Los inputs calculados son:  [14.  0. 60.]\n",
      "Los inputs reales son: \n"
     ]
    },
    {
     "data": {
      "text/html": [
       "<div>\n",
       "<style scoped>\n",
       "    .dataframe tbody tr th:only-of-type {\n",
       "        vertical-align: middle;\n",
       "    }\n",
       "\n",
       "    .dataframe tbody tr th {\n",
       "        vertical-align: top;\n",
       "    }\n",
       "\n",
       "    .dataframe thead th {\n",
       "        text-align: right;\n",
       "    }\n",
       "</style>\n",
       "<table border=\"1\" class=\"dataframe\">\n",
       "  <thead>\n",
       "    <tr style=\"text-align: right;\">\n",
       "      <th></th>\n",
       "      <th>final_thickness</th>\n",
       "      <th>Voltage</th>\n",
       "      <th>holding_time</th>\n",
       "      <th>ramp_time</th>\n",
       "    </tr>\n",
       "  </thead>\n",
       "  <tbody>\n",
       "    <tr>\n",
       "      <th>50</th>\n",
       "      <td>0.307083</td>\n",
       "      <td>14</td>\n",
       "      <td>0.0</td>\n",
       "      <td>60</td>\n",
       "    </tr>\n",
       "  </tbody>\n",
       "</table>\n",
       "</div>"
      ],
      "text/plain": [
       "    final_thickness  Voltage  holding_time  ramp_time\n",
       "50         0.307083       14           0.0         60"
      ]
     },
     "execution_count": 135,
     "metadata": {},
     "output_type": "execute_result"
    }
   ],
   "source": [
    "#lo mismo pero solo con los valores que hemos usado en el modelo\n",
    "X.values\n",
    "new_pred=rf_best.predict(X_scaled)\n",
    "new_diferencias_absolutas = np.abs(new_pred - test_thickness)\n",
    "\n",
    "#índice del valor mínimo\n",
    "new_indice_valor_minimo = np.argmin(new_diferencias_absolutas)\n",
    "new_valor_mas_cercano = new_pred[new_indice_valor_minimo]\n",
    "print('El valor mas cercano es: ',new_valor_mas_cercano,'El valor esperado es: ',test_thickness)\n",
    "inputs = X.values[new_indice_valor_minimo,]#scaler.inverse_transform([X_scaled[indice_valor_minimo]])\n",
    "print('Los inputs calculados son: ',inputs)\n",
    "print('Los inputs reales son: ')\n",
    "#x_input[x_input['final_thickness']==1.2045138888888722]\n",
    "test_espesor_"
   ]
  },
  {
   "cell_type": "markdown",
   "metadata": {},
   "source": [
    "Ahora vamos a comparar los resultados de y_test: valor real, el predicho por estas predicciones inversas (pred) y lo mismo teniendo solo en cuenta \n",
    "los valores del modelo (new_pred)"
   ]
  },
  {
   "cell_type": "code",
   "execution_count": 136,
   "metadata": {},
   "outputs": [
    {
     "data": {
      "text/plain": [
       "\"\\nprint('El valor mas cercano es: ',valor_mas_cercano,'El valor esperado es: ',test_thickness)\\ninputs = scaler.inverse_transform([comb_scalated[indice_valor_minimo]])\""
      ]
     },
     "execution_count": 136,
     "metadata": {},
     "output_type": "execute_result"
    }
   ],
   "source": [
    "pred_thickness=[]\n",
    "new_pred_thickness=[]\n",
    "inputs=np.array([])\n",
    "new_inputs=np.array([])\n",
    "for i in y_test['final_thickness']:\n",
    "    #predicciones con mallado\n",
    "    diferencias_absolutas = np.abs(pred - i)\n",
    "    indice_valor_minimo = np.argmin(diferencias_absolutas)\n",
    "    valor_mas_cercano = pred[indice_valor_minimo]\n",
    "    pred_thickness.append(valor_mas_cercano)\n",
    "    #predicciones solo con las del modelo\n",
    "    new_diferencias_absolutas = np.abs(new_pred - i)\n",
    "    new_indice_valor_minimo = np.argmin(new_diferencias_absolutas)\n",
    "    new_valor_mas_cercano = new_pred[new_indice_valor_minimo]\n",
    "    new_pred_thickness.append(new_valor_mas_cercano)\n",
    "    if inputs.size == 0:\n",
    "        inputs = comb_scalated[indice_valor_minimo]\n",
    "    else:\n",
    "        inputs = np.vstack((inputs, comb_scalated[indice_valor_minimo]))\n",
    "    if new_inputs.size == 0:\n",
    "        new_inputs = X.values[new_indice_valor_minimo,]\n",
    "    else:\n",
    "        new_inputs = np.vstack((new_inputs, X.values[new_indice_valor_minimo,]))\n",
    "    \n",
    "    \n",
    "inputs_rescaled = scaler.inverse_transform(inputs)\n",
    "pred_V=inputs_rescaled[:,0]\n",
    "pred_H=inputs_rescaled[:,1]\n",
    "pred_R=inputs_rescaled[:,2]\n",
    "\n",
    "new_pred_V=new_inputs[:,0]\n",
    "new_pred_H=new_inputs[:,1]\n",
    "new_pred_R=new_inputs[:,2]"
   ]
  },
  {
   "cell_type": "code",
   "execution_count": 138,
   "metadata": {},
   "outputs": [
    {
     "data": {
      "text/html": [
       "<div>\n",
       "<style scoped>\n",
       "    .dataframe tbody tr th:only-of-type {\n",
       "        vertical-align: middle;\n",
       "    }\n",
       "\n",
       "    .dataframe tbody tr th {\n",
       "        vertical-align: top;\n",
       "    }\n",
       "\n",
       "    .dataframe thead th {\n",
       "        text-align: right;\n",
       "    }\n",
       "</style>\n",
       "<table border=\"1\" class=\"dataframe\">\n",
       "  <thead>\n",
       "    <tr style=\"text-align: right;\">\n",
       "      <th></th>\n",
       "      <th>Real_Thickness</th>\n",
       "      <th>Real_V</th>\n",
       "      <th>Real_Holding</th>\n",
       "      <th>Real_Ramp</th>\n",
       "      <th>Pred_Thickness</th>\n",
       "      <th>Pred_V</th>\n",
       "      <th>Pred_H</th>\n",
       "      <th>Pred_R</th>\n",
       "      <th>New_Pred_Thickness</th>\n",
       "      <th>New_Pred_V</th>\n",
       "      <th>New_Pred_H</th>\n",
       "      <th>New_Pred_R</th>\n",
       "    </tr>\n",
       "  </thead>\n",
       "  <tbody>\n",
       "    <tr>\n",
       "      <th>0</th>\n",
       "      <td>0.247825</td>\n",
       "      <td>14.0</td>\n",
       "      <td>0.0</td>\n",
       "      <td>60.0</td>\n",
       "      <td>0.307887</td>\n",
       "      <td>14.0</td>\n",
       "      <td>0.0</td>\n",
       "      <td>30.0</td>\n",
       "      <td>0.307887</td>\n",
       "      <td>14.0</td>\n",
       "      <td>0.0</td>\n",
       "      <td>60.0</td>\n",
       "    </tr>\n",
       "    <tr>\n",
       "      <th>1</th>\n",
       "      <td>3.134800</td>\n",
       "      <td>22.0</td>\n",
       "      <td>0.0</td>\n",
       "      <td>60.0</td>\n",
       "      <td>3.129357</td>\n",
       "      <td>18.0</td>\n",
       "      <td>10.0</td>\n",
       "      <td>30.0</td>\n",
       "      <td>3.129357</td>\n",
       "      <td>18.0</td>\n",
       "      <td>10.0</td>\n",
       "      <td>30.0</td>\n",
       "    </tr>\n",
       "    <tr>\n",
       "      <th>2</th>\n",
       "      <td>1.204514</td>\n",
       "      <td>14.0</td>\n",
       "      <td>20.0</td>\n",
       "      <td>30.0</td>\n",
       "      <td>1.180527</td>\n",
       "      <td>18.0</td>\n",
       "      <td>0.0</td>\n",
       "      <td>30.0</td>\n",
       "      <td>1.180527</td>\n",
       "      <td>18.0</td>\n",
       "      <td>0.0</td>\n",
       "      <td>60.0</td>\n",
       "    </tr>\n",
       "    <tr>\n",
       "      <th>3</th>\n",
       "      <td>4.146875</td>\n",
       "      <td>18.0</td>\n",
       "      <td>10.0</td>\n",
       "      <td>30.0</td>\n",
       "      <td>4.460741</td>\n",
       "      <td>20.0</td>\n",
       "      <td>10.0</td>\n",
       "      <td>60.0</td>\n",
       "      <td>4.460741</td>\n",
       "      <td>20.0</td>\n",
       "      <td>10.0</td>\n",
       "      <td>60.0</td>\n",
       "    </tr>\n",
       "    <tr>\n",
       "      <th>4</th>\n",
       "      <td>0.552958</td>\n",
       "      <td>22.0</td>\n",
       "      <td>0.0</td>\n",
       "      <td>60.0</td>\n",
       "      <td>0.532447</td>\n",
       "      <td>16.0</td>\n",
       "      <td>0.0</td>\n",
       "      <td>30.0</td>\n",
       "      <td>0.532447</td>\n",
       "      <td>16.0</td>\n",
       "      <td>0.0</td>\n",
       "      <td>60.0</td>\n",
       "    </tr>\n",
       "  </tbody>\n",
       "</table>\n",
       "</div>"
      ],
      "text/plain": [
       "   Real_Thickness  Real_V  Real_Holding  Real_Ramp  Pred_Thickness  Pred_V  \\\n",
       "0        0.247825    14.0           0.0       60.0        0.307887    14.0   \n",
       "1        3.134800    22.0           0.0       60.0        3.129357    18.0   \n",
       "2        1.204514    14.0          20.0       30.0        1.180527    18.0   \n",
       "3        4.146875    18.0          10.0       30.0        4.460741    20.0   \n",
       "4        0.552958    22.0           0.0       60.0        0.532447    16.0   \n",
       "\n",
       "   Pred_H  Pred_R  New_Pred_Thickness  New_Pred_V  New_Pred_H  New_Pred_R  \n",
       "0     0.0    30.0            0.307887        14.0         0.0        60.0  \n",
       "1    10.0    30.0            3.129357        18.0        10.0        30.0  \n",
       "2     0.0    30.0            1.180527        18.0         0.0        60.0  \n",
       "3    10.0    60.0            4.460741        20.0        10.0        60.0  \n",
       "4     0.0    30.0            0.532447        16.0         0.0        60.0  "
      ]
     },
     "execution_count": 138,
     "metadata": {},
     "output_type": "execute_result"
    }
   ],
   "source": [
    "inverse_pred=pd.DataFrame({'Pred_Thickness':pred_thickness,'Pred_V':pred_V,'Pred_H':pred_H,'Pred_R':pred_R})\n",
    "inverse_new_pred=pd.DataFrame({'New_Pred_Thickness':new_pred_thickness,'New_Pred_V':new_pred_V,'New_Pred_H':new_pred_H\n",
    "                               ,'New_Pred_R':new_pred_R})\n",
    "real_inputs=scaler.inverse_transform(X_test[:])\n",
    "inverse_REAL=pd.DataFrame({'Real_Thickness':y_test['final_thickness'],'Real_V':real_inputs[:,0],'Real_Holding':real_inputs[:,1]\n",
    "                                       ,'Real_Ramp':real_inputs[:,2]}).reset_index(drop=True)\n",
    "inverse_comparacion = pd.concat([inverse_REAL, inverse_pred,inverse_new_pred], axis=1)\n",
    "inverse_comparacion.head()"
   ]
  },
  {
   "cell_type": "markdown",
   "metadata": {},
   "source": [
    "El valor:       \n",
    "1\t3.134800\t-22.0-\t0.0-\t60.0-\t3.129357-\t18.0-\t10.0-\t30.0-\t3.129357-\t18.0-\t10.0-\t30.0 -       \n",
    "Es erroneo ya que 22.0\t0.0\t60.0 es un valor anomalo dentro del holding=0.\n",
    "Además el valor:        \n",
    "2\t1.204514-\t14.0-\t20.0-\t30.0-\t1.180527-\t18.0-\t0.0-\t30.0-\t1.180527-\t18.0-\t0.0-\t60.0-\n",
    "Es outlier tanto 1.204514-\t14.0-\t20.0-\t30.0- como 18.0-\t0.0-\t30.0-\n",
    "\n",
    "Se ve por tanto que la prediccion inversa tiene ciertos fallos debido a la presencia de outliers que hace que el modelo sobreentrene estos outliers asignandolo a valores no deseados"
   ]
  },
  {
   "cell_type": "code",
   "execution_count": 98,
   "metadata": {},
   "outputs": [
    {
     "name": "stdout",
     "output_type": "stream",
     "text": [
      "    final_thickness  Voltage  holding_time  ramp_time\n",
      "0          1.204514       14          20.0         30\n",
      "3          3.382802       14          20.0         30\n",
      "4          3.478467       14          20.0         30\n",
      "5          3.566691       14          20.0         30\n",
      "90         3.664941       14          20.0         30\n",
      "91         3.724983       14          20.0         30\n",
      "92         3.659483       14          20.0         30\n"
     ]
    },
    {
     "data": {
      "text/plain": [
       "\"\\ndf_autotreat['voltage'].unique()\\nprint(x_input[(x_input['Voltage']==18.00) & (x_input['holding_time']==10.0)].final_thickness.iloc[0])\\nx_input['final_thickness'].iloc[51]\\ndf_autotreat[df_autotreat['final_thickness']==4.103187499999577]\""
      ]
     },
     "execution_count": 98,
     "metadata": {},
     "output_type": "execute_result"
    }
   ],
   "source": [
    "print(x_input[(x_input['Voltage']==14.0) & (x_input['holding_time']==20.0)& (x_input['ramp_time']==30.0)])\n",
    "'''\n",
    "df_autotreat['voltage'].unique()\n",
    "print(x_input[(x_input['Voltage']==18.00) & (x_input['holding_time']==10.0)].final_thickness.iloc[0])\n",
    "x_input['final_thickness'].iloc[51]\n",
    "df_autotreat[df_autotreat['final_thickness']==4.103187499999577]'''"
   ]
  },
  {
   "cell_type": "code",
   "execution_count": 18,
   "metadata": {},
   "outputs": [
    {
     "name": "stdout",
     "output_type": "stream",
     "text": [
      "     final_thickness  Voltage  holding_time  ramp_time\n",
      "105         4.130625       18          10.0         30\n",
      "106         4.146875       18          10.0         30\n",
      "107         4.225625       18          10.0         30\n",
      "    final_thickness  Voltage  holding_time  ramp_time\n",
      "61         0.552958       22           0.0         60\n",
      "62         3.112675       22           0.0         60\n",
      "63         3.134800       22           0.0         60\n",
      "    final_thickness  Voltage  holding_time  ramp_time\n",
      "17         7.738084       22          20.0         60\n",
      "18         7.787959       22          20.0         60\n",
      "68         8.276734       22          20.0         60\n",
      "87         7.917634       22          20.0         60\n",
      "19         8.092197       22          20.0         60\n",
      "33         5.349072       22          10.0         60\n",
      "34         5.677000       22          10.0         60\n",
      "32         5.299197       22          10.0         60\n",
      "73         4.543591       22          10.0         60\n",
      "47         3.106775       22           5.0         60\n",
      "48         3.496175       22           5.0         60\n",
      "49         3.561075       22           5.0         60\n",
      "84         1.360167       22           1.0         60\n",
      "85         1.689500       22           1.0         60\n",
      "61         0.552958       22           0.0         60\n",
      "62         3.112675       22           0.0         60\n",
      "63         3.134800       22           0.0         60\n"
     ]
    }
   ],
   "source": [
    "#print(x_input[(x_input['Voltage']==20.00) & (x_input['holding_time']==20.0)])\n",
    "print(x_input[(x_input['Voltage']==18.00) & (x_input['holding_time']==10.0) & (x_input['ramp_time']==30.0)])\n",
    "print(x_input[(x_input['Voltage']==22.00) & (x_input['holding_time']==0.0) & (x_input['ramp_time']==60.0)])\n",
    "print(x_input[(x_input['Voltage']==22.0) ].sort_values(by=['holding_time'], ascending=False))\n",
    "#x_input.groupby('holding_time').head(5)"
   ]
  },
  {
   "cell_type": "code",
   "execution_count": 14,
   "metadata": {},
   "outputs": [
    {
     "name": "stdout",
     "output_type": "stream",
     "text": [
      "26871\n"
     ]
    }
   ],
   "source": [
    "limited_df_autotreat=df_autotreat[(df_autotreat['holding_time']==0.0)]\n",
    "limited_df_autotreat.head()\n",
    "len=limited_df_autotreat.shape[0]\n",
    "print(len)"
   ]
  },
  {
   "cell_type": "code",
   "execution_count": 15,
   "metadata": {},
   "outputs": [
    {
     "data": {
      "image/png": "[encoded data removed]",
      "text/plain": [
       "<Figure size 1000x500 with 1 Axes>"
      ]
     },
     "metadata": {},
     "output_type": "display_data"
    }
   ],
   "source": [
    "muesta_fin=len\n",
    "muestra_in=0\n",
    "limited_df_autotreat['final_thickness'].iloc[muestra_in:muesta_fin].plot(figsize=(10,5))\n",
    "plt.plot(limited_df_autotreat['modeling_thickness'].iloc[muestra_in:muesta_fin],label='modeling_thickness')\n",
    "plt.plot(limited_df_autotreat['V'].iloc[muestra_in:muesta_fin],label='v')\n",
    "plt.plot(limited_df_autotreat['voltage'].iloc[muestra_in:muesta_fin],label='voltage')\n",
    "plt.plot(limited_df_autotreat['ramp_time'].iloc[muestra_in:muesta_fin],label='ramp_time')\n",
    "plt.plot(limited_df_autotreat['holding_time'].iloc[muestra_in:muesta_fin],label='holding_time')\n",
    "plt.grid(alpha=0.5, which='both')\n",
    "plt.xlabel('index')\n",
    "plt.ylabel('Scaled data')\n",
    "plt.legend()\n",
    "plt.show()"
   ]
  },
  {
   "cell_type": "markdown",
   "metadata": {},
   "source": [
    "## Vamos a quitar los valores anomalos (holding =0)"
   ]
  },
  {
   "cell_type": "markdown",
   "metadata": {},
   "source": [
    "Se ha observado que en Holding=0 hay diversos valores anomalos o outliers, lo que daba lugar en momentos a predicciones erroneas,se van a quitar a ver si el modelo mejora un poco. Por otro lado, es cierto que hay outliers para otros holding, pero debido a que son pocos en relacion a holding=0 y que tenemos pocos datos se van a dejar. Se podría plantear eliminarlos tambien."
   ]
  },
  {
   "cell_type": "code",
   "execution_count": 51,
   "metadata": {},
   "outputs": [
    {
     "name": "stdout",
     "output_type": "stream",
     "text": [
      "---Voltage =  20.0 ---\n",
      "     final_thickness  Voltage  holding_time  ramp_time\n",
      "62         3.112675       22           0.0         60\n",
      "63         3.134800       22           0.0         60\n",
      "59         2.652308       20           0.0         60\n",
      "56         2.366600       18           0.0         60\n",
      "53         0.893625       16           0.0         60\n"
     ]
    }
   ],
   "source": [
    "'''valores anomalos en holding=0:\n",
    "    22:62,63\n",
    "    20:59\n",
    "    18;56\n",
    "    16:53- no por mucho (duda)\n",
    "\n",
    "'''\n",
    "#para holding=0 lo normal son valores bajos ~0.2-0.5 por ello se filtra por final_thickness>0.8\n",
    "print(x_input[(x_input['holding_time']==0.0) & (x_input['final_thickness']>0.8) ].sort_values(by=['Voltage'], ascending=False))"
   ]
  },
  {
   "cell_type": "code",
   "execution_count": 109,
   "metadata": {},
   "outputs": [
    {
     "data": {
      "image/png": "[encoded data removed]",
      "text/plain": [
       "<Figure size 640x480 with 1 Axes>"
      ]
     },
     "metadata": {},
     "output_type": "display_data"
    },
    {
     "data": {
      "image/png": "[encoded data removed]",
      "text/plain": [
       "<Figure size 640x480 with 1 Axes>"
      ]
     },
     "metadata": {},
     "output_type": "display_data"
    },
    {
     "data": {
      "image/png": "[encoded data removed]",
      "text/plain": [
       "<Figure size 640x480 with 1 Axes>"
      ]
     },
     "metadata": {},
     "output_type": "display_data"
    },
    {
     "data": {
      "image/png": "[encoded data removed]",
      "text/plain": [
       "<Figure size 640x480 with 1 Axes>"
      ]
     },
     "metadata": {},
     "output_type": "display_data"
    },
    {
     "data": {
      "image/png": "[encoded data removed]",
      "text/plain": [
       "<Figure size 640x480 with 1 Axes>"
      ]
     },
     "metadata": {},
     "output_type": "display_data"
    },
    {
     "data": {
      "text/plain": [
       "'outlier:\\n    holding 20:14,16,20\\n    10:22(duda)\\n\\n    '"
      ]
     },
     "execution_count": 109,
     "metadata": {},
     "output_type": "execute_result"
    }
   ],
   "source": [
    "#aqui he buscado outliers en otros holding  -  IGNORAR por ahora\n",
    "for i in [14.0,16.0,18.0,20.0,22.0]:    \n",
    "    show=x_input[(x_input['Voltage']==i) & (x_input['holding_time']==1.0)]\n",
    "    plt.scatter(show['final_thickness'],show[['Voltage']])\n",
    "    plt.title(i)\n",
    "    plt.show()\n",
    "'''outlier:\n",
    "    holding 20:14,16,20\n",
    "    10:22(duda)\n",
    "    '''"
   ]
  },
  {
   "cell_type": "markdown",
   "metadata": {},
   "source": [
    "Se podría estudiar más adelante quitar estos outliers. Vamos a quitar los outliers en holding =0."
   ]
  },
  {
   "cell_type": "code",
   "execution_count": 50,
   "metadata": {},
   "outputs": [
    {
     "data": {
      "text/html": [
       "<div>\n",
       "<style scoped>\n",
       "    .dataframe tbody tr th:only-of-type {\n",
       "        vertical-align: middle;\n",
       "    }\n",
       "\n",
       "    .dataframe tbody tr th {\n",
       "        vertical-align: top;\n",
       "    }\n",
       "\n",
       "    .dataframe thead th {\n",
       "        text-align: right;\n",
       "    }\n",
       "</style>\n",
       "<table border=\"1\" class=\"dataframe\">\n",
       "  <thead>\n",
       "    <tr style=\"text-align: right;\">\n",
       "      <th></th>\n",
       "      <th>final_thickness</th>\n",
       "      <th>Voltage</th>\n",
       "      <th>holding_time</th>\n",
       "      <th>ramp_time</th>\n",
       "    </tr>\n",
       "  </thead>\n",
       "  <tbody>\n",
       "    <tr>\n",
       "      <th>50</th>\n",
       "      <td>0.307083</td>\n",
       "      <td>14</td>\n",
       "      <td>0.0</td>\n",
       "      <td>60</td>\n",
       "    </tr>\n",
       "    <tr>\n",
       "      <th>51</th>\n",
       "      <td>0.311417</td>\n",
       "      <td>14</td>\n",
       "      <td>0.0</td>\n",
       "      <td>60</td>\n",
       "    </tr>\n",
       "    <tr>\n",
       "      <th>52</th>\n",
       "      <td>0.247825</td>\n",
       "      <td>14</td>\n",
       "      <td>0.0</td>\n",
       "      <td>60</td>\n",
       "    </tr>\n",
       "    <tr>\n",
       "      <th>54</th>\n",
       "      <td>0.205250</td>\n",
       "      <td>16</td>\n",
       "      <td>0.0</td>\n",
       "      <td>60</td>\n",
       "    </tr>\n",
       "    <tr>\n",
       "      <th>55</th>\n",
       "      <td>0.322583</td>\n",
       "      <td>16</td>\n",
       "      <td>0.0</td>\n",
       "      <td>60</td>\n",
       "    </tr>\n",
       "    <tr>\n",
       "      <th>57</th>\n",
       "      <td>0.338125</td>\n",
       "      <td>18</td>\n",
       "      <td>0.0</td>\n",
       "      <td>60</td>\n",
       "    </tr>\n",
       "    <tr>\n",
       "      <th>58</th>\n",
       "      <td>0.481854</td>\n",
       "      <td>20</td>\n",
       "      <td>0.0</td>\n",
       "      <td>60</td>\n",
       "    </tr>\n",
       "    <tr>\n",
       "      <th>60</th>\n",
       "      <td>0.593104</td>\n",
       "      <td>20</td>\n",
       "      <td>0.0</td>\n",
       "      <td>60</td>\n",
       "    </tr>\n",
       "    <tr>\n",
       "      <th>61</th>\n",
       "      <td>0.552958</td>\n",
       "      <td>22</td>\n",
       "      <td>0.0</td>\n",
       "      <td>60</td>\n",
       "    </tr>\n",
       "  </tbody>\n",
       "</table>\n",
       "</div>"
      ],
      "text/plain": [
       "    final_thickness  Voltage  holding_time  ramp_time\n",
       "50         0.307083       14           0.0         60\n",
       "51         0.311417       14           0.0         60\n",
       "52         0.247825       14           0.0         60\n",
       "54         0.205250       16           0.0         60\n",
       "55         0.322583       16           0.0         60\n",
       "57         0.338125       18           0.0         60\n",
       "58         0.481854       20           0.0         60\n",
       "60         0.593104       20           0.0         60\n",
       "61         0.552958       22           0.0         60"
      ]
     },
     "execution_count": 50,
     "metadata": {},
     "output_type": "execute_result"
    }
   ],
   "source": [
    "x_input_outlier_filter=x_input.drop(x_input[(x_input['holding_time']==0.0) & (x_input['final_thickness']>0.8) ].index)\n",
    "x_input_outlier_filter[(x_input_outlier_filter['holding_time']==0.0)  ]"
   ]
  },
  {
   "cell_type": "code",
   "execution_count": 56,
   "metadata": {},
   "outputs": [],
   "source": [
    "X_out = x_input_outlier_filter[['Voltage', 'holding_time','ramp_time']]\n",
    "y_out = x_input_outlier_filter[['final_thickness']]\n",
    "\n",
    "scaler_outlier = StandardScaler()\n",
    "X_scaled_outlier = scaler_outlier.fit_transform(X_out)\n",
    "X_train, X_test, y_train, y_test = train_test_split(X_scaled_outlier, y_out, test_size=0.2, random_state=28)"
   ]
  },
  {
   "cell_type": "markdown",
   "metadata": {},
   "source": [
    "Busqueda de hiperpàrametros"
   ]
  },
  {
   "cell_type": "code",
   "execution_count": 57,
   "metadata": {},
   "outputs": [
    {
     "name": "stdout",
     "output_type": "stream",
     "text": [
      "Grid search for Random Forest...\n",
      "Fitting 5 folds for each of 144 candidates, totalling 720 fits\n",
      "Best parameters: {'max_depth': None, 'min_samples_leaf': 1, 'min_samples_split': 2, 'n_estimators': 100}\n",
      "Best negative MSE: 0.15380003695888228\n",
      "\n",
      "Grid search for XGBoost...\n",
      "Fitting 5 folds for each of 972 candidates, totalling 4860 fits\n",
      "Best parameters: {'colsample_bytree': 1.0, 'learning_rate': 0.1, 'max_depth': 3, 'n_estimators': 500, 'subsample': 1.0}\n",
      "Best negative MSE: 0.10386856615547795\n",
      "\n",
      "Grid search for SVM...\n",
      "Fitting 5 folds for each of 18 candidates, totalling 90 fits\n",
      "Best parameters: {'C': 10, 'gamma': 'auto', 'kernel': 'rbf'}\n",
      "Best negative MSE: 0.1123527077071252\n",
      "\n",
      "Grid search for Decision Tree...\n",
      "Fitting 5 folds for each of 36 candidates, totalling 180 fits\n",
      "Best parameters: {'max_depth': None, 'min_samples_leaf': 1, 'min_samples_split': 2}\n",
      "Best negative MSE: 0.14413686056226332\n",
      "\n"
     ]
    }
   ],
   "source": [
    "for model_name, model_info in models_and_params.items():\n",
    "    print(f\"Grid search for {model_name}...\")\n",
    "    \n",
    "    # Configurar la búsqueda en cuadrícula\n",
    "    grid = GridSearchCV(model_info[\"model\"], \n",
    "                        model_info[\"grid_params\"], \n",
    "                        cv=5, \n",
    "                        scoring='neg_mean_squared_error',\n",
    "                        n_jobs=-1,\n",
    "                        verbose=1)\n",
    "    \n",
    "    # Entrenar el modelo\n",
    "    grid.fit(X_train, y_train)\n",
    "    \n",
    "    # Mejores parámetros y rendimiento\n",
    "    best_params = grid.best_params_\n",
    "    best_score = -grid.best_score_\n",
    "    \n",
    "    print(f\"Best parameters: {best_params}\")\n",
    "    print(f\"Best negative MSE: {best_score}\\n\")"
   ]
  },
  {
   "cell_type": "code",
   "execution_count": 58,
   "metadata": {},
   "outputs": [
    {
     "name": "stdout",
     "output_type": "stream",
     "text": [
      "SVR:\n",
      "        Test      Pred\n",
      "0   1.204514  3.564994\n",
      "1   2.131578  2.161633\n",
      "2   5.620625  5.799767\n",
      "3   0.322583  0.468995\n",
      "4   4.609431  4.465936\n",
      "5   5.201987  5.294826\n",
      "6   7.416156  7.337444\n",
      "7   3.496175  3.260383\n",
      "8   4.911066  4.801657\n",
      "9   7.344823  7.337444\n",
      "10  7.917634  7.992197\n",
      "11  1.525117  1.578447\n",
      "12  2.255125  2.132792\n",
      "13  4.130625  4.125344\n",
      "14  4.146875  4.125344\n",
      "15  0.950958  0.846308\n",
      "16  7.787959  7.992197\n",
      "17  3.724983  3.564994\n",
      "18  0.915125  0.846308\n",
      "19  5.349072  5.399519\n",
      "20  7.837834  4.801657\n",
      "21  1.360167  1.551632\n",
      "R^2 Score: 0.8876221794595928\n",
      "\n"
     ]
    }
   ],
   "source": [
    "#Modelo SVR\n",
    "svr_best = SVR(**{'C': 10, 'gamma': 'auto', 'kernel': 'rbf'})\n",
    "svr_best.fit(X_train, y_train)\n",
    "svr_pred=svr_best.predict(X_test)\n",
    "# Evaluar el rendimiento en el conjunto de prueba\n",
    "r2_svr = r2_score(y_test, svr_pred)\n",
    "\n",
    "# Mostrar resultados\n",
    "pred_vs_test_svr = pd.DataFrame({'Test': y_test['final_thickness'].tolist(), 'Pred': svr_pred.tolist()})\n",
    "print(\"SVR:\")\n",
    "print(pred_vs_test_svr)\n",
    "print(f\"R^2 Score: {r2_svr}\\n\")"
   ]
  },
  {
   "cell_type": "code",
   "execution_count": 67,
   "metadata": {},
   "outputs": [
    {
     "name": "stdout",
     "output_type": "stream",
     "text": [
      "Random Forest:\n",
      "        Test      Pred         Err\n",
      "0   1.204514  3.555502 -195.181479\n",
      "1   2.131578  2.214546   -3.892332\n",
      "2   5.620625  5.559935    1.079778\n",
      "3   0.322583  0.269253   16.532288\n",
      "4   4.609431  4.538753    1.533350\n",
      "5   5.201987  5.324455   -2.354253\n",
      "6   7.416156  7.164539    3.392825\n",
      "7   3.496175  3.250756    7.019645\n",
      "8   4.911066  5.003940   -1.891129\n",
      "9   7.344823  7.164539    2.454570\n",
      "10  7.917634  7.961512   -0.554180\n",
      "11  1.525117  1.735568  -13.799047\n",
      "12  2.255125  2.260554   -0.240724\n",
      "13  4.130625  3.933474    4.772902\n",
      "14  4.146875  3.933474    5.146060\n",
      "15  0.950958  0.923710    2.865349\n",
      "16  7.787959  7.961512   -2.228478\n",
      "17  3.724983  3.555502    4.549839\n",
      "18  0.915125  0.923710   -0.938129\n",
      "19  5.349072  5.177694    3.203877\n",
      "20  7.837834  5.003940   36.156596\n",
      "21  1.360167  1.507648  -10.842917\n",
      "R^2 Score: 0.8957833676652824\n",
      "\n"
     ]
    }
   ],
   "source": [
    "rf_best = RandomForestRegressor(**{'max_depth': 10, 'min_samples_leaf': 1, 'min_samples_split': 2, 'n_estimators': 200}, random_state=28)\n",
    "rf_best.fit(X_train, y_train)\n",
    "rf_pred=rf_best.predict(X_test)\n",
    "# Evaluar el rendimiento en el conjunto de prueba\n",
    "r2_rf = r2_score(y_test, rf_pred)\n",
    "\n",
    "# Mostrar resultados\n",
    "pred_vs_test_rf = pd.DataFrame({'Test': y_test['final_thickness'].tolist(), 'Pred': rf_pred.tolist(), 'Err':(100*(y_test['final_thickness']-rf_pred)/y_test['final_thickness']).tolist()})\n",
    "print(\"Random Forest:\")\n",
    "print(pred_vs_test_rf)\n",
    "print(f\"R^2 Score: {r2_rf}\\n\")"
   ]
  },
  {
   "cell_type": "markdown",
   "metadata": {},
   "source": [
    "Tanto el 1.204514 como el 7.837834 son outliers, por lo que predice bien el modelo"
   ]
  },
  {
   "cell_type": "code",
   "execution_count": 69,
   "metadata": {},
   "outputs": [
    {
     "name": "stdout",
     "output_type": "stream",
     "text": [
      "    final_thickness  Voltage  holding_time  ramp_time\n",
      "12         5.063653       16          20.0         60\n",
      "13         4.911066       16          20.0         60\n",
      "65         5.059741       16          20.0         60\n",
      "86         7.837834       16          20.0         60\n",
      "93         4.503566       16          20.0         30\n",
      "94         4.520344       16          20.0         30\n",
      "95         4.564385       16          20.0         30\n"
     ]
    }
   ],
   "source": [
    "scaler_outlier.inverse_transform([X_test[20]])\n",
    "print(x_input_outlier_filter[(x_input_outlier_filter['Voltage']==16.0) & (x_input_outlier_filter['holding_time']==20.0)].sort_values(by=['ramp_time'], ascending=False))"
   ]
  },
  {
   "cell_type": "markdown",
   "metadata": {},
   "source": [
    "Preddiccion inversa"
   ]
  },
  {
   "cell_type": "code",
   "execution_count": 74,
   "metadata": {},
   "outputs": [
    {
     "name": "stdout",
     "output_type": "stream",
     "text": [
      "7.787959374999188\n",
      "[14, 20, 16, 18, 22]\n"
     ]
    }
   ],
   "source": [
    "#Prediccion inversa\n",
    "V_test=X_out['Voltage'].unique().tolist()\n",
    "Holding_test=[20., 10.,  5.,  0.,  1.]\n",
    "Ramp_test=[30,60]\n",
    "combinaciones = np.array(list(product(V_test, Holding_test,Ramp_test)))#mallado de todas las combinaciones posibles\n",
    "comb_scalated=scaler_outlier.transform(combinaciones)\n",
    "#esto para a partir de un espesor con pocos decimales sacar el verdadero del dataframe\n",
    "test_thickness=7.787959\n",
    "test_espesor_=x_input_outlier_filter[(x_input_outlier_filter['final_thickness']>test_thickness-0.0005) & (x_input_outlier_filter['final_thickness']<test_thickness+0.0005)]\n",
    "print(test_espesor_['final_thickness'].iloc[0])\n",
    "print(V_test)"
   ]
  },
  {
   "cell_type": "code",
   "execution_count": 75,
   "metadata": {},
   "outputs": [],
   "source": [
    "pred=rf_best.predict(comb_scalated)"
   ]
  },
  {
   "cell_type": "code",
   "execution_count": 76,
   "metadata": {},
   "outputs": [
    {
     "name": "stdout",
     "output_type": "stream",
     "text": [
      "El valor mas cercano es:  7.961512321130098 El valor esperado es:  7.787959\n",
      "Los inputs calculados son:  [[22. 20. 60.]]\n",
      "Los inputs reales son: \n"
     ]
    },
    {
     "data": {
      "text/html": [
       "<div>\n",
       "<style scoped>\n",
       "    .dataframe tbody tr th:only-of-type {\n",
       "        vertical-align: middle;\n",
       "    }\n",
       "\n",
       "    .dataframe tbody tr th {\n",
       "        vertical-align: top;\n",
       "    }\n",
       "\n",
       "    .dataframe thead th {\n",
       "        text-align: right;\n",
       "    }\n",
       "</style>\n",
       "<table border=\"1\" class=\"dataframe\">\n",
       "  <thead>\n",
       "    <tr style=\"text-align: right;\">\n",
       "      <th></th>\n",
       "      <th>final_thickness</th>\n",
       "      <th>Voltage</th>\n",
       "      <th>holding_time</th>\n",
       "      <th>ramp_time</th>\n",
       "    </tr>\n",
       "  </thead>\n",
       "  <tbody>\n",
       "    <tr>\n",
       "      <th>18</th>\n",
       "      <td>7.787959</td>\n",
       "      <td>22</td>\n",
       "      <td>20.0</td>\n",
       "      <td>60</td>\n",
       "    </tr>\n",
       "  </tbody>\n",
       "</table>\n",
       "</div>"
      ],
      "text/plain": [
       "    final_thickness  Voltage  holding_time  ramp_time\n",
       "18         7.787959       22          20.0         60"
      ]
     },
     "execution_count": 76,
     "metadata": {},
     "output_type": "execute_result"
    }
   ],
   "source": [
    "diferencias_absolutas = np.abs(pred - test_thickness)\n",
    "\n",
    "#índice del valor mínimo\n",
    "indice_valor_minimo = np.argmin(diferencias_absolutas)\n",
    "valor_mas_cercano = pred[indice_valor_minimo]\n",
    "\n",
    "print('El valor mas cercano es: ',valor_mas_cercano,'El valor esperado es: ',test_thickness)\n",
    "inputs = scaler_outlier.inverse_transform([comb_scalated[indice_valor_minimo]])\n",
    "print('Los inputs calculados son: ',inputs)\n",
    "print('Los inputs reales son: ')\n",
    "#x_input[x_input['final_thickness']==1.2045138888888722]\n",
    "test_espesor_"
   ]
  },
  {
   "cell_type": "markdown",
   "metadata": {},
   "source": [
    "Ahora vamos a comparar los resultados de y_test: valor real, el predicho por estas predicciones inversas (pred) y lo mismo teniendo solo en cuenta \n",
    "los valores del modelo (new_pred)"
   ]
  },
  {
   "cell_type": "code",
   "execution_count": 79,
   "metadata": {},
   "outputs": [
    {
     "data": {
      "text/plain": [
       "'\\nnew_pred_V=new_inputs[:,0]\\nnew_pred_H=new_inputs[:,1]\\nnew_pred_R=new_inputs[:,2]'"
      ]
     },
     "execution_count": 79,
     "metadata": {},
     "output_type": "execute_result"
    }
   ],
   "source": [
    "pred_thickness=[]\n",
    "new_pred_thickness=[]\n",
    "inputs=np.array([])\n",
    "new_inputs=np.array([])\n",
    "for i in y_test['final_thickness']:\n",
    "    #predicciones con mallado\n",
    "    diferencias_absolutas = np.abs(pred - i)\n",
    "    indice_valor_minimo = np.argmin(diferencias_absolutas)\n",
    "    valor_mas_cercano = pred[indice_valor_minimo]\n",
    "    pred_thickness.append(valor_mas_cercano)\n",
    "    #predicciones solo con las del modelo\n",
    "    '''\n",
    "    new_diferencias_absolutas = np.abs(new_pred - i)\n",
    "    new_indice_valor_minimo = np.argmin(new_diferencias_absolutas)\n",
    "    new_valor_mas_cercano = new_pred[new_indice_valor_minimo]\n",
    "    new_pred_thickness.append(new_valor_mas_cercano)'''\n",
    "    if inputs.size == 0:\n",
    "        inputs = comb_scalated[indice_valor_minimo]\n",
    "    else:\n",
    "        inputs = np.vstack((inputs, comb_scalated[indice_valor_minimo]))\n",
    "    '''\n",
    "    if new_inputs.size == 0:\n",
    "        new_inputs = x_input_outlier_filter.values[new_indice_valor_minimo,]\n",
    "    else:\n",
    "        new_inputs = np.vstack((new_inputs, x_input_outlier_filter.values[new_indice_valor_minimo,]))'''\n",
    "    \n",
    "    \n",
    "inputs_rescaled = scaler_outlier.inverse_transform(inputs)\n",
    "pred_V=inputs_rescaled[:,0]\n",
    "pred_H=inputs_rescaled[:,1]\n",
    "pred_R=inputs_rescaled[:,2]\n",
    "'''\n",
    "new_pred_V=new_inputs[:,0]\n",
    "new_pred_H=new_inputs[:,1]\n",
    "new_pred_R=new_inputs[:,2]'''"
   ]
  },
  {
   "cell_type": "code",
   "execution_count": 133,
   "metadata": {},
   "outputs": [],
   "source": [
    "def find_real_thickness_from_inputs(dataV,dataH,dataR):\n",
    "    real_T=np.array([])\n",
    "    len=dataV.shape[0]\n",
    "    for i in range(0,len):\n",
    "        try:\n",
    "            real_T=np.append(real_T,np.round(x_input_outlier_filter[(x_input_outlier_filter['Voltage']==dataV[i]) \n",
    "                                                                    & (x_input_outlier_filter['holding_time']==dataH[i])\n",
    "                                                                    & (x_input_outlier_filter['ramp_time']==dataR[i])].final_thickness.iloc[0],6))\n",
    "        except:\n",
    "            real_T=np.append(real_T,'Nan')\n",
    "    \n",
    "    return real_T\n",
    "real_thickness_=find_real_thickness_from_inputs(pred_V,pred_H,pred_R)\n",
    "de_real_thickness_=pd.DataFrame({'real_thickness_pred':real_thickness_})"
   ]
  },
  {
   "cell_type": "markdown",
   "metadata": {},
   "source": [
    "Seguido de esto obtenemos un dataframe donde se tienen los datos reales (Real_Thickness),  los predichos (Pred_Thickness) y los espesores Reales  relacionados con los inputs predichos(real_thickness_pred), es decir, con los inputs predichos obtener el espesor real correspondiente. Debido a esto, es posible que haya inputs que no tienen ningun  espesor real asociado (Nan) ya que hemos generado más inputs en el mallado que los que teneiamos en el dataframe original."
   ]
  },
  {
   "cell_type": "code",
   "execution_count": 134,
   "metadata": {},
   "outputs": [
    {
     "data": {
      "text/html": [
       "<div>\n",
       "<style scoped>\n",
       "    .dataframe tbody tr th:only-of-type {\n",
       "        vertical-align: middle;\n",
       "    }\n",
       "\n",
       "    .dataframe tbody tr th {\n",
       "        vertical-align: top;\n",
       "    }\n",
       "\n",
       "    .dataframe thead th {\n",
       "        text-align: right;\n",
       "    }\n",
       "</style>\n",
       "<table border=\"1\" class=\"dataframe\">\n",
       "  <thead>\n",
       "    <tr style=\"text-align: right;\">\n",
       "      <th></th>\n",
       "      <th>Real_Thickness</th>\n",
       "      <th>Real_V</th>\n",
       "      <th>Real_Holding</th>\n",
       "      <th>Real_Ramp</th>\n",
       "      <th>Pred_Thickness</th>\n",
       "      <th>Pred_V</th>\n",
       "      <th>Pred_H</th>\n",
       "      <th>Pred_R</th>\n",
       "      <th>real_thickness_pred</th>\n",
       "    </tr>\n",
       "  </thead>\n",
       "  <tbody>\n",
       "    <tr>\n",
       "      <th>0</th>\n",
       "      <td>1.204514</td>\n",
       "      <td>14.0</td>\n",
       "      <td>20.0</td>\n",
       "      <td>30.0</td>\n",
       "      <td>1.045086</td>\n",
       "      <td>20.0</td>\n",
       "      <td>1.0</td>\n",
       "      <td>30.0</td>\n",
       "      <td>Nan</td>\n",
       "    </tr>\n",
       "    <tr>\n",
       "      <th>1</th>\n",
       "      <td>2.131578</td>\n",
       "      <td>14.0</td>\n",
       "      <td>10.0</td>\n",
       "      <td>60.0</td>\n",
       "      <td>2.214546</td>\n",
       "      <td>14.0</td>\n",
       "      <td>10.0</td>\n",
       "      <td>60.0</td>\n",
       "      <td>2.071278</td>\n",
       "    </tr>\n",
       "    <tr>\n",
       "      <th>2</th>\n",
       "      <td>5.620625</td>\n",
       "      <td>18.0</td>\n",
       "      <td>20.0</td>\n",
       "      <td>30.0</td>\n",
       "      <td>5.559935</td>\n",
       "      <td>18.0</td>\n",
       "      <td>20.0</td>\n",
       "      <td>30.0</td>\n",
       "      <td>5.585625</td>\n",
       "    </tr>\n",
       "    <tr>\n",
       "      <th>3</th>\n",
       "      <td>0.322583</td>\n",
       "      <td>16.0</td>\n",
       "      <td>0.0</td>\n",
       "      <td>60.0</td>\n",
       "      <td>0.340236</td>\n",
       "      <td>18.0</td>\n",
       "      <td>0.0</td>\n",
       "      <td>30.0</td>\n",
       "      <td>Nan</td>\n",
       "    </tr>\n",
       "    <tr>\n",
       "      <th>4</th>\n",
       "      <td>4.609431</td>\n",
       "      <td>20.0</td>\n",
       "      <td>10.0</td>\n",
       "      <td>60.0</td>\n",
       "      <td>4.659193</td>\n",
       "      <td>20.0</td>\n",
       "      <td>10.0</td>\n",
       "      <td>30.0</td>\n",
       "      <td>4.86599</td>\n",
       "    </tr>\n",
       "    <tr>\n",
       "      <th>5</th>\n",
       "      <td>5.201987</td>\n",
       "      <td>18.0</td>\n",
       "      <td>20.0</td>\n",
       "      <td>60.0</td>\n",
       "      <td>5.177694</td>\n",
       "      <td>22.0</td>\n",
       "      <td>10.0</td>\n",
       "      <td>60.0</td>\n",
       "      <td>5.299197</td>\n",
       "    </tr>\n",
       "    <tr>\n",
       "      <th>6</th>\n",
       "      <td>7.416156</td>\n",
       "      <td>20.0</td>\n",
       "      <td>20.0</td>\n",
       "      <td>30.0</td>\n",
       "      <td>7.164539</td>\n",
       "      <td>20.0</td>\n",
       "      <td>20.0</td>\n",
       "      <td>30.0</td>\n",
       "      <td>7.344823</td>\n",
       "    </tr>\n",
       "    <tr>\n",
       "      <th>7</th>\n",
       "      <td>3.496175</td>\n",
       "      <td>22.0</td>\n",
       "      <td>5.0</td>\n",
       "      <td>60.0</td>\n",
       "      <td>3.555502</td>\n",
       "      <td>14.0</td>\n",
       "      <td>20.0</td>\n",
       "      <td>30.0</td>\n",
       "      <td>1.204514</td>\n",
       "    </tr>\n",
       "    <tr>\n",
       "      <th>8</th>\n",
       "      <td>4.911066</td>\n",
       "      <td>16.0</td>\n",
       "      <td>20.0</td>\n",
       "      <td>60.0</td>\n",
       "      <td>5.003940</td>\n",
       "      <td>16.0</td>\n",
       "      <td>20.0</td>\n",
       "      <td>60.0</td>\n",
       "      <td>5.063653</td>\n",
       "    </tr>\n",
       "    <tr>\n",
       "      <th>9</th>\n",
       "      <td>7.344823</td>\n",
       "      <td>20.0</td>\n",
       "      <td>20.0</td>\n",
       "      <td>30.0</td>\n",
       "      <td>7.164539</td>\n",
       "      <td>20.0</td>\n",
       "      <td>20.0</td>\n",
       "      <td>30.0</td>\n",
       "      <td>7.344823</td>\n",
       "    </tr>\n",
       "  </tbody>\n",
       "</table>\n",
       "</div>"
      ],
      "text/plain": [
       "   Real_Thickness  Real_V  Real_Holding  Real_Ramp  Pred_Thickness  Pred_V  \\\n",
       "0        1.204514    14.0          20.0       30.0        1.045086    20.0   \n",
       "1        2.131578    14.0          10.0       60.0        2.214546    14.0   \n",
       "2        5.620625    18.0          20.0       30.0        5.559935    18.0   \n",
       "3        0.322583    16.0           0.0       60.0        0.340236    18.0   \n",
       "4        4.609431    20.0          10.0       60.0        4.659193    20.0   \n",
       "5        5.201987    18.0          20.0       60.0        5.177694    22.0   \n",
       "6        7.416156    20.0          20.0       30.0        7.164539    20.0   \n",
       "7        3.496175    22.0           5.0       60.0        3.555502    14.0   \n",
       "8        4.911066    16.0          20.0       60.0        5.003940    16.0   \n",
       "9        7.344823    20.0          20.0       30.0        7.164539    20.0   \n",
       "\n",
       "   Pred_H  Pred_R real_thickness_pred  \n",
       "0     1.0    30.0                 Nan  \n",
       "1    10.0    60.0            2.071278  \n",
       "2    20.0    30.0            5.585625  \n",
       "3     0.0    30.0                 Nan  \n",
       "4    10.0    30.0             4.86599  \n",
       "5    10.0    60.0            5.299197  \n",
       "6    20.0    30.0            7.344823  \n",
       "7    20.0    30.0            1.204514  \n",
       "8    20.0    60.0            5.063653  \n",
       "9    20.0    30.0            7.344823  "
      ]
     },
     "execution_count": 134,
     "metadata": {},
     "output_type": "execute_result"
    }
   ],
   "source": [
    "inverse_pred=pd.DataFrame({'Pred_Thickness':pred_thickness,'Pred_V':pred_V,'Pred_H':pred_H,'Pred_R':pred_R})\n",
    "real_inputs=scaler_outlier.inverse_transform(X_test[:])\n",
    "inverse_REAL=pd.DataFrame({'Real_Thickness':y_test['final_thickness'],'Real_V':real_inputs[:,0],'Real_Holding':real_inputs[:,1]\n",
    "                                       ,'Real_Ramp':real_inputs[:,2]}).reset_index(drop=True)\n",
    "inverse_comparacion = pd.concat([inverse_REAL, inverse_pred,de_real_thickness_], axis=1)#,inverse_new_pred\n",
    "inverse_comparacion.head(10)"
   ]
  },
  {
   "cell_type": "markdown",
   "metadata": {},
   "source": [
    "Vemos que comparando con los resultados reales hay resultados muy similares aunque los inputs no sean los mismos\n",
    "con distinto input se pueden obtener espesores finales muy similares"
   ]
  },
  {
   "cell_type": "code",
   "execution_count": 93,
   "metadata": {},
   "outputs": [
    {
     "name": "stdout",
     "output_type": "stream",
     "text": [
      "    final_thickness  Voltage  holding_time  ramp_time\n",
      "81         1.193854       20           1.0         60\n",
      "82         1.060354       20           1.0         60\n",
      "83         0.926854       20           1.0         60\n"
     ]
    }
   ],
   "source": [
    "print(x_input_outlier_filter[(x_input_outlier_filter['Voltage']==20.0) & (x_input_outlier_filter['holding_time']==1.0)& (x_input_outlier_filter['ramp_time']==60.0)])\n",
    "#vemos que comparando con los resultados reales (en vez de ramp 30 ponemos 60 porque no hay valores de 30) hay resultados muy similares aunque los inputs no sean los mismos\n",
    "#con distinto input se pueden obtener espesores finales muy similares"
   ]
  }
 ],
 "metadata": {
  "kernelspec": {
   "display_name": "Python 3",
   "language": "python",
   "name": "python3"
  },
  "language_info": {
   "codemirror_mode": {
    "name": "ipython",
    "version": 3
   },
   "file_extension": ".py",
   "mimetype": "text/x-python",
   "name": "python",
   "nbconvert_exporter": "python",
   "pygments_lexer": "ipython3",
   "version": "3.10.13"
  }
 },
 "nbformat": 4,
 "nbformat_minor": 2
}
